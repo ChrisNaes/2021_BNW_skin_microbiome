{
 "cells": [
  {
   "cell_type": "markdown",
   "metadata": {},
   "source": [
    "# Preprocessing"
   ]
  },
  {
   "cell_type": "code",
   "execution_count": null,
   "metadata": {},
   "outputs": [],
   "source": [
    "conda activate qiime2-2021.2"
   ]
  },
  {
   "cell_type": "raw",
   "metadata": {},
   "source": [
    "# activate qiime2-2021.2 environment"
   ]
  },
  {
   "cell_type": "code",
   "execution_count": 2,
   "metadata": {},
   "outputs": [],
   "source": [
    "mkdir 2021_BNW_skin\n",
    "mkdir 16SV4_all\n",
    "cd 16SV4_all"
   ]
  },
  {
   "cell_type": "raw",
   "metadata": {},
   "source": [
    "# create working folder"
   ]
  },
  {
   "cell_type": "code",
   "execution_count": null,
   "metadata": {},
   "outputs": [],
   "source": [
    "qiime tools import \\\n",
    "  --type 'SampleData[PairedEndSequencesWithQuality]' \\ \n",
    "  --input-path /Users/christinanaesborg/Desktop/Raw_Samples/16SV4_BNW/Collected \\\n",
    "  --input-format CasavaOneEightSingleLanePerSampleDirFmt \\\n",
    "  --output-path demux.qza"
   ]
  },
  {
   "cell_type": "raw",
   "metadata": {},
   "source": [
    "# import files into 16SV4 folder. Output file: demux.qza"
   ]
  },
  {
   "cell_type": "code",
   "execution_count": null,
   "metadata": {},
   "outputs": [],
   "source": [
    "qiime demux summarize \\\n",
    "  --i-data demux.qza \\\n",
    "  --o-visualization demux.qzv\n",
    "\n",
    "qiime tools view demux.qzv"
   ]
  },
  {
   "cell_type": "raw",
   "metadata": {},
   "source": [
    "# create file for visualisation. Output file: demux.qzv. Visualise on https://view-qiime2.org or if on mac see code below"
   ]
  },
  {
   "cell_type": "raw",
   "metadata": {},
   "source": [
    "# Forward reads were of good quality, so we truncated it at position 240. Reverse reads were of lesser quality, therefore we truncated at position 160 were it crashed in quality."
   ]
  },
  {
   "cell_type": "markdown",
   "metadata": {},
   "source": []
  },
  {
   "cell_type": "raw",
   "metadata": {},
   "source": [
    "qiime dada2 denoise-paired \\\n",
    "  --i-demultiplexed-seqs demux.qza \\ \n",
    "  --p-trim-left-f 0 \\\n",
    "  --p-trim-left-r 0 \\\n",
    "  --p-trunc-len-f 240 \\\n",
    "  --p-trunc-len-r 160 \\\n",
    "  --o-representative-sequences BNW-skin-rep-seqs.qza \\\n",
    "  --o-table BNW-skin-table.qza \\\n",
    "  --o-denoising-stats BNW-skin-stats-dada2.qza\\\n",
    "  --p-n-threads 2 "
   ]
  },
  {
   "cell_type": "raw",
   "metadata": {},
   "source": [
    "# dada2 is used to trim low quality bp, generated feature table and representative sequences. Output files:\n",
    "Saved FeatureTable[Frequency] to BNW-skin-table.qza\n",
    "Saved FeatureData[Sequence] to BNW-skin-rep-seqs.qza\n",
    "Saved DenoiseStats to BNW-skin-stats-dada2.qza"
   ]
  },
  {
   "cell_type": "code",
   "execution_count": null,
   "metadata": {},
   "outputs": [],
   "source": [
    "qiime metadata tabulate \n",
    "--m-input-file BNW-skin-stats-dada2.qza \n",
    "--o-visualization reports/BNW-skin-stats-dada2.qzv\n",
    "qiime feature-table summarize \n",
    "--i-table BNW-skin-table.qza \n",
    "--o-visualization reports/BNW-skin-table.qzv\n",
    "qiime feature-table tabulate-seqs \n",
    "--i-data BNW-skin-rep-seqs.qza \n",
    "--o-visualization reports/BNW-skin-rep-seqs.qzv"
   ]
  },
  {
   "cell_type": "raw",
   "metadata": {},
   "source": [
    "# create visualisation files for all new .qza files"
   ]
  },
  {
   "cell_type": "code",
   "execution_count": null,
   "metadata": {},
   "outputs": [],
   "source": [
    "# since sample id were only numbers, I had to reindex. Otherwise I would have incountered problems later on\n",
    "qiime feature-table group \\\n",
    "  --i-table BNW-skin-table.qza \\\n",
    "  --p-axis sample \\\n",
    "  --m-metadata-file BNW-skin-metadata.tsv \\\n",
    "  --m-metadata-column SampleID-new \\\n",
    "  --p-mode sum \\\n",
    "  --o-grouped-table BNW-skin-reindexed-table.qza"
   ]
  },
  {
   "cell_type": "code",
   "execution_count": null,
   "metadata": {},
   "outputs": [],
   "source": [
    "qiime feature-table summarize \\\n",
    "  --i-table BNW-skin-reindexed-table.qza \\\n",
    "  --m-sample-metadata-file BNW-skin-metadata.tsv \\\n",
    "  --o-visualization BNW-skin-reindexed-table.qzv"
   ]
  },
  {
   "cell_type": "markdown",
   "metadata": {},
   "source": [
    "# SILVA database"
   ]
  },
  {
   "cell_type": "code",
   "execution_count": null,
   "metadata": {},
   "outputs": [],
   "source": [
    "# import Qiime2 artifacts\n",
    "qiime tools import \\\n",
    "  --type 'FeatureData[Sequence]' \\\n",
    "  --input-path /Users/christinanaesborg/Desktop/SILVA_132_QIIME_release/rep_set/rep_set_16S_only/99/silva_132_99_16S.fna  \\\n",
    "  --output-path silva_99_otus.qza"
   ]
  },
  {
   "cell_type": "code",
   "execution_count": null,
   "metadata": {},
   "outputs": [],
   "source": [
    "qiime tools import \\\n",
    "  --type 'FeatureData[Taxonomy]' \\\n",
    "  --input-format HeaderlessTSVTaxonomyFormat \\\n",
    "  --input-path /Users/christinanaesborg/Desktop/SILVA_132_QIIME_release/taxonomy/16S_only/99/taxonomy_all_levels.txt  \\        \n",
    "  --output-path silva_99_ref-taxonomy.qza"
   ]
  },
  {
   "cell_type": "raw",
   "metadata": {},
   "source": [
    "# output files: silva_99_otus.qza silva_99_ref-taxonomy.qza"
   ]
  },
  {
   "cell_type": "code",
   "execution_count": null,
   "metadata": {},
   "outputs": [],
   "source": [
    "# extract reference reads\n",
    "qiime feature-classifier extract-reads \\\n",
    "  --i-sequences silva_99_otus.qza \\\n",
    "  --p-f-primer GTGCCAGCMGCCGCGGTAA \\\n",
    "  --p-r-primer GGACTACHVGGGTWTCTAAT \\\n",
    "  --p-trunc-len 120 \\\n",
    "  --p-min-length 100 \\\n",
    "  --p-max-length 400 \\\n",
    "  --o-reads silva_ref-seqs.qza"
   ]
  },
  {
   "cell_type": "raw",
   "metadata": {},
   "source": [
    "# output file: silva_ref-seqs.qza"
   ]
  },
  {
   "cell_type": "code",
   "execution_count": null,
   "metadata": {},
   "outputs": [],
   "source": [
    "# train naive bayes classifier\n",
    "qiime feature-classifier fit-classifier-naive-bayes \\\n",
    "  --i-reference-reads silva_ref-seqs.qza \\\n",
    "  --i-reference-taxonomy silva_99_ref-taxonomy.qza \\\n",
    "  --o-classifier silva_132_99_classifier.qza"
   ]
  },
  {
   "cell_type": "raw",
   "metadata": {},
   "source": [
    "# output file: silva_132_99_classifier.qza"
   ]
  },
  {
   "cell_type": "raw",
   "metadata": {},
   "source": [
    "# Assign taxonomy"
   ]
  },
  {
   "cell_type": "code",
   "execution_count": null,
   "metadata": {},
   "outputs": [],
   "source": [
    "qiime feature-classifier classify-sklearn \\\n",
    "  --i-classifier silva_132_99_classifier.qza \\\n",
    "  --i-reads BNW-skin-rep-seqs.qza \\\n",
    "  --o-classification BNW-skin-silva-132.qza"
   ]
  },
  {
   "cell_type": "code",
   "execution_count": null,
   "metadata": {},
   "outputs": [],
   "source": [
    "qiime metadata tabulate \\\n",
    "--m-input-file BNW-skin-silva-132.qza \\\n",
    "--o-visualization BNW-skin-silva-132.qzv"
   ]
  },
  {
   "cell_type": "raw",
   "metadata": {},
   "source": [
    "# Can take a few hours to run. Output files: BNW-skin-silva-132.qza BNW-skin-silva-132.qzv"
   ]
  },
  {
   "cell_type": "code",
   "execution_count": null,
   "metadata": {},
   "outputs": [],
   "source": [
    "qiime fragment-insertion sepp \\\n",
    "--i-representative-sequences BNW-skin-rep-seqs.qza \\\n",
    "--i-reference-database sepp-refs-silva-128.qza \\\n",
    "--o-tree BNW-skin-sepp-tree.qza \\\n",
    "--o-placements BNW-skin-sepp-placements.qza \\\n",
    "--verbose \\\n",
    "--p-threads 2"
   ]
  },
  {
   "cell_type": "raw",
   "metadata": {},
   "source": [
    "# Create phylogenetic tree using sepp. Took a couple of days to run. Output files: BNW-skin-sepp-tree.qza BNW-skin-sepp-placements.qza"
   ]
  },
  {
   "cell_type": "code",
   "execution_count": null,
   "metadata": {},
   "outputs": [],
   "source": [
    "qiime fragment-insertion filter-features \\\n",
    "  --i-table BNW-skin-table.qza \\\n",
    "  --i-tree BNW-skin-sepp-tree.qza \\\n",
    "  --o-filtered-table BNW-skin-filtered_table.qza \\\n",
    "  --o-removed-table BNW-skin-removed_table.qza \\\n",
    "  --verbose"
   ]
  },
  {
   "cell_type": "raw",
   "metadata": {},
   "source": [
    "# filter out features that couldn't be inserted on the tree. Output files: BNW-skin-filtered_table.qza BNW-skin-removed_table.qza"
   ]
  },
  {
   "cell_type": "code",
   "execution_count": null,
   "metadata": {},
   "outputs": [],
   "source": [
    "qiime feature-table summarize \\\n",
    "--i-table BNW-skin-removed_table.qza \\\n",
    "--o-visualization BNW-skin-removed_table.qzv"
   ]
  },
  {
   "cell_type": "raw",
   "metadata": {},
   "source": [
    "# visualise table. Output files: BNW-skin-removed_table.qzv"
   ]
  },
  {
   "cell_type": "markdown",
   "metadata": {},
   "source": [
    "Looks like nothing was removed, so will just use the unfiltered table (BNW-skin-table.qza) for subsequent analyses"
   ]
  },
  {
   "cell_type": "code",
   "execution_count": null,
   "metadata": {},
   "outputs": [],
   "source": [
    "qiime diversity alpha-rarefaction \\\n",
    "--i-table BNW-skin-reindexed-table.qza \\\n",
    "--m-metadata-file /Users/christinanaesborg/Desktop/Microbiome/BNW-skin-metadata.tsv   \\\n",
    "--o-visualization BNW-skin-reindexed-table-rarefaction.qzv \\\n",
    "--p-min-depth 500 \\\n",
    "--p-max-depth 50000\n",
    "\n",
    "# output: BNW-skin-reindexed-table-rarefaction.qzv"
   ]
  },
  {
   "cell_type": "raw",
   "metadata": {},
   "source": [
    "# Plateaus around 25K reads"
   ]
  },
  {
   "cell_type": "code",
   "execution_count": null,
   "metadata": {},
   "outputs": [],
   "source": [
    "qiime feature-table filter-samples \\\n",
    "--i-table BNW-skin-reindexed-table.qza \\\n",
    "--m-metadata-file BNW-skin-metadata.tsv \\\n",
    "--p-min-frequency 12201 \\\n",
    "--o-filtered-table BNW-table-atleast-12201-reads.qza"
   ]
  },
  {
   "cell_type": "code",
   "execution_count": null,
   "metadata": {},
   "outputs": [],
   "source": [
    "qiime feature-table summarize \\\n",
    "--i-table BNW-table-atleast-12201-reads.qza \\\n",
    "--o-visualization BNW-table-atleast-12201-reads.qzv"
   ]
  },
  {
   "cell_type": "markdown",
   "metadata": {},
   "source": [
    "# Taxa barplots"
   ]
  },
  {
   "cell_type": "code",
   "execution_count": null,
   "metadata": {},
   "outputs": [],
   "source": [
    "qiime taxa barplot \\\n",
    "--i-table BNW-table-atleast-12201-reads.qza \\\n",
    "--i-taxonomy BNW-skin-silva-132.qza \\\n",
    "--m-metadata-file BNW-skin-metadata.txt \\\n",
    "--o-visualization BNW-table-atleast-12201-reads-BARPLOT-PER-SAMPLE.qzv"
   ]
  },
  {
   "cell_type": "code",
   "execution_count": null,
   "metadata": {},
   "outputs": [],
   "source": [
    "qiime feature-table group \\\n",
    "--i-table BNW-table-atleast-12201-reads.qza \\\n",
    "--m-metadata-file BNW-skin-metadata.txt \\\n",
    "--m-metadata-column infectionstatus \\\n",
    "--p-mode mean-ceiling \\\n",
    "--p-axis sample \\\n",
    "--o-grouped-table BNW-table-atleast-12201-reads-INFECTION-STATUS.qza"
   ]
  },
  {
   "cell_type": "code",
   "execution_count": null,
   "metadata": {},
   "outputs": [],
   "source": [
    "qiime taxa barplot \\\n",
    "--i-table BNW-table-atleast-12201-reads-INFECTION-STATUS.qza \\\n",
    "--i-taxonomy BNW-skin-silva-132.qza \\\n",
    "--m-metadata-file BNW-skin-metadata-infection.txt \\\n",
    "--o-visualization BNW-table-atleast-12201-reads-INFECTION-STATUS-BARPLOT.qzv"
   ]
  },
  {
   "cell_type": "code",
   "execution_count": null,
   "metadata": {},
   "outputs": [],
   "source": [
    "qiime feature-table group \\\n",
    "--i-table BNW-table-atleast-12201-reads.qza \\\n",
    "--m-metadata-file BNW-skin-metadata.txt \\\n",
    "--m-metadata-column bodysite \\\n",
    "--p-mode mean-ceiling \\\n",
    "--p-axis sample \\\n",
    "--o-grouped-table BNW-table-atleast-12201-reads-BODY-SITE.qza"
   ]
  },
  {
   "cell_type": "code",
   "execution_count": null,
   "metadata": {},
   "outputs": [],
   "source": [
    "qiime taxa barplot \\\n",
    "--i-table BNW-table-atleast-12201-reads-BODY-SITE.qza \\\n",
    "--i-taxonomy BNW-skin-silva-132.qza \\\n",
    "--m-metadata-file BNW-skin-metadata-BS.txt \\\n",
    "--o-visualization BNW-table-atleast-12201-reads-BODY-SITE-BARPLOT.qzv"
   ]
  },
  {
   "cell_type": "code",
   "execution_count": null,
   "metadata": {},
   "outputs": [],
   "source": [
    "qiime feature-table group \\\n",
    "--i-table BNW-table-atleast-12201-reads.qza \\\n",
    "--m-metadata-file BNW-skin-metadata.txt \\\n",
    "--m-metadata-column wombatid \\\n",
    "--p-mode mean-ceiling \\\n",
    "--p-axis sample \\\n",
    "--o-grouped-table BNW-table-atleast-12201-reads-WOMBAT.qza"
   ]
  },
  {
   "cell_type": "code",
   "execution_count": null,
   "metadata": {},
   "outputs": [],
   "source": [
    "qiime taxa barplot \\\n",
    "--i-table BNW-table-atleast-12201-reads-WOMBAT.qza \\\n",
    "--i-taxonomy BNW-skin-silva-132.qza \\\n",
    "--m-metadata-file BNW-skin-metadata-WOM.txt \\\n",
    "--o-visualization BNW-table-atleast-12201-reads-WOMBAT-BARPLOT.qzv"
   ]
  },
  {
   "cell_type": "markdown",
   "metadata": {},
   "source": [
    "# Alpha/Beta diversity"
   ]
  },
  {
   "cell_type": "code",
   "execution_count": null,
   "metadata": {},
   "outputs": [],
   "source": [
    "qiime phylogeny align-to-tree-mafft-fasttree \\\n",
    "  --i-sequences BNW-skin-rep-seqs.qza \\\n",
    "  --o-alignment silva-aligned-rep-seqs.qza \\\n",
    "  --o-masked-alignment silva-masked-aligned-rep-seqs.qza \\\n",
    "  --o-tree silva-unrooted-tree.qza \\\n",
    "  --o-rooted-tree silva-rooted-tree.qza"
   ]
  },
  {
   "cell_type": "code",
   "execution_count": null,
   "metadata": {},
   "outputs": [],
   "source": [
    "qiime diversity core-metrics-phylogenetic \\\n",
    "  --i-phylogeny silva-rooted-tree.qza \\\n",
    "  --i-table BNW-skin-reindex-table.qza \\\n",
    "  --p-sampling-depth 12201 \\\n",
    "  --m-metadata-file /Users/christinanaesborg/Desktop/Microbiome/BNW-skin-metadata.tsv  \\\n",
    "  --output-dir silva-core-metrics"
   ]
  },
  {
   "cell_type": "code",
   "execution_count": null,
   "metadata": {},
   "outputs": [],
   "source": [
    "# alpha diversity\n",
    "qiime diversity alpha-group-significance \\\n",
    "  --i-alpha-diversity silva-core-metrics/faith_pd_vector.qza \\\n",
    "  --m-metadata-file BNW-skin-metadata.tsv \\\n",
    "  --o-visualization silva-core-metrics/faith-pd-group-significance.qzv"
   ]
  },
  {
   "cell_type": "code",
   "execution_count": null,
   "metadata": {},
   "outputs": [],
   "source": [
    "# alpha diversity\n",
    "qiime diversity alpha-group-significance \\\n",
    "  --i-alpha-diversity silva-core-metrics/evenness_vector.qza \\\n",
    "  --m-metadata-file BNW-skin-metadata.tsv \\\n",
    "  --o-visualization silva-core-metrics/evenness-group-significance.qzv"
   ]
  },
  {
   "cell_type": "code",
   "execution_count": null,
   "metadata": {},
   "outputs": [],
   "source": [
    "# beta diversity - between body sites\n",
    "qiime diversity beta-group-significance \\\n",
    "  --i-distance-matrix silva-core-metrics/unweighted_unifrac_distance_matrix.qza \\\n",
    "  --m-metadata-file BNW-skin-metadata.tsv \\\n",
    "  --m-metadata-column bodysite \\\n",
    "  --o-visualization silva-core-metrics/unweighted-unifrac-body-site-significance.qzv \\\n",
    "  --p-pairwise"
   ]
  },
  {
   "cell_type": "code",
   "execution_count": null,
   "metadata": {},
   "outputs": [],
   "source": [
    "# beta diversity - between wombats\n",
    "qiime diversity beta-group-significance \\\n",
    "  --i-distance-matrix silva-core-metrics/unweighted_unifrac_distance_matrix.qza \\\n",
    "  --m-metadata-file BNW-skin-metadata.tsv \\\n",
    "  --m-metadata-column wombatid \\\n",
    "  --o-visualization silva-core-metrics/unweighted-unifrac-subject-group-significance.qzv \\\n",
    "  --p-pairwise"
   ]
  },
  {
   "cell_type": "code",
   "execution_count": null,
   "metadata": {},
   "outputs": [],
   "source": [
    "# beta diversity - infection status\n",
    "qiime diversity beta-group-significance \\\n",
    "  --i-distance-matrix silva-core-metrics/unweighted_unifrac_distance_matrix.qza \\\n",
    "  --m-metadata-file BNW-skin-metadata.txt \\\n",
    "  --m-metadata-column infectionstatus \\\n",
    "  --o-visualization silva-core-metrics/unweighted-unifrac-infection-status-significance.qzv \\\n",
    "  --p-pairwise"
   ]
  },
  {
   "cell_type": "code",
   "execution_count": null,
   "metadata": {},
   "outputs": [],
   "source": [
    "qiime metadata tabulate \\\n",
    "  --m-input-file BNW-skin-metadata.tsv \\\n",
    "  --m-input-file faith_pd_vector.qza observed_features.qza\\\n",
    "  --o-visualization reindexed-tabulated-combined-metadata.qzv"
   ]
  },
  {
   "cell_type": "markdown",
   "metadata": {},
   "source": [
    "# Export files to analyse in R"
   ]
  },
  {
   "cell_type": "code",
   "execution_count": null,
   "metadata": {},
   "outputs": [],
   "source": [
    "# export unrooted tree\n",
    "qiime tools export \\\n",
    "--input-path BNW-skin-sepp-tree.qza \\\n",
    "--output-path /Users/christinanaesborg/Desktop/Microbiome"
   ]
  },
  {
   "cell_type": "code",
   "execution_count": null,
   "metadata": {},
   "outputs": [],
   "source": [
    "# export taxonomy\n",
    "qiime tools export \\\n",
    "--input-path BNW-skin-silva-132.qza \\\n",
    "--output-path /Users/christinanaesborg/Desktop/Microbiome"
   ]
  },
  {
   "cell_type": "code",
   "execution_count": null,
   "metadata": {},
   "outputs": [],
   "source": [
    "# export filtered table\n",
    "qiime tools export \\\n",
    "--input-path BNW-table-atleast-12336-reads.qza \\\n",
    "--output-path /Users/christinanaesborg/Desktop/Microbiome"
   ]
  },
  {
   "cell_type": "code",
   "execution_count": null,
   "metadata": {},
   "outputs": [],
   "source": [
    "qiime tools export \\\n",
    "--input-path observed_features.qza \\\n",
    "--output-path /Users/christinanaesborg/Desktop/Microbiome"
   ]
  },
  {
   "cell_type": "code",
   "execution_count": null,
   "metadata": {},
   "outputs": [],
   "source": [
    "# Following script will change the first line of our file to desired header\n",
    "sed 's/Feature ID/#OTUID/' /Users/christinanaesborg/Desktop/Microbiome/taxonomy.tsv | sed 's/Taxon/taxonomy/' | sed 's/Confidence/confidence/' > /Users/christinanaesborg/Desktop/Microbiome/biom-taxonomy.tsv"
   ]
  },
  {
   "cell_type": "code",
   "execution_count": null,
   "metadata": {},
   "outputs": [],
   "source": [
    "biom add-metadata \\\n",
    "-i /Users/christinanaesborg/Desktop/Microbiome/feature-table.biom \\\n",
    "-o /Users/christinanaesborg/Desktop/Microbiome/table-with-taxonomyv2.biom \\\n",
    "--observation-metadata-fp /Users/christinanaesborg/Desktop/Microbiome/biom-taxonomy.tsv \\\n",
    "--sc-separated taxonomy"
   ]
  },
  {
   "cell_type": "code",
   "execution_count": null,
   "metadata": {},
   "outputs": [],
   "source": [
    "qiime tools export \n",
    "--input-path faiths-pd-vector.qza \n",
    "--output-path /Users/christinanaesborg/Desktop/Microbiome/QIIME2_outputs/16S"
   ]
  },
  {
   "cell_type": "markdown",
   "metadata": {},
   "source": [
    "# GreenGenes database - we ended up using SILVA in the final analysis"
   ]
  },
  {
   "cell_type": "code",
   "execution_count": null,
   "metadata": {},
   "outputs": [],
   "source": [
    "qiime tools import \\\n",
    "  --type 'FeatureData[Sequence]' \\\n",
    "  --input-path /Users/christinanaesborg/Desktop/gg_13_8_otus/rep_set/99_otus.fasta  \\                            \n",
    "  --output-path gg-99_otus.qza"
   ]
  },
  {
   "cell_type": "code",
   "execution_count": null,
   "metadata": {},
   "outputs": [],
   "source": [
    "qiime tools import \\\n",
    "  --type 'FeatureData[Taxonomy]' \\\n",
    "  --input-format HeaderlessTSVTaxonomyFormat \\\n",
    "  --input-path /Users/christinanaesborg/Desktop/gg_13_8_otus/taxonomy/99_otu_taxonomy.txt  \\                             \n",
    "  --output-path gg-99_ref-taxonomy.qz"
   ]
  },
  {
   "cell_type": "raw",
   "metadata": {},
   "source": [
    "# import reference data (GreenGenes). Output files: gg-99_otus.qza and gg-99_ref-taxonomy.qza"
   ]
  },
  {
   "cell_type": "code",
   "execution_count": null,
   "metadata": {},
   "outputs": [],
   "source": [
    "qiime vsearch cluster-features-closed-reference \\\n",
    "  --i-table BNW-skin-table.qza \\\n",
    "  --i-sequences BNW-skin-rep-seqs.qza \\\n",
    "  --i-reference-sequences gg-99_otus.qza \\\n",
    "  --p-perc-identity 0.99 \\\n",
    "  --o-clustered-table gg-99_cluster-table.qza \\\n",
    "  --o-unmatched-sequences unmatched.qza \\\n",
    "  --o-clustered-sequences gg-99_rep.qz"
   ]
  },
  {
   "cell_type": "raw",
   "metadata": {},
   "source": [
    "# OTU picking. Output files: gg-99_cluster-table.qza gg-99_rep.qza unmatched.qza"
   ]
  },
  {
   "cell_type": "code",
   "execution_count": null,
   "metadata": {},
   "outputs": [],
   "source": [
    "# extract reference reads - primers are 515F/806R\n",
    "qiime feature-classifier extract-reads \\\n",
    "  --i-sequences gg-99_otus.qza \\\n",
    "  --p-f-primer GTGCCAGCMGCCGCGGTAA \\\n",
    "  --p-r-primer GGACTACHVGGGTWTCTAAT \\\n",
    "  --p-trunc-len 120 \\\n",
    "  --p-min-length 100 \\\n",
    "  --p-max-length 400 \\\n",
    "  --o-reads gg_ref-seqs.qza"
   ]
  },
  {
   "cell_type": "code",
   "execution_count": null,
   "metadata": {},
   "outputs": [],
   "source": [
    "# train naive bayes classifier\n",
    "qiime feature-classifier fit-classifier-naive-bayes \\\n",
    "  --i-reference-reads gg_ref-seqs.qza \\\n",
    "  --i-reference-taxonomy gg-99_ref-taxonomy.qza \\\n",
    "  --o-classifier gg-99_classifier.qza"
   ]
  },
  {
   "cell_type": "code",
   "execution_count": null,
   "metadata": {},
   "outputs": [],
   "source": [
    "qiime feature-classifier classify-sklearn \\\n",
    "  --i-classifier gg-99_classifier.qza \\\n",
    "  --i-reads BNW-skin-rep-seqs.qza \\\n",
    "  --o-classification BNW-skin-gg_138.qza"
   ]
  },
  {
   "cell_type": "code",
   "execution_count": null,
   "metadata": {},
   "outputs": [],
   "source": [
    "qiime metadata tabulate \\\n",
    "--m-input-file BNW-skin-gg_138.qza \\\n",
    "--o-visualization BNW-skin-gg_138.qzv"
   ]
  },
  {
   "cell_type": "code",
   "execution_count": null,
   "metadata": {},
   "outputs": [],
   "source": [
    "qiime fragment-insertion sepp \\\n",
    "--i-representative-sequences BNW-skin-rep-seqs.qza \\\n",
    "--i-reference-database /Users/christinanaesborg/Desktop/Microbiome_raw\\ samples/sepp-refs-gg-13-8.qza  \\              \n",
    "--o-tree BNW-skin-sepp-tree-gg.qza \\            \n",
    "--o-placements BNW-skin-sepp-placements-gg.qza \\\n",
    "--verbose \\  \n",
    "--p-threads 2"
   ]
  },
  {
   "cell_type": "raw",
   "metadata": {},
   "source": [
    "# Create phylogenetic tree using sepp. Might take a couple of days to run. Output files: BNW-skin-sepp-tree-gg.qza BNW-skin-sepp-placements-gg.qza"
   ]
  },
  {
   "cell_type": "code",
   "execution_count": null,
   "metadata": {},
   "outputs": [],
   "source": [
    "qiime fragment-insertion filter-features \\\n",
    "  --i-table BNW-skin-table.qza \\\n",
    "  --i-tree BNW-skin-sepp-tree-gg.qza \\\n",
    "  --o-filtered-table BNW-skin-filtered_table-gg.qza \\\n",
    "  --o-removed-table BNW-skin-removed_table-gg.qza \\\n",
    "  --verbose"
   ]
  },
  {
   "cell_type": "code",
   "execution_count": null,
   "metadata": {},
   "outputs": [],
   "source": [
    "qiime feature-table summarize \\\n",
    "--i-table BNW-skin-removed_table-gg.qza \\\n",
    "--o-visualization BNW-skin-removed_table-gg.qzv"
   ]
  },
  {
   "cell_type": "raw",
   "metadata": {},
   "source": [
    "# Visualise table. Looks like nothing was removed, so will just use the unfiltered table (BNW-skin-table.qza) for subsequent analyses"
   ]
  },
  {
   "cell_type": "code",
   "execution_count": null,
   "metadata": {},
   "outputs": [],
   "source": [
    "# alpha rarefaction\n",
    "qiime diversity alpha-rarefaction \\\n",
    "--i-table BNW-skin-table.qza \\\n",
    "--m-metadata-file /Users/christinanaesborg/Desktop/BNW-skin-metadata.txt   \\\n",
    "--o-visualization BNW-skin-table-rarefaction-gg.qzv \\\n",
    "--p-min-depth 500 \\\n",
    "--p-max-depth 50000\n",
    "\n",
    "# output: BNW-skin-table-rarefaction.qzv"
   ]
  },
  {
   "cell_type": "raw",
   "metadata": {},
   "source": [
    "# plateaus around 10K reads"
   ]
  },
  {
   "cell_type": "code",
   "execution_count": null,
   "metadata": {},
   "outputs": [],
   "source": [
    "# Generate phylogenetic tree for diversity analysis using mafft and fasttree\n",
    "qiime phylogeny align-to-tree-mafft-fasttree \\\n",
    "  --i-sequences BNW-skin-rep-seqs.qza \\\n",
    "  --o-alignment gg-aligned-rep-seqs.qza \\\n",
    "  --o-masked-alignment gg-masked-aligned-rep-seqs.qza \\\n",
    "  --o-tree gg-unrooted-tree.qza \\\n",
    "  --o-rooted-tree gg-rooted-tree.qza"
   ]
  },
  {
   "cell_type": "code",
   "execution_count": null,
   "metadata": {},
   "outputs": [],
   "source": [
    "qiime diversity core-metrics-phylogenetic \\\n",
    "  --i-phylogeny gg-rooted-tree.qza \\\n",
    "  --i-table BNW-skin-table.qza \\\n",
    "  --p-sampling-depth 12105 \\\n",
    "  --m-metadata-file /Users/christinanaesborg/Desktop/BNW-skin-metadata.tsv  \\\n",
    "  --output-dir gg-core-metrics-results"
   ]
  },
  {
   "cell_type": "raw",
   "metadata": {},
   "source": [
    "# generates a lot of files - has been placed in their own fold."
   ]
  },
  {
   "cell_type": "code",
   "execution_count": null,
   "metadata": {},
   "outputs": [],
   "source": [
    "# alpha diversity\n",
    "qiime diversity alpha-group-significance \\\n",
    "  --i-alpha-diversity gg-core-metrics-results/faith_pd_vector.qza \\\n",
    "  --m-metadata-file BNW-skin-metadata.txt \\\n",
    "  --o-visualization gg-core-metrics-results/faith-pd-group-significance.qzv"
   ]
  },
  {
   "cell_type": "code",
   "execution_count": null,
   "metadata": {},
   "outputs": [],
   "source": [
    "# alpha diversity\n",
    "qiime diversity alpha-group-significance \\\n",
    "  --i-alpha-diversity gg-core-metrics-results/evenness_vector.qza \\\n",
    "  --m-metadata-file BNW-skin-metadata.txt \\\n",
    "  --o-visualization gg-core-metrics-results/evenness-group-significance.qzv"
   ]
  },
  {
   "cell_type": "code",
   "execution_count": null,
   "metadata": {},
   "outputs": [],
   "source": [
    "# beta diversity - body site\n",
    "qiime diversity beta-group-significance \\\n",
    "  --i-distance-matrix gg-core-metrics-results/unweighted_unifrac_distance_matrix.qza \\\n",
    "  --m-metadata-file BNW-skin-metadata.txt \\\n",
    "  --m-metadata-column bodysite \\\n",
    "  --o-visualization gg-core-metrics-results/unweighted-unifrac-body-site-significance.qzv \\\n",
    "  --p-pairwise"
   ]
  },
  {
   "cell_type": "code",
   "execution_count": null,
   "metadata": {},
   "outputs": [],
   "source": [
    "# beta diversity - individuals\n",
    "qiime diversity beta-group-significance \\\n",
    "  --i-distance-matrix gg-core-metrics-results/unweighted_unifrac_distance_matrix.qza \\\n",
    "  --m-metadata-file BNW-skin-metadata.tsv \\\n",
    "  --m-metadata-column wombatid \\\n",
    "  --o-visualization gg-core-metrics-results/unweighted-unifrac-subject-group-significance.qzv \\\n",
    "  --p-pairwise"
   ]
  },
  {
   "cell_type": "code",
   "execution_count": null,
   "metadata": {},
   "outputs": [],
   "source": [
    "# beta diversity - infection status\n",
    "qiime diversity beta-group-significance \\\n",
    "  --i-distance-matrix gg-core-metrics-results/unweighted_unifrac_distance_matrix.qza \\\n",
    "  --m-metadata-file BNW-skin-metadata.txt \\\n",
    "  --m-metadata-column infectionstatus \\\n",
    "  --o-visualization gg-core-metrics-results/unweighted-unifrac-infection-status-significance.qzv \\\n",
    "  --p-pairwise"
   ]
  }
 ],
 "metadata": {
  "kernelspec": {
   "display_name": "Python 3",
   "language": "python",
   "name": "python3"
  },
  "language_info": {
   "codemirror_mode": {
    "name": "ipython",
    "version": 3
   },
   "file_extension": ".py",
   "mimetype": "text/x-python",
   "name": "python",
   "nbconvert_exporter": "python",
   "pygments_lexer": "ipython3",
   "version": "3.8.5"
  }
 },
 "nbformat": 4,
 "nbformat_minor": 4
}
