{
 "cells": [
  {
   "cell_type": "markdown",
   "metadata": {},
   "source": [
    "# Preprocessing"
   ]
  },
  {
   "cell_type": "code",
   "execution_count": null,
   "metadata": {},
   "outputs": [],
   "source": [
    "conda activate qiime2-2021.4"
   ]
  },
  {
   "cell_type": "raw",
   "metadata": {},
   "source": [
    "# activate qiime2-2021.4 environment"
   ]
  },
  {
   "cell_type": "code",
   "execution_count": 2,
   "metadata": {},
   "outputs": [],
   "source": [
    "mkdir 2021_BNW_skin\n",
    "mkdir 16SV4_all\n",
    "cd 16SV4_all"
   ]
  },
  {
   "cell_type": "raw",
   "metadata": {},
   "source": [
    "# create working folder"
   ]
  },
  {
   "cell_type": "code",
   "execution_count": null,
   "metadata": {},
   "outputs": [],
   "source": [
    "qiime tools import \\\n",
    "  --type 'SampleData[PairedEndSequencesWithQuality]' \\ \n",
    "  --input-path /Users/christinanaesborg/Desktop/Raw_Samples/16SV4_BNW/Collected \\\n",
    "  --input-format CasavaOneEightSingleLanePerSampleDirFmt \\\n",
    "  --output-path demux.qza"
   ]
  },
  {
   "cell_type": "raw",
   "metadata": {},
   "source": [
    "# import files into 16SV4 folder. Output file: demux.qza"
   ]
  },
  {
   "cell_type": "code",
   "execution_count": null,
   "metadata": {},
   "outputs": [],
   "source": [
    "qiime demux summarize \\\n",
    "  --i-data demux.qza \\\n",
    "  --o-visualization demux.qzv\n",
    "\n",
    "qiime tools view demux.qzv"
   ]
  },
  {
   "cell_type": "raw",
   "metadata": {},
   "source": [
    "# create file for visualisation. Output file: demux.qzv. Visualise on https://view-qiime2.org or if on mac see code below"
   ]
  },
  {
   "cell_type": "raw",
   "metadata": {},
   "source": [
    "# Forward reads were of good quality, so we truncated it at position 240. Reverse reads were of lesser quality, therefore we truncated at position 160 were it crashed in quality."
   ]
  },
  {
   "cell_type": "markdown",
   "metadata": {},
   "source": []
  },
  {
   "cell_type": "raw",
   "metadata": {},
   "source": [
    "qiime dada2 denoise-paired \\\n",
    "  --i-demultiplexed-seqs demux.qza \\ \n",
    "  --p-trim-left-f 0 \\\n",
    "  --p-trim-left-r 0 \\\n",
    "  --p-trunc-len-f 240 \\\n",
    "  --p-trunc-len-r 160 \\\n",
    "  --o-representative-sequences BNW-skin-rep-seqs.qza \\\n",
    "  --o-table BNW-skin-table.qza \\\n",
    "  --o-denoising-stats BNW-skin-stats-dada2.qza\\\n",
    "  --p-n-threads 2 "
   ]
  },
  {
   "cell_type": "raw",
   "metadata": {},
   "source": [
    "# dada2 is used to trim low quality bp, generated feature table and representative sequences. Output files:\n",
    "Saved FeatureTable[Frequency] to BNW-skin-table.qza\n",
    "Saved FeatureData[Sequence] to BNW-skin-rep-seqs.qza\n",
    "Saved DenoiseStats to BNW-skin-stats-dada2.qza"
   ]
  },
  {
   "cell_type": "code",
   "execution_count": null,
   "metadata": {},
   "outputs": [],
   "source": [
    "qiime metadata tabulate \n",
    "--m-input-file BNW-skin-stats-dada2.qza \n",
    "--o-visualization reports/BNW-skin-stats-dada2.qzv\n",
    "qiime feature-table summarize \n",
    "--i-table BNW-skin-table.qza \n",
    "--o-visualization reports/BNW-skin-table.qzv\n",
    "qiime feature-table tabulate-seqs \n",
    "--i-data BNW-skin-rep-seqs.qza \n",
    "--o-visualization reports/BNW-skin-rep-seqs.qzv"
   ]
  },
  {
   "cell_type": "raw",
   "metadata": {},
   "source": [
    "# create visualisation files for all new .qza files"
   ]
  },
  {
   "cell_type": "code",
   "execution_count": null,
   "metadata": {},
   "outputs": [],
   "source": [
    "# since sample id were only numbers, I had to reindex. Otherwise I would have incountered problems later on\n",
    "qiime feature-table group \\\n",
    "  --i-table BNW-skin-table.qza \\\n",
    "  --p-axis sample \\\n",
    "  --m-metadata-file BNW-skin-metadata.tsv \\\n",
    "  --m-metadata-column SampleID-new \\\n",
    "  --p-mode sum \\\n",
    "  --o-grouped-table BNW-skin-reindexed-table.qza"
   ]
  },
  {
   "cell_type": "code",
   "execution_count": null,
   "metadata": {},
   "outputs": [],
   "source": [
    "qiime feature-table summarize \\\n",
    "  --i-table BNW-skin-reindexed-table.qza \\\n",
    "  --m-sample-metadata-file BNW-skin-metadata.tsv \\\n",
    "  --o-visualization BNW-skin-reindexed-table.qzv"
   ]
  },
  {
   "cell_type": "markdown",
   "metadata": {},
   "source": [
    "# Training SILVA database"
   ]
  },
  {
   "cell_type": "code",
   "execution_count": null,
   "metadata": {},
   "outputs": [],
   "source": [
    "# import Qiime2 artifacts\n",
    "qiime tools import \\\n",
    "  --type 'FeatureData[Sequence]' \\\n",
    "  --input-path /Users/christinanaesborg/Desktop/SILVA_132_QIIME_release/rep_set/rep_set_16S_only/99/silva_132_99_16S.fna  \\\n",
    "  --output-path silva_99_otus.qza"
   ]
  },
  {
   "cell_type": "code",
   "execution_count": null,
   "metadata": {},
   "outputs": [],
   "source": [
    "qiime tools import \\\n",
    "  --type 'FeatureData[Taxonomy]' \\\n",
    "  --input-format HeaderlessTSVTaxonomyFormat \\\n",
    "  --input-path /Users/christinanaesborg/Desktop/SILVA_132_QIIME_release/taxonomy/16S_only/99/taxonomy_all_levels.txt  \\        \n",
    "  --output-path silva_99_ref-taxonomy.qza"
   ]
  },
  {
   "cell_type": "raw",
   "metadata": {},
   "source": [
    "# output files: silva_99_otus.qza silva_99_ref-taxonomy.qza"
   ]
  },
  {
   "cell_type": "code",
   "execution_count": null,
   "metadata": {},
   "outputs": [],
   "source": [
    "# extract reference reads\n",
    "qiime feature-classifier extract-reads \\\n",
    "  --i-sequences silva_99_otus.qza \\\n",
    "  --p-f-primer GTGCCAGCMGCCGCGGTAA \\\n",
    "  --p-r-primer GGACTACHVGGGTWTCTAAT \\\n",
    "  --p-trunc-len 253  \\\n",
    "  --p-min-length 100 \\\n",
    "  --p-max-length 400 \\\n",
    "  --o-reads silva_ref-seqs.qza"
   ]
  },
  {
   "cell_type": "raw",
   "metadata": {},
   "source": [
    "# output file: silva_ref-seqs.qza"
   ]
  },
  {
   "cell_type": "code",
   "execution_count": null,
   "metadata": {},
   "outputs": [],
   "source": [
    "# train naive bayes classifier\n",
    "qiime feature-classifier fit-classifier-naive-bayes \\\n",
    "  --i-reference-reads silva_ref-seqs.qza \\\n",
    "  --i-reference-taxonomy silva_99_ref-taxonomy.qza \\\n",
    "  --o-classifier silva_132_99_classifier.qza"
   ]
  },
  {
   "cell_type": "raw",
   "metadata": {},
   "source": [
    "# output file: silva_132_99_classifier.qza"
   ]
  },
  {
   "cell_type": "raw",
   "metadata": {},
   "source": [
    "# Assign taxonomy"
   ]
  },
  {
   "cell_type": "code",
   "execution_count": null,
   "metadata": {},
   "outputs": [],
   "source": [
    "qiime feature-classifier classify-sklearn \\\n",
    "  --i-classifier silva_132_99_classifier.qza \\\n",
    "  --i-reads BNW-skin-rep-seqs.qza \\\n",
    "  --o-classification BNW-skin-silva-132.qza"
   ]
  },
  {
   "cell_type": "code",
   "execution_count": null,
   "metadata": {},
   "outputs": [],
   "source": [
    "qiime metadata tabulate \\\n",
    "--m-input-file BNW-skin-silva-132.qza \\\n",
    "--o-visualization BNW-skin-silva-132.qzv"
   ]
  },
  {
   "cell_type": "raw",
   "metadata": {},
   "source": [
    "# Can take a few hours to run. Output files: BNW-skin-silva-132.qza BNW-skin-silva-132.qzv"
   ]
  },
  {
   "cell_type": "markdown",
   "metadata": {},
   "source": [
    "# Pre-trained SILVA database"
   ]
  },
  {
   "cell_type": "code",
   "execution_count": null,
   "metadata": {},
   "outputs": [],
   "source": [
    "qiime feature-classifier classify-sklearn \\\n",
    "  --i-classifier silva-138-99-515-806-nb-classifier.qza \\ \n",
    "  --i-reads BNW-skin-rep-seqs.qza \\\n",
    "  --o-classification BNW-skin-silva-138-pretrained-taxonomy.qza"
   ]
  },
  {
   "cell_type": "code",
   "execution_count": null,
   "metadata": {},
   "outputs": [],
   "source": [
    "qiime metadata tabulate \\\n",
    "--m-input-file BNW-skin-silva-138-pretrained-taxonomy.qza \\\n",
    "--o-visualization BNW-skin-silva-138-pretrained-taxonomy.qzv"
   ]
  },
  {
   "cell_type": "raw",
   "metadata": {},
   "source": [
    "There is not a huge difference (if at all) between self-trained and pre-trained database eventhough the pretrained is an updated version of the silva database. "
   ]
  },
  {
   "cell_type": "code",
   "execution_count": null,
   "metadata": {},
   "outputs": [],
   "source": [
    "# Create phylogenetic tree using sepp. Took a couple of days to run. \n",
    "#Output files: BNW-skin-sepp-tree.qza BNW-skin-sepp-placements.qza\n",
    "qiime fragment-insertion sepp \\\n",
    "--i-representative-sequences BNW-skin-rep-seqs.qza \\\n",
    "--i-reference-database sepp-refs-silva-128.qza \\\n",
    "--o-tree BNW-skin-sepp-tree.qza \\\n",
    "--o-placements BNW-skin-sepp-placements.qza \\\n",
    "--verbose \\\n",
    "--p-threads 2"
   ]
  },
  {
   "cell_type": "code",
   "execution_count": null,
   "metadata": {},
   "outputs": [],
   "source": [
    "qiime fragment-insertion filter-features \\\n",
    "  --i-table BNW-skin-table.qza \\\n",
    "  --i-tree BNW-skin-sepp-tree.qza \\\n",
    "  --o-filtered-table BNW-skin-filtered_table.qza \\\n",
    "  --o-removed-table BNW-skin-removed_table.qza \\\n",
    "  --verbose"
   ]
  },
  {
   "cell_type": "raw",
   "metadata": {},
   "source": [
    "# filter out features that couldn't be inserted on the tree. Output files: BNW-skin-filtered_table.qza BNW-skin-removed_table.qza"
   ]
  },
  {
   "cell_type": "code",
   "execution_count": null,
   "metadata": {},
   "outputs": [],
   "source": [
    "qiime feature-table summarize \\\n",
    "--i-table BNW-skin-removed_table.qza \\\n",
    "--o-visualization BNW-skin-removed_table.qzv"
   ]
  },
  {
   "cell_type": "raw",
   "metadata": {},
   "source": [
    "# visualise table. Output files: BNW-skin-removed_table.qzv"
   ]
  },
  {
   "cell_type": "code",
   "execution_count": null,
   "metadata": {},
   "outputs": [],
   "source": [
    "Looks like nothing was removed, so will just use the unfiltered table (BNW-skin-table.qza) for subsequent analyses"
   ]
  },
  {
   "cell_type": "code",
   "execution_count": null,
   "metadata": {},
   "outputs": [],
   "source": [
    "qiime diversity alpha-rarefaction \\\n",
    "--i-table BNW-skin-reindexed-table.qza \\\n",
    "--m-metadata-file /Users/christinanaesborg/Desktop/Microbiome/BNW-skin-metadata.tsv   \\\n",
    "--o-visualization BNW-skin-reindexed-table-rarefaction.qzv \\\n",
    "--p-min-depth 500 \\\n",
    "--p-max-depth 50000\n",
    "\n",
    "# output: BNW-skin-reindexed-table-rarefaction.qzv"
   ]
  },
  {
   "cell_type": "raw",
   "metadata": {},
   "source": [
    "# Plateaus around 25K reads"
   ]
  },
  {
   "cell_type": "code",
   "execution_count": null,
   "metadata": {},
   "outputs": [],
   "source": [
    "qiime feature-table filter-samples \\\n",
    "--i-table BNW-skin-reindexed-table.qza \\\n",
    "--m-metadata-file BNW-skin-metadata.tsv \\\n",
    "--p-min-frequency 12201 \\\n",
    "--o-filtered-table BNW-table-atleast-12201-reads.qza"
   ]
  },
  {
   "cell_type": "code",
   "execution_count": null,
   "metadata": {},
   "outputs": [],
   "source": [
    "qiime feature-table summarize \\\n",
    "--i-table BNW-table-atleast-12201-reads.qza \\\n",
    "--o-visualization BNW-table-atleast-12201-reads.qzv"
   ]
  },
  {
   "cell_type": "markdown",
   "metadata": {},
   "source": [
    "# Remove toe samples "
   ]
  },
  {
   "cell_type": "code",
   "execution_count": null,
   "metadata": {},
   "outputs": [],
   "source": [
    "qiime feature-table filter-samples \\\n",
    "--i-table BNW-skin-reindexed-table.qza \\\n",
    "--m-metadata-file BNW-skin-metadata.tsv \\\n",
    "--p-where \"bodysite IN ('toe')\" \\\n",
    "--p-exclude-ids \\\n",
    "--o-filtered-table BNW-skin-table-no-toe.qza"
   ]
  },
  {
   "cell_type": "code",
   "execution_count": null,
   "metadata": {},
   "outputs": [],
   "source": [
    "# remove samples with low reads\n",
    "qiime feature-table filter-samples \\\n",
    "--i-table BNW-skin-table-no-toe.qza \\\n",
    "--m-metadata-file BNW-skin-metadata.tsv \\\n",
    "--p-min-frequency 12201 \\\n",
    "--o-filtered-table BNW-skin-table-no-toe-at-least-12201-reads.qza"
   ]
  },
  {
   "cell_type": "code",
   "execution_count": null,
   "metadata": {},
   "outputs": [],
   "source": [
    "qiime feature-table summarize \\\n",
    "--i-table BNW-skin-table-no-toe-at-least-12201-reads.qza \\\n",
    "--o-visualization BNW-skin-table-no-toe-at-least-12201-reads.qzv "
   ]
  },
  {
   "cell_type": "code",
   "execution_count": null,
   "metadata": {},
   "outputs": [],
   "source": [
    "# create taxa barplot per individual sample\n",
    "qiime taxa barplot \\\n",
    "--i-table BNW-skin-table-no-toe-at-least-12201-reads.qza \\\n",
    "--i-taxonomy BNW-skin-silva-138-pretrained-taxonomy.qza \\\n",
    "--m-metadata-file BNW-skin-metadata.tsv \\\n",
    "--o-visualization BNW-skin-table-no-toe-at-least-12201-reads-BARPLOT-PER-SAMPLE.qzv\n",
    "# w33 has a larger relative frequency of cyanobacteria than the others, but I will keep it for now."
   ]
  },
  {
   "cell_type": "code",
   "execution_count": null,
   "metadata": {},
   "outputs": [],
   "source": [
    "# collapse samples by severity and make barplots\n",
    "qiime feature-table group \\\n",
    "--i-table BNW-skin-table-no-toe-at-least-12201-reads.qza \\\n",
    "--m-metadata-file BNW-skin-metadata.tsv \\\n",
    "--m-metadata-column Severity \\\n",
    "--p-mode mean-ceiling \\\n",
    "--p-axis sample \\\n",
    "--o-grouped-table BNW-skin-table-no-toe-SEVERITY.qza"
   ]
  },
  {
   "cell_type": "code",
   "execution_count": null,
   "metadata": {},
   "outputs": [],
   "source": [
    "qiime taxa barplot \\\n",
    "--i-table BNW-skin-table-no-toe-SEVERITY.qza \\\n",
    "--i-taxonomy BNW-skin-silva-138-pretrained-taxonomy.qza \\\n",
    "--m-metadata-file BNW-skin-metadata-SEVERITY.tsv \\\n",
    "--o-visualization BNW-skin-table-no-toe-SEVERITY-BARPLOT.qzv"
   ]
  },
  {
   "cell_type": "code",
   "execution_count": null,
   "metadata": {},
   "outputs": [],
   "source": [
    "# core diversity on filtered table using 13084 rarefaction depth\n",
    "qiime diversity core-metrics-phylogenetic \\\n",
    "--i-table BNW-skin-table-no-toe-at-least-12201-reads.qza \\\n",
    "--i-phylogeny BNW-skin-sepp-tree.qza \\\n",
    "--p-sampling-depth 13084 \\\n",
    "--m-metadata-file BNW-skin-metadata.tsv \\\n",
    "--output-dir BNW-skin-Core-metrics-final-filtered-table-13084"
   ]
  },
  {
   "cell_type": "code",
   "execution_count": null,
   "metadata": {},
   "outputs": [],
   "source": [
    "for i in BNW-skin-Core-metrics-final-filtered-table-13084/*vector.qza; do qiime diversity alpha-group-significance --i-alpha-diversity $i --m-metadata-file BNW-skin-metadata.tsv --o-visualization ${i/.qza/.qzv}; done"
   ]
  },
  {
   "cell_type": "markdown",
   "metadata": {},
   "source": [
    "# Permanova test for microbial composition differences"
   ]
  },
  {
   "cell_type": "code",
   "execution_count": null,
   "metadata": {},
   "outputs": [],
   "source": [
    "qiime diversity beta-group-significance \\\n",
    "--i-distance-matrix BNW-skin-Core-metrics-final-filtered-table-13084/unweighted_unifrac_distance_matrix.qza \\\n",
    "--m-metadata-file BNW-skin-metadata.tsv \\\n",
    "--m-metadata-column samplegrouping \\\n",
    "--o-visualization BNW-skin-Core-metrics-final-filtered-table-13084/unweighted_unifrac_PERMANOVA.qzv \\\n",
    "--p-method permanova \\\n",
    "--p-pairwise"
   ]
  },
  {
   "cell_type": "code",
   "execution_count": null,
   "metadata": {},
   "outputs": [],
   "source": [
    "qiime diversity beta-group-significance \\\n",
    "--i-distance-matrix BNW-skin-Core-metrics-final-filtered-table-13084/weighted_unifrac_distance_matrix.qza \\\n",
    "--m-metadata-file BNW-skin-metadata.tsv \\\n",
    "--m-metadata-column samplegrouping \\\n",
    "--o-visualization BNW-skin-Core-metrics-final-filtered-table-13084/weighted_unifrac_PERMANOVA.qzv \\\n",
    "--p-method permanova \\\n",
    "--p-pairwise"
   ]
  },
  {
   "cell_type": "markdown",
   "metadata": {},
   "source": [
    "# ANCOM analysis to identify differentially abundant features/OTUS"
   ]
  },
  {
   "cell_type": "code",
   "execution_count": null,
   "metadata": {},
   "outputs": [],
   "source": [
    "#remove low abundance/prevalence features\n",
    "qiime feature-table filter-features \\\n",
    "--i-table BNW-skin-table-no-toe-at-least-12201-reads.qza \\\n",
    "--o-filtered-table BNW-skin-table-no-toe-FILTERED-ANCOM-ms8-mf500.qza \\\n",
    "--p-min-samples 8 \\\n",
    "--p-min-frequency 500"
   ]
  },
  {
   "cell_type": "code",
   "execution_count": null,
   "metadata": {},
   "outputs": [],
   "source": [
    "qiime feature-table summarize \\\n",
    "--i-table BNW-skin-table-no-toe-FILTERED-ANCOM-ms8-mf500.qza \\\n",
    "--o-visualization BNW-skin-table-no-toe-FILTERED-ANCOM-ms8-mf500.qzv"
   ]
  },
  {
   "cell_type": "code",
   "execution_count": null,
   "metadata": {},
   "outputs": [],
   "source": [
    "qiime composition add-pseudocount \\\n",
    "--i-table BNW-skin-table-no-toe-FILTERED-ANCOM-ms8-mf500.qza \\\n",
    "--o-composition-table BNW-skin-table-no-toe-FILTERED-ANCOM-ms8-mf500-pseudo.qza"
   ]
  },
  {
   "cell_type": "code",
   "execution_count": null,
   "metadata": {},
   "outputs": [],
   "source": [
    "qiime composition ancom \\\n",
    "--i-table BNW-skin-table-no-toe-FILTERED-ANCOM-ms8-mf500-pseudo.qza \\\n",
    "--m-metadata-file BNW-skin-metadata.tsv \\\n",
    "--m-metadata-column samplegrouping \\\n",
    "--o-visualization BNW-skin-table-no-toe-FILTERED-ANCOM-ms8-mf500-pseudo-SEVERITY.qzv"
   ]
  },
  {
   "cell_type": "markdown",
   "metadata": {},
   "source": [
    "# ANCOM collapsed at family level (i.e. not at the feature level)"
   ]
  },
  {
   "cell_type": "code",
   "execution_count": null,
   "metadata": {},
   "outputs": [],
   "source": [
    "qiime taxa collapse \\\n",
    "--i-table BNW-skin-table-no-toe-at-least-12201-reads.qza  \\\n",
    "--i-taxonomy BNW-skin-silva-138-pretrained-taxonomy.qza \\\n",
    "--p-level 5 \\\n",
    "--o-collapsed-table BNW-skin-table-no-toe-FAMILY.qza"
   ]
  },
  {
   "cell_type": "code",
   "execution_count": null,
   "metadata": {},
   "outputs": [],
   "source": [
    "qiime feature-table filter-features \\\n",
    "--i-table BNW-skin-table-no-toe-FAMILY.qza \\\n",
    "--o-filtered-table BNW-skin-table-no-toe-FAMILY-FILTERED-ANCOM-ms8-mf500.qza \\\n",
    "--p-min-samples 8 \\\n",
    "--p-min-frequency 500"
   ]
  },
  {
   "cell_type": "code",
   "execution_count": null,
   "metadata": {},
   "outputs": [],
   "source": [
    "qiime composition add-pseudocount \\\n",
    "--i-table BNW-skin-table-no-toe-FAMILY-FILTERED-ANCOM-ms8-mf500.qza  \\\n",
    "--o-composition-table BNW-skin-table-no-toe-FAMILY-FILTERED-ANCOM-ms8-mf500-pseudo.qza "
   ]
  },
  {
   "cell_type": "code",
   "execution_count": null,
   "metadata": {},
   "outputs": [],
   "source": [
    "qiime composition ancom \\\n",
    "--i-table BNW-skin-table-no-toe-FAMILY-FILTERED-ANCOM-ms8-mf500-pseudo.qza \\\n",
    "--m-metadata-file BNW-skin-metadata.tsv \\\n",
    "--m-metadata-column Severity \\\n",
    "--o-visualization BNW-skin-table-no-toe-FAMILY-FILTERED-ANCOM-ms8-mf500-pseudo-SEVERITY.qzv"
   ]
  },
  {
   "cell_type": "markdown",
   "metadata": {},
   "source": [
    "# Unique feature analysis"
   ]
  },
  {
   "cell_type": "code",
   "execution_count": null,
   "metadata": {},
   "outputs": [],
   "source": [
    "qiime feature-table filter-samples \\\n",
    "--i-table BNW-skin-table-no-toe-at-least-12201-reads.qza \\\n",
    "--m-metadata-file BNW-skin-metadata.tsv \\\n",
    "--p-where \"[Severity]='Confidently healthy'\" \\\n",
    "--o-filtered-table BNW-skin-table-no-toe-CONFHEALTHYonly.qza"
   ]
  },
  {
   "cell_type": "code",
   "execution_count": null,
   "metadata": {},
   "outputs": [],
   "source": [
    "qiime feature-table summarize \\\n",
    "--i-table BNW-skin-table-no-toe-CONFHEALTHYonly.qza \\\n",
    "--o-visualization BNW-skin-table-no-toe-CONFHEALTHYonly.qzv"
   ]
  },
  {
   "cell_type": "code",
   "execution_count": null,
   "metadata": {},
   "outputs": [],
   "source": [
    "qiime feature-table filter-samples \\\n",
    "--i-table BNW-skin-table-no-toe-at-least-12201-reads.qza \\\n",
    "--m-metadata-file BNW-skin-metadata.tsv \\\n",
    "--p-where \"[Severity]='Observational healthy'\" \\\n",
    "--o-filtered-table BNW-skin-table-no-toe-OBSHEALTHYonly.qza"
   ]
  },
  {
   "cell_type": "code",
   "execution_count": null,
   "metadata": {},
   "outputs": [],
   "source": [
    "qiime feature-table summarize \\\n",
    "--i-table BNW-skin-table-no-toe-OBSHEALTHYonly.qza \\\n",
    "--o-visualization BNW-skin-table-no-toe-OBSHEALTHYonly.qzv"
   ]
  },
  {
   "cell_type": "code",
   "execution_count": null,
   "metadata": {},
   "outputs": [],
   "source": [
    "qiime feature-table filter-samples \\\n",
    "--i-table BNW-skin-table-no-toe-at-least-12201-reads.qza \\\n",
    "--m-metadata-file BNW-skin-metadata.tsv \\\n",
    "--p-where \"[Severity]='Uncertain/low mange'\" \\\n",
    "--o-filtered-table BNW-skin-table-no-toe-UNCERTAINonly.qza"
   ]
  },
  {
   "cell_type": "code",
   "execution_count": null,
   "metadata": {},
   "outputs": [],
   "source": [
    "qiime feature-table summarize \\\n",
    "--i-table BNW-skin-table-no-toe-UNCERTAINonly.qza \\\n",
    "--o-visualization BNW-skin-table-no-toe-UNCERTAINonly.qzv"
   ]
  },
  {
   "cell_type": "code",
   "execution_count": null,
   "metadata": {},
   "outputs": [],
   "source": [
    "qiime feature-table filter-samples \\\n",
    "--i-table BNW-skin-table-no-toe-at-least-12201-reads.qza \\\n",
    "--m-metadata-file BNW-skin-metadata.tsv \\\n",
    "--p-where \"[Severity]='Mangy'\" \\\n",
    "--o-filtered-table BNW-skin-table-no-toe-MANGYonly.qza"
   ]
  },
  {
   "cell_type": "code",
   "execution_count": null,
   "metadata": {},
   "outputs": [],
   "source": [
    "qiime feature-table summarize \\\n",
    "--i-table BNW-skin-table-no-toe-MANGYonly.qza \\\n",
    "--o-visualization BNW-skin-table-no-toe-MANGYonly.qzv"
   ]
  },
  {
   "cell_type": "code",
   "execution_count": null,
   "metadata": {},
   "outputs": [],
   "source": [
    "qiime feature-table filter-samples \\\n",
    "--i-table BNW-skin-table-no-toe-at-least-12201-reads.qza \\\n",
    "--m-metadata-file BNW-skin-metadata.tsv \\\n",
    "--p-where \"[Severity]='Severe mange'\" \\\n",
    "--o-filtered-table BNW-skin-table-no-toe-SEVEREonly.qza"
   ]
  },
  {
   "cell_type": "code",
   "execution_count": null,
   "metadata": {},
   "outputs": [],
   "source": [
    "qiime feature-table summarize \\\n",
    "--i-table BNW-skin-table-no-toe-SEVEREonly.qza \\\n",
    "--o-visualization BNW-skin-table-no-toe-SEVEREonly.qzv"
   ]
  },
  {
   "cell_type": "markdown",
   "metadata": {},
   "source": [
    "# Provide overview of ASVs for each severity type"
   ]
  },
  {
   "cell_type": "code",
   "execution_count": null,
   "metadata": {},
   "outputs": [],
   "source": [
    "qiime tools export \\\n",
    "--input-path BNW-skin-table-no-toe-CONFHEALTHYonly.qza \\\n",
    "--output-path table-no-toe-CONFHEALTHYonly.biom"
   ]
  },
  {
   "cell_type": "code",
   "execution_count": null,
   "metadata": {},
   "outputs": [],
   "source": [
    "biom convert -i table-no-toe-CONFHEALTHYonly.biom/feature-table.biom -o table-no-toe-CONFHEALTHYonly.biom/feature-table.tsv --to-tsv"
   ]
  },
  {
   "cell_type": "code",
   "execution_count": null,
   "metadata": {},
   "outputs": [],
   "source": [
    "qiime tools export \\\n",
    "--input-path BNW-skin-table-no-toe-OBSHEALTHYonly.qza \\\n",
    "--output-path table-no-toe-OBSHEALTHYonly.biom"
   ]
  },
  {
   "cell_type": "code",
   "execution_count": null,
   "metadata": {},
   "outputs": [],
   "source": [
    "biom convert -i table-no-toe-OBSHEALTHYonly.biom/feature-table.biom -o table-no-toe-OBSHEALTHYonly.biom/feature-table.tsv --to-tsv"
   ]
  },
  {
   "cell_type": "code",
   "execution_count": null,
   "metadata": {},
   "outputs": [],
   "source": [
    "qiime tools export \\\n",
    "--input-path BNW-skin-table-no-toe-UNCERTAINonly.qza \\\n",
    "--output-path table-no-toe-UNCERTAINonly.biom"
   ]
  },
  {
   "cell_type": "code",
   "execution_count": null,
   "metadata": {},
   "outputs": [],
   "source": [
    "biom convert -i table-no-toe-UNCERTAINonly.biom/feature-table.biom -o table-no-toe-UNCERTAINonly.biom/feature-table.tsv --to-tsv"
   ]
  },
  {
   "cell_type": "code",
   "execution_count": null,
   "metadata": {},
   "outputs": [],
   "source": [
    "qiime tools export \\\n",
    "--input-path BNW-skin-table-no-toe-MANGYonly.qza \\\n",
    "--output-path table-no-toe-MANGYonly.biom"
   ]
  },
  {
   "cell_type": "code",
   "execution_count": null,
   "metadata": {},
   "outputs": [],
   "source": [
    "biom convert -i table-no-toe-MANGYonly.biom/feature-table.biom -o table-no-toe-MANGYonly.biom/feature-table.tsv --to-tsv"
   ]
  },
  {
   "cell_type": "code",
   "execution_count": null,
   "metadata": {},
   "outputs": [],
   "source": [
    "qiime tools export \\\n",
    "--input-path BNW-skin-table-no-toe-SEVEREonly.qza \\\n",
    "--output-path table-no-toe-SEVEREonly.biom"
   ]
  },
  {
   "cell_type": "code",
   "execution_count": null,
   "metadata": {},
   "outputs": [],
   "source": [
    "biom convert -i table-no-toe-SEVEREonly.biom/feature-table.biom -o table-no-toe-SEVEREonly.biom/feature-table.tsv --to-tsv"
   ]
  },
  {
   "cell_type": "markdown",
   "metadata": {},
   "source": [
    "# Unique ASVs - min 5 samples due to severity groupings"
   ]
  },
  {
   "cell_type": "code",
   "execution_count": null,
   "metadata": {},
   "outputs": [],
   "source": [
    "qiime feature-table filter-features \\\n",
    "--i-table BNW-skin-table-no-toe-CONFHEALTHYonly.qza \\\n",
    "--o-filtered-table BNW-skin-table-no-toe-CONFHEALTHYonly-ms5-mf142.qza \\\n",
    "--p-min-samples 5 \\\n",
    "--p-min-frequency 142"
   ]
  },
  {
   "cell_type": "code",
   "execution_count": null,
   "metadata": {},
   "outputs": [],
   "source": [
    "qiime feature-table summarize \\\n",
    "--i-table BNW-skin-table-no-toe-CONFHEALTHYonly-ms5-mf142.qza \\\n",
    "--o-visualization BNW-skin-table-no-toe-CONFHEALTHYonly-ms5-mf142.qzv"
   ]
  },
  {
   "cell_type": "markdown",
   "metadata": {},
   "source": [
    "Pre-filter\n",
    "Number of features: 2807\n",
    "Total frequency: 950,162\n",
    "\n",
    "Post-filter\n",
    "Number of features: 139\n",
    "Total frequency: 627,314"
   ]
  },
  {
   "cell_type": "code",
   "execution_count": null,
   "metadata": {},
   "outputs": [],
   "source": [
    "qiime feature-table filter-features \\\n",
    "--i-table BNW-skin-table-no-toe-OBSHEALTHYonly.qza \\\n",
    "--o-filtered-table BNW-skin-table-no-toe-OBSHEALTHYonly-ms5-mf45.qza \\\n",
    "--p-min-samples 5 \\\n",
    "--p-min-frequency 145"
   ]
  },
  {
   "cell_type": "code",
   "execution_count": null,
   "metadata": {},
   "outputs": [],
   "source": [
    "qiime feature-table summarize \\\n",
    "--i-table BNW-skin-table-no-toe-OBSHEALTHYonly-ms5-mf45.qza \\\n",
    "--o-visualization BNW-skin-table-no-toe-OBSHEALTHYonly-ms5-mf45.qzv"
   ]
  },
  {
   "cell_type": "markdown",
   "metadata": {},
   "source": [
    "Pre-filter\n",
    "Number of features: 1249\n",
    "Total frequency: 304,193\n",
    "\n",
    "Post-filter\n",
    "Number of features: 16\n",
    "Total frequency: 122,210"
   ]
  },
  {
   "cell_type": "code",
   "execution_count": null,
   "metadata": {},
   "outputs": [],
   "source": [
    "qiime feature-table filter-features \\\n",
    "--i-table BNW-skin-table-no-toe-UNCERTAINonly.qza \\\n",
    "--o-filtered-table BNW-skin-table-no-toe-UNCERTAINonly-ms5-mf276.qza \\\n",
    "--p-min-samples 5 \\\n",
    "--p-min-frequency 276"
   ]
  },
  {
   "cell_type": "code",
   "execution_count": null,
   "metadata": {},
   "outputs": [],
   "source": [
    "qiime feature-table summarize \\\n",
    "--i-table BNW-skin-table-no-toe-UNCERTAINonly-ms5-mf276.qza \\\n",
    "--o-visualization BNW-skin-table-no-toe-UNCERTAINonly-ms5-mf276.qzv"
   ]
  },
  {
   "cell_type": "markdown",
   "metadata": {},
   "source": [
    "Pre-filter\n",
    "Number of features: 4699\n",
    "Total frequency: 1,845,342\n",
    "\n",
    "Post-filter\n",
    "Number of features: 257\n",
    "Total frequency: 1,477,965"
   ]
  },
  {
   "cell_type": "code",
   "execution_count": null,
   "metadata": {},
   "outputs": [],
   "source": [
    "qiime feature-table filter-features \\\n",
    "--i-table BNW-skin-table-no-toe-MANGYonly.qza \\\n",
    "--o-filtered-table BNW-skin-table-no-toe-MANGYonly-ms5-mf56.qza \\\n",
    "--p-min-samples 5 \\\n",
    "--p-min-frequency 56"
   ]
  },
  {
   "cell_type": "code",
   "execution_count": null,
   "metadata": {},
   "outputs": [],
   "source": [
    "qiime feature-table summarize \\\n",
    "--i-table BNW-skin-table-no-toe-MANGYonly-ms5-mf56.qza \\\n",
    "--o-visualization BNW-skin-table-no-toe-MANGYonly-ms5-mf56.qzv"
   ]
  },
  {
   "cell_type": "markdown",
   "metadata": {},
   "source": [
    "Pre-filter\n",
    "Number of features: 870\n",
    "Total frequency: 374,474\n",
    "\n",
    "Post-filter\n",
    "Number of features: 15\n",
    "Total frequency: 76,575"
   ]
  },
  {
   "cell_type": "code",
   "execution_count": null,
   "metadata": {},
   "outputs": [],
   "source": [
    "qiime feature-table filter-features \\\n",
    "--i-table BNW-skin-table-no-toe-SEVEREonly.qza \\\n",
    "--o-filtered-table BNW-skin-table-no-toe-SEVEREonly-ms5-mf109.qza \\\n",
    "--p-min-samples 5 \\\n",
    "--p-min-frequency 109"
   ]
  },
  {
   "cell_type": "code",
   "execution_count": null,
   "metadata": {},
   "outputs": [],
   "source": [
    "qiime feature-table summarize \\\n",
    "--i-table BNW-skin-table-no-toe-SEVEREonly-ms5-mf109.qza \\\n",
    "--o-visualization BNW-skin-table-no-toe-SEVEREonly-ms5-mf109.qzv"
   ]
  },
  {
   "cell_type": "markdown",
   "metadata": {},
   "source": [
    "Pre-filter\n",
    "Number of features: 481\n",
    "Total frequency: 730,694\n",
    "\n",
    "Post-filter\n",
    "Number of features: 37\n",
    "Total frequency: 392,605"
   ]
  },
  {
   "cell_type": "code",
   "execution_count": null,
   "metadata": {},
   "outputs": [],
   "source": []
  },
  {
   "cell_type": "markdown",
   "metadata": {},
   "source": [
    "# Remove toe samples and groups of Uncertain/low mange and Observational healthy from analysis"
   ]
  },
  {
   "cell_type": "code",
   "execution_count": null,
   "metadata": {},
   "outputs": [],
   "source": [
    "qiime feature-table filter-samples \\\n",
    "--i-table BNW-skin-reindexed-table.qza \\\n",
    "--m-metadata-file BNW-skin-metadata.tsv \\\n",
    "--p-where \"[bodysite] IN ('toe') AND [Severity] IN ('Uncertain/low mange','Observational healthy')\" \\\n",
    "--p-exclude-ids \\\n",
    "--o-filtered-table FinalCat/BNW-skin-table-no-toe_FinalCat.qza"
   ]
  },
  {
   "cell_type": "code",
   "execution_count": null,
   "metadata": {},
   "outputs": [],
   "source": [
    "# remove samples with low reads\n",
    "qiime feature-table filter-samples \\\n",
    "--i-table FinalCat/BNW-skin-table-no-toe_FinalCat.qza \\\n",
    "--m-metadata-file BNW-skin-metadata.tsv \\\n",
    "--p-min-frequency 12201 \\\n",
    "--o-filtered-table FinalCat/BNW-skin-table-no-toe-at-least-12201-reads_FinalCat.qza"
   ]
  },
  {
   "cell_type": "code",
   "execution_count": null,
   "metadata": {},
   "outputs": [],
   "source": [
    "qiime feature-table summarize \\\n",
    "--i-table FinalCat/BNW-skin-table-no-toe-at-least-12201-reads_FinalCat.qza \\\n",
    "--o-visualization FinalCat/BNW-skin-table-no-toe-at-least-12201-reads_FinalCat.qzv "
   ]
  },
  {
   "cell_type": "code",
   "execution_count": null,
   "metadata": {},
   "outputs": [],
   "source": [
    "# create taxa barplot per individual sample\n",
    "qiime taxa barplot \\\n",
    "--i-table FinalCat/BNW-skin-table-no-toe-at-least-12201-reads_FinalCat.qza \\\n",
    "--i-taxonomy BNW-skin-silva-138-pretrained-taxonomy.qza \\\n",
    "--m-metadata-file BNW-skin-metadata.tsv \\\n",
    "--o-visualization FinalCat/BNW-skin-table-no-toe-at-least-12201-reads-BARPLOT-PER-SAMPLE.qzv\n",
    "# w33 has a larger relative frequency of cyanobacteria than the others, but I will keep it for now."
   ]
  },
  {
   "cell_type": "code",
   "execution_count": null,
   "metadata": {},
   "outputs": [],
   "source": [
    "# collapse samples by severity and make barplots\n",
    "qiime feature-table group \\\n",
    "--i-table FinalCat/BNW-skin-table-no-toe-at-least-12201-reads_FinalCat.qza \\\n",
    "--m-metadata-file BNW-skin-metadata.tsv \\\n",
    "--m-metadata-column Severity \\\n",
    "--p-mode mean-ceiling \\\n",
    "--p-axis sample \\\n",
    "--o-grouped-table FinalCat/BNW-skin-table-no-toe-SEVERITY_FinalCat.qza"
   ]
  },
  {
   "cell_type": "code",
   "execution_count": null,
   "metadata": {},
   "outputs": [],
   "source": [
    "qiime taxa barplot \\\n",
    "--i-table FinalCat/BNW-skin-table-no-toe-SEVERITY_FinalCat.qza \\\n",
    "--i-taxonomy BNW-skin-silva-138-pretrained-taxonomy.qza \\\n",
    "--m-metadata-file BNW-skin-metadata-SEVERITY.tsv \\\n",
    "--o-visualization FinalCat/BNW-skin-table-no-toe-SEVERITY-BARPLOT.qzv"
   ]
  },
  {
   "cell_type": "code",
   "execution_count": null,
   "metadata": {},
   "outputs": [],
   "source": [
    "# core diversity on filtered table using 13084 rarefaction depth\n",
    "qiime diversity core-metrics-phylogenetic \\\n",
    "--i-table FinalCat/BNW-skin-table-no-toe-at-least-12201-reads_FinalCat.qza \\\n",
    "--i-phylogeny BNW-skin-sepp-tree.qza \\\n",
    "--p-sampling-depth 13084 \\\n",
    "--m-metadata-file BNW-skin-metadata.tsv \\\n",
    "--output-dir FinalCat-BNW-skin-Core-metrics-final-filtered-table-13084"
   ]
  },
  {
   "cell_type": "code",
   "execution_count": null,
   "metadata": {},
   "outputs": [],
   "source": [
    "for i in FinalCat-BNW-skin-Core-metrics-final-filtered-table-13084/*vector.qza; do qiime diversity alpha-group-significance --i-alpha-diversity $i --m-metadata-file BNW-skin-metadata.tsv --o-visualization ${i/.qza/.qzv}; done"
   ]
  },
  {
   "cell_type": "code",
   "execution_count": null,
   "metadata": {},
   "outputs": [],
   "source": [
    "qiime diversity alpha \\\n",
    "  --i-table FinalCat/BNW-skin-table-no-toe-at-least-12201-reads_FinalCat.qza \\\n",
    "  --p-metric chao1 \\\n",
    "  --o-alpha-diversity FinalCat-BNW-skin-Core-metrics-final-filtered-table-13084/chao1_index.qza"
   ]
  },
  {
   "cell_type": "code",
   "execution_count": null,
   "metadata": {},
   "outputs": [],
   "source": [
    "qiime diversity alpha-group-significance \\\n",
    "  --i-alpha-diversity FinalCat-BNW-skin-Core-metrics-final-filtered-table-13084/chao1_index.qza \\\n",
    "  --m-metadata-file BNW-skin-metadata.tsv \\\n",
    "  --o-visualization FinalCat-BNW-skin-Core-metrics-final-filtered-table-13084/chao1_index.qzv"
   ]
  },
  {
   "cell_type": "markdown",
   "metadata": {},
   "source": [
    "# Permanova test for microbial composition differences"
   ]
  },
  {
   "cell_type": "code",
   "execution_count": null,
   "metadata": {},
   "outputs": [],
   "source": [
    "qiime diversity beta-group-significance \\\n",
    "--i-distance-matrix FinalCat-BNW-skin-Core-metrics-final-filtered-table-13084/bray_curtis_distance_matrix.qza \\\n",
    "--m-metadata-file BNW-skin-metadata.tsv \\\n",
    "--m-metadata-column Severity \\\n",
    "--o-visualization FinalCat-BNW-skin-Core-metrics-final-filtered-table-13084/bray_curtis_PERMANOVA.qzv \\\n",
    "--p-method permanova \\\n",
    "--p-pairwise"
   ]
  },
  {
   "cell_type": "code",
   "execution_count": null,
   "metadata": {},
   "outputs": [],
   "source": [
    "qiime diversity beta-group-significance \\\n",
    "--i-distance-matrix FinalCat-BNW-skin-Core-metrics-final-filtered-table-13084/jaccard_distance_matrix.qza \\\n",
    "--m-metadata-file BNW-skin-metadata.tsv \\\n",
    "--m-metadata-column Severity \\\n",
    "--o-visualization FinalCat-BNW-skin-Core-metrics-final-filtered-table-13084/jaccard_PERMANOVA.qzv \\\n",
    "--p-method permanova \\\n",
    "--p-pairwise"
   ]
  },
  {
   "cell_type": "markdown",
   "metadata": {},
   "source": [
    "# ANCOM analysis to identify differentially abundant features/OTUS"
   ]
  },
  {
   "cell_type": "code",
   "execution_count": null,
   "metadata": {},
   "outputs": [],
   "source": [
    "#remove low abundance/prevalence features\n",
    "qiime feature-table filter-features \\\n",
    "--i-table FinalCat/BNW-skin-table-no-toe-at-least-12201-reads_FinalCat.qza \\\n",
    "--o-filtered-table FinalCat/BNW-skin-table-no-toe-FILTERED-ANCOM-ms8-mf500_FinalCat.qza \\\n",
    "--p-min-samples 8 \\\n",
    "--p-min-frequency 500"
   ]
  },
  {
   "cell_type": "code",
   "execution_count": null,
   "metadata": {},
   "outputs": [],
   "source": [
    "qiime feature-table summarize \\\n",
    "--i-table FinalCat/BNW-skin-table-no-toe-FILTERED-ANCOM-ms8-mf500_FinalCat.qza \\\n",
    "--o-visualization FinalCat/BNW-skin-table-no-toe-FILTERED-ANCOM-ms8-mf500_FinalCat.qzv"
   ]
  },
  {
   "cell_type": "code",
   "execution_count": null,
   "metadata": {},
   "outputs": [],
   "source": [
    "qiime composition add-pseudocount \\\n",
    "--i-table FinalCat/BNW-skin-table-no-toe-FILTERED-ANCOM-ms8-mf500_FinalCat.qza \\\n",
    "--o-composition-table FinalCat/BNW-skin-table-no-toe-FILTERED-ANCOM-ms8-mf500-pseudo_FinalCat.qza"
   ]
  },
  {
   "cell_type": "code",
   "execution_count": null,
   "metadata": {},
   "outputs": [],
   "source": [
    "qiime composition ancom \\\n",
    "--i-table FinalCat/BNW-skin-table-no-toe-FILTERED-ANCOM-ms8-mf500-pseudo_FinalCat.qza \\\n",
    "--m-metadata-file BNW-skin-metadata.tsv \\\n",
    "--m-metadata-column Severity \\\n",
    "--o-visualization FinalCat/BNW-skin-table-no-toe-FILTERED-ANCOM-ms8-mf500-pseudo-SEVERITY_FinalCat.qzv"
   ]
  },
  {
   "cell_type": "markdown",
   "metadata": {},
   "source": [
    "# ANCOM collapsed at family level (i.e. not at the feature level)"
   ]
  },
  {
   "cell_type": "code",
   "execution_count": null,
   "metadata": {},
   "outputs": [],
   "source": [
    "qiime taxa collapse \\\n",
    "--i-table FinalCat/BNW-skin-table-no-toe-at-least-12201-reads_FinalCat.qza  \\\n",
    "--i-taxonomy BNW-skin-silva-138-pretrained-taxonomy.qza \\\n",
    "--p-level 5 \\\n",
    "--o-collapsed-table FinalCat/BNW-skin-table-no-toe-FAMILY_FinalCat.qza"
   ]
  },
  {
   "cell_type": "code",
   "execution_count": null,
   "metadata": {},
   "outputs": [],
   "source": [
    "qiime feature-table filter-features \\\n",
    "--i-table FinalCat/BNW-skin-table-no-toe-FAMILY_FinalCat.qza \\\n",
    "--o-filtered-table FinalCat/BNW-skin-table-no-toe-FAMILY-FILTERED-ANCOM-ms8-mf500_FinalCat.qza \\\n",
    "--p-min-samples 8 \\\n",
    "--p-min-frequency 500"
   ]
  },
  {
   "cell_type": "code",
   "execution_count": null,
   "metadata": {},
   "outputs": [],
   "source": [
    "qiime composition add-pseudocount \\\n",
    "--i-table FinalCat/BNW-skin-table-no-toe-FAMILY-FILTERED-ANCOM-ms8-mf500_FinalCat.qza  \\\n",
    "--o-composition-table FinalCat/BNW-skin-table-no-toe-FAMILY-FILTERED-ANCOM-ms8-mf500-pseudo_FinalCat.qza "
   ]
  },
  {
   "cell_type": "code",
   "execution_count": null,
   "metadata": {},
   "outputs": [],
   "source": [
    "qiime composition ancom \\\n",
    "--i-table FinalCat/BNW-skin-table-no-toe-FAMILY-FILTERED-ANCOM-ms8-mf500-pseudo_FinalCat.qza \\\n",
    "--m-metadata-file BNW-skin-metadata.tsv \\\n",
    "--m-metadata-column Severity \\\n",
    "--o-visualization FinalCat/BNW-skin-table-no-toe-FAMILY-FILTERED-ANCOM-ms8-mf500-pseudo-SEVERITY_FinalCat.qzv"
   ]
  },
  {
   "cell_type": "markdown",
   "metadata": {},
   "source": [
    "# Unique feature analysis"
   ]
  },
  {
   "cell_type": "code",
   "execution_count": null,
   "metadata": {},
   "outputs": [],
   "source": [
    "qiime feature-table filter-samples \\\n",
    "--i-table FinalCat/BNW-skin-table-no-toe-at-least-12201-reads_FinalCat.qza \\\n",
    "--m-metadata-file BNW-skin-metadata.tsv \\\n",
    "--p-where \"[Severity]='Confidently healthy'\" \\\n",
    "--o-filtered-table FinalCat/BNW-skin-table-no-toe-CONFHEALTHYonly.qza"
   ]
  },
  {
   "cell_type": "code",
   "execution_count": null,
   "metadata": {},
   "outputs": [],
   "source": [
    "qiime feature-table summarize \\\n",
    "--i-table FinalCat/BNW-skin-table-no-toe-CONFHEALTHYonly.qza \\\n",
    "--o-visualization FinalCat/BNW-skin-table-no-toe-CONFHEALTHYonly.qzv"
   ]
  },
  {
   "cell_type": "code",
   "execution_count": null,
   "metadata": {},
   "outputs": [],
   "source": [
    "qiime feature-table filter-samples \\\n",
    "--i-table FinalCat/BNW-skin-table-no-toe-at-least-12201-reads_FinalCat.qza \\\n",
    "--m-metadata-file BNW-skin-metadata.tsv \\\n",
    "--p-where \"[Severity]='Mangy'\" \\\n",
    "--o-filtered-table FinalCat/BNW-skin-table-no-toe-MANGYonly.qza"
   ]
  },
  {
   "cell_type": "code",
   "execution_count": null,
   "metadata": {},
   "outputs": [],
   "source": [
    "qiime feature-table summarize \\\n",
    "--i-table FinalCat/BNW-skin-table-no-toe-MANGYonly.qza \\\n",
    "--o-visualization FinalCat/BNW-skin-table-no-toe-MANGYonly.qzv"
   ]
  },
  {
   "cell_type": "code",
   "execution_count": null,
   "metadata": {},
   "outputs": [],
   "source": [
    "qiime feature-table filter-samples \\\n",
    "--i-table FinalCat/BNW-skin-table-no-toe-at-least-12201-reads_FinalCat.qza \\\n",
    "--m-metadata-file BNW-skin-metadata.tsv \\\n",
    "--p-where \"[Severity]='Severe mange'\" \\\n",
    "--o-filtered-table FinalCat/BNW-skin-table-no-toe-SEVEREonly.qza"
   ]
  },
  {
   "cell_type": "code",
   "execution_count": null,
   "metadata": {},
   "outputs": [],
   "source": [
    "qiime feature-table summarize \\\n",
    "--i-table FinalCat/BNW-skin-table-no-toe-SEVEREonly.qza \\\n",
    "--o-visualization FinalCat/BNW-skin-table-no-toe-SEVEREonly.qzv"
   ]
  },
  {
   "cell_type": "markdown",
   "metadata": {},
   "source": [
    "# Provide overview of ASVs for each severity type"
   ]
  },
  {
   "cell_type": "code",
   "execution_count": null,
   "metadata": {},
   "outputs": [],
   "source": [
    "qiime tools export \\\n",
    "--input-path FinalCat/BNW-skin-table-no-toe-CONFHEALTHYonly.qza \\\n",
    "--output-path FinalCat-table-no-toe-CONFHEALTHYonly.biom"
   ]
  },
  {
   "cell_type": "code",
   "execution_count": null,
   "metadata": {},
   "outputs": [],
   "source": [
    "biom convert -i FinalCat-table-no-toe-CONFHEALTHYonly.biom/feature-table.biom -o FinalCat-table-no-toe-CONFHEALTHYonly.biom/feature-table.tsv --to-tsv"
   ]
  },
  {
   "cell_type": "code",
   "execution_count": null,
   "metadata": {},
   "outputs": [],
   "source": [
    "qiime tools export \\\n",
    "--input-path FinalCat/BNW-skin-table-no-toe-MANGYonly.qza \\\n",
    "--output-path FinalCat-table-no-toe-MANGYonly.biom"
   ]
  },
  {
   "cell_type": "code",
   "execution_count": null,
   "metadata": {},
   "outputs": [],
   "source": [
    "biom convert -i FinalCat-table-no-toe-MANGYonly.biom/feature-table.biom -o FinalCat-table-no-toe-MANGYonly.biom/feature-table.tsv --to-tsv"
   ]
  },
  {
   "cell_type": "code",
   "execution_count": null,
   "metadata": {},
   "outputs": [],
   "source": [
    "qiime tools export \\\n",
    "--input-path FinalCat/BNW-skin-table-no-toe-SEVEREonly.qza \\\n",
    "--output-path FinalCat-table-no-toe-SEVEREonly.biom"
   ]
  },
  {
   "cell_type": "code",
   "execution_count": null,
   "metadata": {},
   "outputs": [],
   "source": [
    "biom convert -i FinalCat-table-no-toe-SEVEREonly.biom/feature-table.biom -o FinalCat-table-no-toe-SEVEREonly.biom/feature-table.tsv --to-tsv"
   ]
  },
  {
   "cell_type": "markdown",
   "metadata": {},
   "source": [
    "# Unique ASVs - min 3 samples due to severity groupings"
   ]
  },
  {
   "cell_type": "code",
   "execution_count": null,
   "metadata": {},
   "outputs": [],
   "source": [
    "qiime feature-table filter-features \\\n",
    "--i-table FinalCat/BNW-skin-table-no-toe-CONFHEALTHYonly.qza \\\n",
    "--o-filtered-table FinalCat/BNW-skin-table-no-toe-CONFHEALTHYonly-ms3-mf142.qza \\\n",
    "--p-min-samples 3 \\\n",
    "--p-min-frequency 142"
   ]
  },
  {
   "cell_type": "code",
   "execution_count": null,
   "metadata": {},
   "outputs": [],
   "source": [
    "qiime feature-table summarize \\\n",
    "--i-table FinalCat/BNW-skin-table-no-toe-CONFHEALTHYonly-ms3-mf142.qza \\\n",
    "--o-visualization FinalCat/BNW-skin-table-no-toe-CONFHEALTHYonly-ms3-mf142.qzv"
   ]
  },
  {
   "cell_type": "markdown",
   "metadata": {},
   "source": [
    "Pre-filter\n",
    "Number of features: 2807\n",
    "Total frequency: 950,162\n",
    "\n",
    "Post-filter\n",
    "Number of features: 262\n",
    "Total frequency: 778,217"
   ]
  },
  {
   "cell_type": "code",
   "execution_count": null,
   "metadata": {},
   "outputs": [],
   "source": [
    "# provide overview of unique ASVs\n",
    "qiime tools export \\\n",
    "--input-path FinalCat/BNW-skin-table-no-toe-CONFHEALTHYonly-ms3-mf142.qza \\\n",
    "--output-path FinalCat/FinalCat-table-no-toe-CONFHEALTHYonly-ms3-mf142.biom"
   ]
  },
  {
   "cell_type": "code",
   "execution_count": null,
   "metadata": {},
   "outputs": [],
   "source": [
    "#convert biom to tsv file\n",
    "biom convert -i FinalCat/FinalCat-table-no-toe-CONFHEALTHYonly-ms3-mf142.biom/feature-table.biom -o FinalCat/FinalCat-table-no-toe-CONFHEALTHYonly-ms3-mf142.biom/feature-table.tsv --to-tsv"
   ]
  },
  {
   "cell_type": "code",
   "execution_count": null,
   "metadata": {},
   "outputs": [],
   "source": [
    "qiime feature-table filter-features \\\n",
    "--i-table FinalCat/BNW-skin-table-no-toe-MANGYonly.qza \\\n",
    "--o-filtered-table FinalCat/BNW-skin-table-no-toe-MANGYonly-ms3-mf56.qza \\\n",
    "--p-min-samples 3 \\\n",
    "--p-min-frequency 56"
   ]
  },
  {
   "cell_type": "code",
   "execution_count": null,
   "metadata": {},
   "outputs": [],
   "source": [
    "qiime feature-table summarize \\\n",
    "--i-table FinalCat/BNW-skin-table-no-toe-MANGYonly-ms3-mf56.qza \\\n",
    "--o-visualization FinalCat/BNW-skin-table-no-toe-MANGYonly-ms3-mf56.qzv"
   ]
  },
  {
   "cell_type": "markdown",
   "metadata": {},
   "source": [
    "Pre-filter\n",
    "Number of features: 870\n",
    "Total frequency: 374,474\n",
    "\n",
    "Post-filter\n",
    "Number of features: 95\n",
    "Total frequency: 237,244"
   ]
  },
  {
   "cell_type": "code",
   "execution_count": null,
   "metadata": {},
   "outputs": [],
   "source": [
    "# provide overview of unique ASVs\n",
    "qiime tools export \\\n",
    "--input-path FinalCat/BNW-skin-table-no-toe-MANGYonly-ms3-mf56.qza \\\n",
    "--output-path FinalCat/FinalCat-table-no-toe-MANGYonly-ms3-mf56.biom"
   ]
  },
  {
   "cell_type": "code",
   "execution_count": null,
   "metadata": {},
   "outputs": [],
   "source": [
    "#convert biom to tsv file\n",
    "biom convert -i FinalCat/FinalCat-table-no-toe-MANGYonly-ms3-mf56.biom/feature-table.biom -o FinalCat/FinalCat-table-no-toe-MANGYonly-ms3-mf56.biom/feature-table.tsv --to-tsv"
   ]
  },
  {
   "cell_type": "code",
   "execution_count": null,
   "metadata": {},
   "outputs": [],
   "source": [
    "qiime feature-table filter-features \\\n",
    "--i-table FinalCat/BNW-skin-table-no-toe-SEVEREonly.qza \\\n",
    "--o-filtered-table FinalCat/BNW-skin-table-no-toe-SEVEREonly-ms3-mf109.qza \\\n",
    "--p-min-samples 3 \\\n",
    "--p-min-frequency 109"
   ]
  },
  {
   "cell_type": "code",
   "execution_count": null,
   "metadata": {},
   "outputs": [],
   "source": [
    "qiime feature-table summarize \\\n",
    "--i-table FinalCat/BNW-skin-table-no-toe-SEVEREonly-ms3-mf109.qza \\\n",
    "--o-visualization FinalCat/BNW-skin-table-no-toe-SEVEREonly-ms3-mf109.qzv"
   ]
  },
  {
   "cell_type": "raw",
   "metadata": {},
   "source": [
    "Prefilter Number of features: 481 Total frequency: 730,694\n",
    "Post-filter Number of features: 84 Total frequency: 557,710"
   ]
  },
  {
   "cell_type": "code",
   "execution_count": null,
   "metadata": {},
   "outputs": [],
   "source": [
    "# provide overview of unique ASVs\n",
    "qiime tools export \\\n",
    "--input-path FinalCat/BNW-skin-table-no-toe-SEVEREonly-ms3-mf109.qza \\\n",
    "--output-path FinalCat/FinalCat-table-no-toe-SEVEREonly-ms3-mf109.biom"
   ]
  },
  {
   "cell_type": "code",
   "execution_count": null,
   "metadata": {},
   "outputs": [],
   "source": [
    "#convert biom to tsv file\n",
    "biom convert -i FinalCat/FinalCat-table-no-toe-SEVEREonly-ms3-mf109.biom/feature-table.biom -o FinalCat/FinalCat-table-no-toe-SEVEREonly-ms3-mf109.biom/feature-table.tsv --to-tsv"
   ]
  },
  {
   "cell_type": "markdown",
   "metadata": {},
   "source": [
    "# Make taxa barplots"
   ]
  },
  {
   "cell_type": "code",
   "execution_count": null,
   "metadata": {},
   "outputs": [],
   "source": [
    "qiime feature-table group \\\n",
    "--i-table FinalCat/BNW-skin-table-no-toe-SEVEREonly-ms3-mf109.qza \\\n",
    "--m-metadata-file BNW-skin-metadata.tsv \\\n",
    "--m-metadata-column wombatid \\\n",
    "--p-mode mean-ceiling \\\n",
    "--p-axis sample \\\n",
    "--o-grouped-table FinalCat/BNW-skin-table-no-toe-SEVERE-ms3-mf109-wombat-COLLAPSED.qza"
   ]
  },
  {
   "cell_type": "code",
   "execution_count": null,
   "metadata": {},
   "outputs": [],
   "source": [
    "qiime feature-table group \\\n",
    "--i-table FinalCat/BNW-skin-table-no-toe-MANGYonly-ms3-mf56.qza \\\n",
    "--m-metadata-file BNW-skin-metadata.tsv \\\n",
    "--m-metadata-column wombatid \\\n",
    "--p-mode mean-ceiling \\\n",
    "--p-axis sample \\\n",
    "--o-grouped-table FinalCat/BNW-skin-table-no-toe-MANGY-ms3-mf56-wombat-COLLAPSED.qza"
   ]
  },
  {
   "cell_type": "code",
   "execution_count": null,
   "metadata": {},
   "outputs": [],
   "source": [
    "qiime feature-table group \\\n",
    "--i-table FinalCat/BNW-skin-table-no-toe-CONFHEALTHYonly-ms3-mf142.qza \\\n",
    "--m-metadata-file BNW-skin-metadata.tsv \\\n",
    "--m-metadata-column wombatid \\\n",
    "--p-mode mean-ceiling \\\n",
    "--p-axis sample \\\n",
    "--o-grouped-table FinalCat/BNW-skin-table-no-toe-CONFHEALTHY-ms3-mf142-wombat-COLLAPSED.qza"
   ]
  },
  {
   "cell_type": "code",
   "execution_count": null,
   "metadata": {},
   "outputs": [],
   "source": [
    "qiime feature-table merge \\\n",
    "--i-tables FinalCat/BNW-skin-table-no-toe-CONFHEALTHY-ms3-mf142-wombat-COLLAPSED.qza FinalCat/BNW-skin-table-no-toe-MANGY-ms3-mf56-wombat-COLLAPSED.qza FinalCat/BNW-skin-table-no-toe-SEVERE-ms3-mf109-wombat-COLLAPSED.qza \\\n",
    "--o-merged-table FinalCat/BNW-skin-table-no-toe-wombat-COLLAPSED.qza"
   ]
  },
  {
   "cell_type": "code",
   "execution_count": null,
   "metadata": {},
   "outputs": [],
   "source": [
    "qiime taxa barplot \\\n",
    "--i-table FinalCat/BNW-skin-table-no-toe-wombat-COLLAPSED.qza \\\n",
    "--i-taxonomy BNW-skin-silva-138-pretrained-taxonomy.qza \\\n",
    "--m-metadata-file BNW-skin-metadata-WOM.tsv \\\n",
    "--o-visualization FinalCat/BNW-skin-table-no-toe-WOMBAT-COLLAPSED-BARPLOT.qzv"
   ]
  },
  {
   "cell_type": "code",
   "execution_count": null,
   "metadata": {},
   "outputs": [],
   "source": [
    "qiime feature-table group \\\n",
    "--i-table FinalCat/BNW-skin-table-no-toe-SEVEREonly-ms3-mf109.qza \\\n",
    "--m-metadata-file BNW-skin-metadata.tsv \\\n",
    "--m-metadata-column Severity \\\n",
    "--p-mode mean-ceiling \\\n",
    "--p-axis sample \\\n",
    "--o-grouped-table FinalCat/BNW-skin-table-no-toe-SEVERE-ms3-mf109-COLLAPSED.qza"
   ]
  },
  {
   "cell_type": "code",
   "execution_count": null,
   "metadata": {},
   "outputs": [],
   "source": [
    "qiime feature-table group \\\n",
    "--i-table FinalCat/BNW-skin-table-no-toe-MANGYonly-ms3-mf56.qza \\\n",
    "--m-metadata-file BNW-skin-metadata.tsv \\\n",
    "--m-metadata-column Severity \\\n",
    "--p-mode mean-ceiling \\\n",
    "--p-axis sample \\\n",
    "--o-grouped-table FinalCat/BNW-skin-table-no-toe-MANGY-ms3-mf56-COLLAPSED.qza"
   ]
  },
  {
   "cell_type": "code",
   "execution_count": null,
   "metadata": {},
   "outputs": [],
   "source": [
    "qiime feature-table group \\\n",
    "--i-table FinalCat/BNW-skin-table-no-toe-CONFHEALTHYonly-ms3-mf142.qza \\\n",
    "--m-metadata-file BNW-skin-metadata.tsv \\\n",
    "--m-metadata-column Severity \\\n",
    "--p-mode mean-ceiling \\\n",
    "--p-axis sample \\\n",
    "--o-grouped-table FinalCat/BNW-skin-table-no-toe-CONFHEALTHY-ms3-mf142-COLLAPSED.qza"
   ]
  },
  {
   "cell_type": "code",
   "execution_count": null,
   "metadata": {},
   "outputs": [],
   "source": [
    "qiime feature-table merge \\\n",
    "--i-tables FinalCat/BNW-skin-table-no-toe-CONFHEALTHY-ms3-mf142-COLLAPSED.qza FinalCat/BNW-skin-table-no-toe-MANGY-ms3-mf56-COLLAPSED.qza FinalCat/BNW-skin-table-no-toe-SEVERE-ms3-mf109-COLLAPSED.qza \\\n",
    "--o-merged-table FinalCat/BNW-skin-table-no-toe-severity-COLLAPSED.qza"
   ]
  },
  {
   "cell_type": "code",
   "execution_count": null,
   "metadata": {},
   "outputs": [],
   "source": [
    "qiime taxa barplot \\\n",
    "--i-table FinalCat/BNW-skin-table-no-toe-severity-COLLAPSED.qza \\\n",
    "--i-taxonomy BNW-skin-silva-138-pretrained-taxonomy.qza \\\n",
    "--m-metadata-file BNW-skin-metadata-SEVERITY.tsv \\\n",
    "--o-visualization FinalCat/BNW-skin-table-no-toe-SEVERITY-COLLAPSED-BARPLOT.qzv"
   ]
  },
  {
   "cell_type": "markdown",
   "metadata": {},
   "source": [
    "# Core metrics analysis"
   ]
  },
  {
   "cell_type": "code",
   "execution_count": null,
   "metadata": {},
   "outputs": [],
   "source": [
    "qiime feature-table core-features \\\n",
    "--i-table FinalCat/BNW-skin-table-no-toe-CONFHEALTHYonly-ms3-mf142.qza \\\n",
    "--o-visualization FinalCat/BNW-skin-table-no-toe-CONFHEALTHYonly-ms3-mf142-CORE-FEATURES.qzv"
   ]
  },
  {
   "cell_type": "code",
   "execution_count": null,
   "metadata": {},
   "outputs": [],
   "source": [
    "qiime feature-table core-features \\\n",
    "--i-table FinalCat/BNW-skin-table-no-toe-MANGYonly-ms3-mf56.qza \\\n",
    "--o-visualization FinalCat/BNW-skin-table-no-toe-MANGYonly-ms3-mf56-CORE-FEATURES.qzv"
   ]
  },
  {
   "cell_type": "code",
   "execution_count": null,
   "metadata": {},
   "outputs": [],
   "source": [
    "qiime feature-table core-features \\\n",
    "--i-table FinalCat/BNW-skin-table-no-toe-SEVEREonly-ms3-mf109.qza \\\n",
    "--o-visualization FinalCat/BNW-skin-table-no-toe-SEVEREonly-ms3-mf109-CORE-FEATURES.qzv"
   ]
  },
  {
   "cell_type": "markdown",
   "metadata": {},
   "source": [
    "Merge filtered tables to look for core microbiome accross all wombats (i.e. healthy, mangy, severe)"
   ]
  },
  {
   "cell_type": "code",
   "execution_count": null,
   "metadata": {},
   "outputs": [],
   "source": [
    "qiime feature-table merge \\\n",
    "--i-tables FinalCat/BNW-skin-table-no-toe-CONFHEALTHYonly-ms3-mf142.qza FinalCat/BNW-skin-table-no-toe-MANGYonly-ms3-mf56.qza FinalCat/BNW-skin-table-no-toe-SEVEREonly-ms3-mf109.qza \\\n",
    "--o-merged-table FinalCat/BNW-skin-table-no-toe-FILTERED-MERGED.qza"
   ]
  },
  {
   "cell_type": "code",
   "execution_count": null,
   "metadata": {},
   "outputs": [],
   "source": [
    "qiime feature-table core-features \\\n",
    "--i-table FinalCat/BNW-skin-table-no-toe-FILTERED-MERGED.qza \\\n",
    "--o-visualization FinalCat/BNW-skin-table-no-toe-FILTERED-MERGED-CORE-FEATURES.qzv"
   ]
  },
  {
   "cell_type": "markdown",
   "metadata": {},
   "source": [
    "# Pull out a list of features from each of the core microbiota tables to filter the main tables from (to work out abundance of the core microbiota):"
   ]
  },
  {
   "cell_type": "code",
   "execution_count": null,
   "metadata": {},
   "outputs": [],
   "source": [
    "for i in *.tsv; do awk '{print $1}' $i > ${i/.tsv/-FEATURES.tsv}; done"
   ]
  },
  {
   "cell_type": "code",
   "execution_count": null,
   "metadata": {},
   "outputs": [],
   "source": [
    "for i in *.tsv; do sed -i'' 's/Feature/feature id/g' $i; done"
   ]
  },
  {
   "cell_type": "markdown",
   "metadata": {},
   "source": [
    "# Taxa barplots"
   ]
  },
  {
   "cell_type": "code",
   "execution_count": null,
   "metadata": {},
   "outputs": [],
   "source": [
    "qiime taxa barplot \\\n",
    "--i-table BNW-table-atleast-12201-reads.qza \\\n",
    "--i-taxonomy BNW-skin-silva-138-pretrained-taxonomy.qza \\\n",
    "--m-metadata-file BNW-skin-metadata.tsv \\\n",
    "--o-visualization BNW-table-atleast-12201-reads-BARPLOT-PER-SAMPLE.qzv"
   ]
  },
  {
   "cell_type": "code",
   "execution_count": null,
   "metadata": {},
   "outputs": [],
   "source": [
    "qiime feature-table group \\\n",
    "--i-table BNW-table-atleast-12201-reads.qza \\\n",
    "--m-metadata-file BNW-skin-metadata.tsv \\\n",
    "--m-metadata-column infectionstatus \\\n",
    "--p-mode mean-ceiling \\\n",
    "--p-axis sample \\\n",
    "--o-grouped-table BNW-table-atleast-12201-reads-INFECTION-STATUS.qza"
   ]
  },
  {
   "cell_type": "code",
   "execution_count": null,
   "metadata": {},
   "outputs": [],
   "source": [
    "qiime taxa barplot \\\n",
    "--i-table BNW-table-atleast-12201-reads-INFECTION-STATUS.qza \\\n",
    "--i-taxonomy BNW-skin-silva-138-pretrained-taxonomy.qza \\\n",
    "--m-metadata-file BNW-skin-metadata-infection.tsv \\\n",
    "--o-visualization BNW-table-atleast-12201-reads-INFECTION-STATUS-BARPLOT.qzv"
   ]
  },
  {
   "cell_type": "code",
   "execution_count": null,
   "metadata": {},
   "outputs": [],
   "source": [
    "qiime feature-table group \\\n",
    "--i-table BNW-table-atleast-12201-reads.qza \\\n",
    "--m-metadata-file BNW-skin-metadata.tsv \\\n",
    "--m-metadata-column samplegrouping \\\n",
    "--p-mode mean-ceiling \\\n",
    "--p-axis sample \\\n",
    "--o-grouped-table BNW-table-atleast-12201-reads-SAMPLE-GROUPINGS.qza"
   ]
  },
  {
   "cell_type": "code",
   "execution_count": null,
   "metadata": {},
   "outputs": [],
   "source": [
    "qiime taxa barplot \\\n",
    "--i-table BNW-table-atleast-12201-reads-SAMPLE-GROUPINGS.qza \\\n",
    "--i-taxonomy BNW-skin-silva-138-pretrained-taxonomy.qza \\\n",
    "--m-metadata-file BNW-skin-metadata-GROUPINGS.tsv \\\n",
    "--o-visualization BNW-table-atleast-12201-reads-SAMPLE-GROUPINGS-BARPLOT.qzv"
   ]
  },
  {
   "cell_type": "code",
   "execution_count": null,
   "metadata": {},
   "outputs": [],
   "source": [
    "qiime feature-table group \\\n",
    "--i-table BNW-table-atleast-12201-reads.qza \\\n",
    "--m-metadata-file BNW-skin-metadata.tsv \\\n",
    "--m-metadata-column wombatid \\\n",
    "--p-mode mean-ceiling \\\n",
    "--p-axis sample \\\n",
    "--o-grouped-table BNW-table-atleast-12201-reads-WOMBAT.qza"
   ]
  },
  {
   "cell_type": "code",
   "execution_count": null,
   "metadata": {},
   "outputs": [],
   "source": [
    "qiime taxa barplot \\\n",
    "--i-table BNW-table-atleast-12201-reads-WOMBAT.qza \\\n",
    "--i-taxonomy BNW-skin-silva-138-pretrained-taxonomy.qza \\\n",
    "--m-metadata-file BNW-skin-metadata-WOM.tsv \\\n",
    "--o-visualization BNW-table-atleast-12201-reads-WOMBAT-BARPLOT.qzv"
   ]
  },
  {
   "cell_type": "code",
   "execution_count": null,
   "metadata": {},
   "outputs": [],
   "source": [
    "qiime feature-table group \\\n",
    "--i-table BNW-table-atleast-12201-reads.qza \\\n",
    "--m-metadata-file BNW-skin-metadata.tsv \\\n",
    "--m-metadata-column Severity \\\n",
    "--p-mode mean-ceiling \\\n",
    "--p-axis sample \\\n",
    "--o-grouped-table BNW-table-atleast-12201-reads-SEVERITY.qza"
   ]
  },
  {
   "cell_type": "code",
   "execution_count": null,
   "metadata": {},
   "outputs": [],
   "source": [
    "qiime taxa barplot \\\n",
    "--i-table BNW-table-atleast-12201-reads-SEVERITY.qza \\\n",
    "--i-taxonomy BNW-skin-silva-138-pretrained-taxonomy.qza \\\n",
    "--m-metadata-file BNW-skin-metadata-SEVERITY.tsv \\\n",
    "--o-visualization BNW-table-atleast-12201-reads-SEVERITY-BARPLOT.qzv"
   ]
  },
  {
   "cell_type": "markdown",
   "metadata": {},
   "source": [
    "# Alpha/Beta diversity"
   ]
  },
  {
   "cell_type": "code",
   "execution_count": null,
   "metadata": {},
   "outputs": [],
   "source": [
    "qiime phylogeny align-to-tree-mafft-fasttree \\\n",
    "  --i-sequences BNW-skin-rep-seqs.qza \\\n",
    "  --o-alignment silva-aligned-rep-seqs.qza \\\n",
    "  --o-masked-alignment silva-masked-aligned-rep-seqs.qza \\\n",
    "  --o-tree silva-unrooted-tree.qza \\\n",
    "  --o-rooted-tree silva-rooted-tree.qza"
   ]
  },
  {
   "cell_type": "code",
   "execution_count": null,
   "metadata": {},
   "outputs": [],
   "source": [
    "qiime diversity core-metrics-phylogenetic \\\n",
    "  --i-phylogeny silva-rooted-tree.qza \\\n",
    "  --i-table BNW-skin-reindexed-table.qza \\\n",
    "  --p-sampling-depth 12201 \\\n",
    "  --m-metadata-file BNW-skin-metadata.tsv  \\\n",
    "  --output-dir silva-core-metrics"
   ]
  },
  {
   "cell_type": "code",
   "execution_count": null,
   "metadata": {},
   "outputs": [],
   "source": [
    "# alpha diversity\n",
    "qiime diversity alpha-group-significance \\\n",
    "  --i-alpha-diversity silva-core-metrics/faith_pd_vector.qza \\\n",
    "  --m-metadata-file BNW-skin-metadata.tsv \\\n",
    "  --o-visualization silva-core-metrics/faith-pd-group-significance.qzv"
   ]
  },
  {
   "cell_type": "code",
   "execution_count": null,
   "metadata": {},
   "outputs": [],
   "source": [
    "# alpha diversity\n",
    "qiime diversity alpha-group-significance \\\n",
    "  --i-alpha-diversity silva-core-metrics/evenness_vector.qza \\\n",
    "  --m-metadata-file BNW-skin-metadata.tsv \\\n",
    "  --o-visualization silva-core-metrics/evenness-group-significance.qzv"
   ]
  },
  {
   "cell_type": "code",
   "execution_count": null,
   "metadata": {},
   "outputs": [],
   "source": [
    "# beta diversity - between body sites\n",
    "qiime diversity beta-group-significance \\\n",
    "  --i-distance-matrix silva-core-metrics/unweighted_unifrac_distance_matrix.qza \\\n",
    "  --m-metadata-file BNW-skin-metadata.tsv \\\n",
    "  --m-metadata-column bodysite \\\n",
    "  --o-visualization silva-core-metrics/unweighted-unifrac-body-site-significance.qzv \\\n",
    "  --p-pairwise"
   ]
  },
  {
   "cell_type": "code",
   "execution_count": null,
   "metadata": {},
   "outputs": [],
   "source": [
    "# beta diversity - between wombats\n",
    "qiime diversity beta-group-significance \\\n",
    "  --i-distance-matrix silva-core-metrics/unweighted_unifrac_distance_matrix.qza \\\n",
    "  --m-metadata-file BNW-skin-metadata.tsv \\\n",
    "  --m-metadata-column wombatid \\\n",
    "  --o-visualization silva-core-metrics/unweighted-unifrac-wombat-significance.qzv \\\n",
    "  --p-pairwise"
   ]
  },
  {
   "cell_type": "code",
   "execution_count": null,
   "metadata": {},
   "outputs": [],
   "source": [
    "# beta diversity - infection status\n",
    "qiime diversity beta-group-significance \\\n",
    "  --i-distance-matrix silva-core-metrics/unweighted_unifrac_distance_matrix.qza \\\n",
    "  --m-metadata-file BNW-skin-metadata.tsv \\\n",
    "  --m-metadata-column infectionstatus \\\n",
    "  --o-visualization silva-core-metrics/unweighted-unifrac-infection-status-significance.qzv \\\n",
    "  --p-pairwise"
   ]
  },
  {
   "cell_type": "code",
   "execution_count": null,
   "metadata": {},
   "outputs": [],
   "source": [
    "qiime metadata tabulate \\\n",
    "  --m-input-file BNW-skin-metadata.tsv \\\n",
    "  --m-input-file faith_pd_vector.qza observed_features_vector.qza \\\n",
    "  --o-visualization reindexed-tabulated-combined-metadata.qzv"
   ]
  },
  {
   "cell_type": "markdown",
   "metadata": {},
   "source": [
    "# Differential abundance testing with ANCOM (family level)"
   ]
  },
  {
   "cell_type": "code",
   "execution_count": null,
   "metadata": {},
   "outputs": [],
   "source": [
    "qiime taxa collapse \\\n",
    "--i-table BNW-table-atleast-12201-reads.qza \\\n",
    "--i-taxonomy BNW-skin-silva-138-pretrained-taxonomy.qza \\\n",
    "--p-level 5 \\\n",
    "--o-collapsed-table BNW-skin-table-final-FAMILY.qza"
   ]
  },
  {
   "cell_type": "code",
   "execution_count": null,
   "metadata": {},
   "outputs": [],
   "source": [
    "qiime feature-table filter-features \\\n",
    "--i-table BNW-skin-table-final-FAMILY.qza \\\n",
    "--o-filtered-table BNW-skin-table-final-FAMILY-FILTERED-ANCOM-ms8-mf500.qza \\\n",
    "--p-min-samples 8 \\\n",
    "--p-min-frequency 500"
   ]
  },
  {
   "cell_type": "code",
   "execution_count": null,
   "metadata": {},
   "outputs": [],
   "source": [
    "qiime composition add-pseudocount \\\n",
    "--i-table BNW-skin-table-final-FAMILY-FILTERED-ANCOM-ms8-mf500.qza \\\n",
    "--o-composition-table BNW-skin-table-final-FAMILY-FILTERED-ANCOM-ms8-mf500-pseudo.qza"
   ]
  },
  {
   "cell_type": "code",
   "execution_count": null,
   "metadata": {},
   "outputs": [],
   "source": [
    "qiime composition ancom \\\n",
    "--i-table BNW-skin-table-final-FAMILY-FILTERED-ANCOM-ms8-mf500-pseudo.qza \\\n",
    "--m-metadata-file BNW-skin-metadata.tsv \\\n",
    "--m-metadata-column Severity \\\n",
    "--o-visualization BNW-skin-table-final-FAMILY-FILTERED-ANCOM-ms8-mf500-pseudo-SEVERITY.qzv"
   ]
  },
  {
   "cell_type": "markdown",
   "metadata": {},
   "source": [
    "# Unique feature analysis "
   ]
  },
  {
   "cell_type": "code",
   "execution_count": null,
   "metadata": {},
   "outputs": [],
   "source": [
    "#seperate main table to only include observational healthy samples for wombats\n",
    "qiime feature-table filter-samples \\\n",
    "--i-table BNW-table-atleast-12201-reads.qza \\\n",
    "--m-metadata-file BNW-skin-metadata.tsv \\\n",
    "--p-where \"[Severity]='Observational healthy'\" \\\n",
    "--o-filtered-table BNW-skin-table-final-OBSHEALTHYonly.qza"
   ]
  },
  {
   "cell_type": "code",
   "execution_count": null,
   "metadata": {},
   "outputs": [],
   "source": [
    "qiime feature-table summarize \\\n",
    "--i-table BNW-skin-table-final-OBSHEALTHYonly.qza \\\n",
    "--o-visualization BNW-skin-table-final-OBSHEALTHYonly.qzv"
   ]
  },
  {
   "cell_type": "code",
   "execution_count": null,
   "metadata": {},
   "outputs": [],
   "source": [
    "#seperate main table to only include confidently healthy samples for wombats\n",
    "qiime feature-table filter-samples \\\n",
    "--i-table BNW-table-atleast-12201-reads.qza \\\n",
    "--m-metadata-file BNW-skin-metadata.tsv \\\n",
    "--p-where \"[Severity]='Confidently healthy'\" \\\n",
    "--o-filtered-table BNW-skin-table-final-CONFHEALTHYonly.qza"
   ]
  },
  {
   "cell_type": "code",
   "execution_count": null,
   "metadata": {},
   "outputs": [],
   "source": [
    "qiime feature-table summarize \\\n",
    "--i-table BNW-skin-table-final-CONFHEALTHYonly.qza \\\n",
    "--o-visualization BNW-skin-table-final-CONFHEALTHYonly.qzv"
   ]
  },
  {
   "cell_type": "code",
   "execution_count": null,
   "metadata": {},
   "outputs": [],
   "source": [
    "#seperate main table to only include uncertain/low mange samples for wombats\n",
    "qiime feature-table filter-samples \\\n",
    "--i-table BNW-table-atleast-12201-reads.qza \\\n",
    "--m-metadata-file BNW-skin-metadata.tsv \\\n",
    "--p-where \"[Severity]='Uncertain/low mange'\" \\\n",
    "--o-filtered-table BNW-skin-table-final-UNCERTAINonly.qza"
   ]
  },
  {
   "cell_type": "code",
   "execution_count": null,
   "metadata": {},
   "outputs": [],
   "source": [
    "qiime feature-table summarize \\\n",
    "--i-table BNW-skin-table-final-UNCERTAINonly.qza \\\n",
    "--o-visualization BNW-skin-table-final-UNCERTAINonly.qzv"
   ]
  },
  {
   "cell_type": "code",
   "execution_count": null,
   "metadata": {},
   "outputs": [],
   "source": [
    "#seperate main table to only include severe mangy samples for wombats\n",
    "qiime feature-table filter-samples \\\n",
    "--i-table BNW-table-atleast-12201-reads.qza \\\n",
    "--m-metadata-file BNW-skin-metadata.tsv \\\n",
    "--p-where \"[Severity]='Severe mange'\" \\\n",
    "--o-filtered-table BNW-skin-table-final-SEVEREonly.qza"
   ]
  },
  {
   "cell_type": "code",
   "execution_count": null,
   "metadata": {},
   "outputs": [],
   "source": [
    "qiime feature-table summarize \\\n",
    "--i-table BNW-skin-table-final-SEVEREonly.qza \\\n",
    "--o-visualization BNW-skin-table-final-SEVEREonly.qzv"
   ]
  },
  {
   "cell_type": "code",
   "execution_count": null,
   "metadata": {},
   "outputs": [],
   "source": [
    "#seperate main table to only include severe mangy samples for wombats\n",
    "qiime feature-table filter-samples \\\n",
    "--i-table BNW-table-atleast-12201-reads.qza \\\n",
    "--m-metadata-file BNW-skin-metadata.tsv \\\n",
    "--p-where \"[Severity]='Mangy'\" \\\n",
    "--o-filtered-table BNW-skin-table-final-MANGYonly.qza"
   ]
  },
  {
   "cell_type": "code",
   "execution_count": null,
   "metadata": {},
   "outputs": [],
   "source": [
    "qiime feature-table summarize \\\n",
    "--i-table BNW-skin-table-final-MANGYonly.qza \\\n",
    "--o-visualization BNW-skin-table-final-MANGYonly.qzv"
   ]
  },
  {
   "cell_type": "markdown",
   "metadata": {},
   "source": [
    "# Export to biom file - done for all of the unique feature data analysis qza-files"
   ]
  },
  {
   "cell_type": "markdown",
   "metadata": {},
   "source": [
    "qiime tools export \\\n",
    "--input-path BNW-skin-table-final-OBSHEALTHYonly.qza \\\n",
    "--output-path BNW-skin-table-final-OBSHEALTHYonly.biom"
   ]
  },
  {
   "cell_type": "code",
   "execution_count": null,
   "metadata": {},
   "outputs": [],
   "source": [
    "biom convert -i BNW-skin-table-final-OBSHEALTHYonly.biom/feature-table.biom -o BNW-skin-table-final-OBSHEALTHYonly.biom/feature-table.tsv --to-tsv"
   ]
  },
  {
   "cell_type": "markdown",
   "metadata": {},
   "source": [
    "# Core metrics analysis"
   ]
  },
  {
   "cell_type": "code",
   "execution_count": null,
   "metadata": {},
   "outputs": [],
   "source": [
    "qiime feature-table core-features \\\n",
    "--i-table BNW-skin-table-final-OBSHEALTHYonly.qza \\\n",
    "--o-visualization BNW-skin-table-final-OBSHEALTHYonly-CORE-FEATURES.qzv"
   ]
  },
  {
   "cell_type": "code",
   "execution_count": null,
   "metadata": {},
   "outputs": [],
   "source": [
    "qiime feature-table core-features \\\n",
    "--i-table BNW-skin-table-final-CONFHEALTHYonly.qza \\\n",
    "--o-visualization BNW-skin-table-final-CONFHEALTHYonly-CORE-FEATURES.qzv"
   ]
  },
  {
   "cell_type": "code",
   "execution_count": null,
   "metadata": {},
   "outputs": [],
   "source": [
    "qiime feature-table core-features \\\n",
    "--i-table BNW-skin-table-final-UNCERTAINonly.qza \\\n",
    "--o-visualization BNW-skin-table-final-UNCERTAINonly-CORE-FEATURES.qzv"
   ]
  },
  {
   "cell_type": "code",
   "execution_count": null,
   "metadata": {},
   "outputs": [],
   "source": [
    "qiime feature-table core-features \\\n",
    "--i-table BNW-skin-table-final-SEVEREonly.qza \\\n",
    "--o-visualization BNW-skin-table-final-SEVEREonly-CORE-FEATURES.qzv"
   ]
  },
  {
   "cell_type": "code",
   "execution_count": null,
   "metadata": {},
   "outputs": [],
   "source": [
    "qiime feature-table core-features \\\n",
    "--i-table BNW-skin-table-final-MANGYonly.qza \\\n",
    "--o-visualization BNW-skin-table-final-MANGYEonly-CORE-FEATURES.qzv"
   ]
  },
  {
   "cell_type": "markdown",
   "metadata": {},
   "source": [
    "# filter features from each table with a per-table frequency of < 0.00015%, and fewer than 2 samples."
   ]
  },
  {
   "cell_type": "code",
   "execution_count": null,
   "metadata": {},
   "outputs": [],
   "source": [
    "qiime feature-table filter-features \\\n",
    "--i-table BNW-skin-table-final-OBSHEALTHYonly.qza \\\n",
    "--o-filtered-table BNW-skin-table-final-OBSHEALTHY-ms2-mf67.qza \\\n",
    "--p-min-samples 2 \\\n",
    "--p-min-frequency 67"
   ]
  },
  {
   "cell_type": "code",
   "execution_count": null,
   "metadata": {},
   "outputs": [],
   "source": [
    "qiime feature-table summarize \\\n",
    "--i-table BNW-skin-table-final-OBSHEALTHY-ms2-mf67.qza \\\n",
    "--o-visualization BNW-skin-table-final-OBSHEALTHY-ms2-mf67.qzv"
   ]
  },
  {
   "cell_type": "code",
   "execution_count": null,
   "metadata": {},
   "outputs": [],
   "source": [
    "qiime feature-table filter-features \\\n",
    "--i-table BNW-skin-table-final-CONFHEALTHYonly.qza \\\n",
    "--o-filtered-table BNW-skin-table-final-CONFHEALTHY-ms2-mf198.qza \\\n",
    "--p-min-samples 2 \\\n",
    "--p-min-frequency 198"
   ]
  },
  {
   "cell_type": "code",
   "execution_count": null,
   "metadata": {},
   "outputs": [],
   "source": [
    "qiime feature-table summarize \\\n",
    "--i-table BNW-skin-table-final-CONFHEALTHY-ms2-mf198.qza \\\n",
    "--o-visualization BNW-skin-table-final-CONFHEALTHY-ms2-mf198.qzv"
   ]
  },
  {
   "cell_type": "code",
   "execution_count": null,
   "metadata": {},
   "outputs": [],
   "source": [
    "qiime feature-table filter-features \\\n",
    "--i-table BNW-skin-table-final-UNCERTAINonly.qza \\\n",
    "--o-filtered-table BNW-skin-table-final-UNCERTAIN-ms2-mf389.qza \\\n",
    "--p-min-samples 2 \\\n",
    "--p-min-frequency 389"
   ]
  },
  {
   "cell_type": "code",
   "execution_count": null,
   "metadata": {},
   "outputs": [],
   "source": [
    "qiime feature-table summarize \\\n",
    "--i-table BNW-skin-table-final-UNCERTAIN-ms2-mf389.qza \\\n",
    "--o-visualization BNW-skin-table-final-UNCERTAIN-ms2-mf389.qzv"
   ]
  },
  {
   "cell_type": "code",
   "execution_count": null,
   "metadata": {},
   "outputs": [],
   "source": [
    "qiime feature-table filter-features \\\n",
    "--i-table BNW-skin-table-final-MANGYonly.qza \\\n",
    "--o-filtered-table BNW-skin-table-final-MANGY-ms2-mf93.qza \\\n",
    "--p-min-samples 2 \\\n",
    "--p-min-frequency 93"
   ]
  },
  {
   "cell_type": "code",
   "execution_count": null,
   "metadata": {},
   "outputs": [],
   "source": [
    "qiime feature-table summarize \\\n",
    "--i-table BNW-skin-table-final-MANGY-ms2-mf93.qza \\\n",
    "--o-visualization BNW-skin-table-final-MANGY-ms2-mf93.qzv"
   ]
  },
  {
   "cell_type": "code",
   "execution_count": null,
   "metadata": {},
   "outputs": [],
   "source": [
    "qiime feature-table filter-features \\\n",
    "--i-table BNW-skin-table-final-SEVEREonly.qza \\\n",
    "--o-filtered-table BNW-skin-table-final-SEVERE-ms2-mf158.qza \\\n",
    "--p-min-samples 2 \\\n",
    "--p-min-frequency 158"
   ]
  },
  {
   "cell_type": "code",
   "execution_count": null,
   "metadata": {},
   "outputs": [],
   "source": [
    "qiime feature-table summarize \\\n",
    "--i-table BNW-skin-table-final-SEVERE-ms2-mf158.qza \\\n",
    "--o-visualization BNW-skin-table-final-SEVERE-ms2-mf158.qzv"
   ]
  },
  {
   "cell_type": "markdown",
   "metadata": {},
   "source": [
    "# Core analysis of filtered "
   ]
  },
  {
   "cell_type": "code",
   "execution_count": null,
   "metadata": {},
   "outputs": [],
   "source": [
    "qiime feature-table core-features \\\n",
    "--i-table BNW-skin-table-final-OBSHEALTHY-ms2-mf67.qza \\\n",
    "--o-visualization BNW-skin-table-final-OBSHEALTHYonly-ms2-mf67-CORE-FEATURES.qzv"
   ]
  },
  {
   "cell_type": "code",
   "execution_count": null,
   "metadata": {},
   "outputs": [],
   "source": [
    "qiime feature-table core-features \\\n",
    "--i-table BNW-skin-table-final-CONFHEALTHY-ms2-mf198.qza \\\n",
    "--o-visualization BNW-skin-table-final-CONFHEALTHYonly-ms2-mf198-CORE-FEATURES.qzv"
   ]
  },
  {
   "cell_type": "code",
   "execution_count": null,
   "metadata": {},
   "outputs": [],
   "source": [
    "qiime feature-table core-features \\\n",
    "--i-table BNW-skin-table-final-UNCERTAIN-ms2-mf389.qza \\\n",
    "--o-visualization BNW-skin-table-final-UNCERTAINonly-ms2-mf389-CORE-FEATURES.qzv"
   ]
  },
  {
   "cell_type": "code",
   "execution_count": null,
   "metadata": {},
   "outputs": [],
   "source": [
    "qiime feature-table core-features \\\n",
    "--i-table BNW-skin-table-final-MANGY-ms2-mf93.qza \\\n",
    "--o-visualization BNW-skin-table-final-MANGYonly-ms2-mf93-CORE-FEATURES.qzv"
   ]
  },
  {
   "cell_type": "code",
   "execution_count": null,
   "metadata": {},
   "outputs": [],
   "source": [
    "qiime feature-table core-features \\\n",
    "--i-table BNW-skin-table-final-SEVERE-ms2-mf158.qza \\\n",
    "--o-visualization BNW-skin-table-final-SEVEREonly-ms2-mf158-CORE-FEATURES.qzv"
   ]
  },
  {
   "cell_type": "markdown",
   "metadata": {},
   "source": [
    "# Merge filtred tables together to look at core features across all wombats"
   ]
  },
  {
   "cell_type": "code",
   "execution_count": null,
   "metadata": {},
   "outputs": [],
   "source": [
    "qiime feature-table merge \\\n",
    "--i-tables BNW-skin-table-final-OBSHEALTHY-ms2-mf67.qza BNW-skin-table-final-CONFHEALTHY-ms2-mf198.qza BNW-skin-table-final-UNCERTAIN-ms2-mf389.qza BNW-skin-table-final-SEVERE-ms2-mf158.qza BNW-skin-table-final-MANGY-ms2-mf93.qza \\\n",
    "--o-merged-table BNW-skin-table-final-FILTERED-MERGED.qza"
   ]
  },
  {
   "cell_type": "code",
   "execution_count": null,
   "metadata": {},
   "outputs": [],
   "source": [
    "qiime feature-table core-features \\\n",
    "--i-table BNW-skin-table-final-FILTERED-MERGED.qza \\\n",
    "--o-visualization BNW-skin-table-final-FILTERED-MERGED-CORE-FEATURES.qzv"
   ]
  },
  {
   "cell_type": "markdown",
   "metadata": {},
   "source": [
    "# Export files to analyse in R"
   ]
  },
  {
   "cell_type": "code",
   "execution_count": null,
   "metadata": {},
   "outputs": [],
   "source": [
    "# export unrooted tree\n",
    "qiime tools export \\\n",
    "--input-path BNW-skin-sepp-tree.qza \\\n",
    "--output-path /Users/christinanaesborg/Desktop/Microbiome"
   ]
  },
  {
   "cell_type": "code",
   "execution_count": null,
   "metadata": {},
   "outputs": [],
   "source": [
    "# export taxonomy\n",
    "qiime tools export \\\n",
    "--input-path BNW-skin-silva-132.qza \\\n",
    "--output-path /Users/christinanaesborg/Desktop/Microbiome"
   ]
  },
  {
   "cell_type": "code",
   "execution_count": null,
   "metadata": {},
   "outputs": [],
   "source": [
    "# export filtered table\n",
    "qiime tools export \\\n",
    "--input-path BNW-table-atleast-12336-reads.qza \\\n",
    "--output-path /Users/christinanaesborg/Desktop/Microbiome"
   ]
  },
  {
   "cell_type": "code",
   "execution_count": null,
   "metadata": {},
   "outputs": [],
   "source": [
    "qiime tools export \\\n",
    "--input-path observed_features.qza \\\n",
    "--output-path /Users/christinanaesborg/Desktop/Microbiome"
   ]
  },
  {
   "cell_type": "code",
   "execution_count": null,
   "metadata": {},
   "outputs": [],
   "source": [
    "# Following script will change the first line of our file to desired header\n",
    "sed 's/Feature ID/#OTUID/' /Users/christinanaesborg/Desktop/Microbiome/taxonomy.tsv | sed 's/Taxon/taxonomy/' | sed 's/Confidence/confidence/' > /Users/christinanaesborg/Desktop/Microbiome/biom-taxonomy.tsv"
   ]
  },
  {
   "cell_type": "code",
   "execution_count": null,
   "metadata": {},
   "outputs": [],
   "source": [
    "biom add-metadata \\\n",
    "-i /Users/christinanaesborg/Desktop/Microbiome/feature-table.biom \\\n",
    "-o /Users/christinanaesborg/Desktop/Microbiome/table-with-taxonomyv2.biom \\\n",
    "--observation-metadata-fp /Users/christinanaesborg/Desktop/Microbiome/biom-taxonomy.tsv \\\n",
    "--sc-separated taxonomy"
   ]
  },
  {
   "cell_type": "code",
   "execution_count": null,
   "metadata": {},
   "outputs": [],
   "source": [
    "qiime tools export \n",
    "--input-path faiths-pd-vector.qza \n",
    "--output-path /Users/christinanaesborg/Desktop/Microbiome/QIIME2_outputs/16S"
   ]
  },
  {
   "cell_type": "code",
   "execution_count": null,
   "metadata": {},
   "outputs": [],
   "source": [
    "qiime taxa collapse \\\n",
    "--i-table BNW-skin-reindexed-table.qza \\\n",
    "--i-taxonomy BNW-skin-silva-132.qza \\\n",
    "--p-level 6 \\\n",
    "--output-dir /Biom\n",
    "\n",
    "qiime feature-table summarize \\\n",
    "--i-table collapsed_table.qza \\\n",
    "--o-visualization collapsed_table.qzv"
   ]
  },
  {
   "cell_type": "markdown",
   "metadata": {},
   "source": [
    "# GreenGenes database - we ended up using SILVA in the final analysis"
   ]
  },
  {
   "cell_type": "code",
   "execution_count": null,
   "metadata": {},
   "outputs": [],
   "source": [
    "qiime tools import \\\n",
    "  --type 'FeatureData[Sequence]' \\\n",
    "  --input-path /Users/christinanaesborg/Desktop/gg_13_8_otus/rep_set/99_otus.fasta  \\                            \n",
    "  --output-path gg-99_otus.qza"
   ]
  },
  {
   "cell_type": "code",
   "execution_count": null,
   "metadata": {},
   "outputs": [],
   "source": [
    "qiime tools import \\\n",
    "  --type 'FeatureData[Taxonomy]' \\\n",
    "  --input-format HeaderlessTSVTaxonomyFormat \\\n",
    "  --input-path /Users/christinanaesborg/Desktop/gg_13_8_otus/taxonomy/99_otu_taxonomy.txt  \\                             \n",
    "  --output-path gg-99_ref-taxonomy.qz"
   ]
  },
  {
   "cell_type": "raw",
   "metadata": {},
   "source": [
    "# import reference data (GreenGenes). Output files: gg-99_otus.qza and gg-99_ref-taxonomy.qza"
   ]
  },
  {
   "cell_type": "code",
   "execution_count": null,
   "metadata": {},
   "outputs": [],
   "source": [
    "qiime vsearch cluster-features-closed-reference \\\n",
    "  --i-table BNW-skin-table.qza \\\n",
    "  --i-sequences BNW-skin-rep-seqs.qza \\\n",
    "  --i-reference-sequences gg-99_otus.qza \\\n",
    "  --p-perc-identity 0.99 \\\n",
    "  --o-clustered-table gg-99_cluster-table.qza \\\n",
    "  --o-unmatched-sequences unmatched.qza \\\n",
    "  --o-clustered-sequences gg-99_rep.qz"
   ]
  },
  {
   "cell_type": "raw",
   "metadata": {},
   "source": [
    "# OTU picking. Output files: gg-99_cluster-table.qza gg-99_rep.qza unmatched.qza"
   ]
  },
  {
   "cell_type": "code",
   "execution_count": null,
   "metadata": {},
   "outputs": [],
   "source": [
    "# extract reference reads - primers are 515F/806R\n",
    "qiime feature-classifier extract-reads \\\n",
    "  --i-sequences gg-99_otus.qza \\\n",
    "  --p-f-primer GTGCCAGCMGCCGCGGTAA \\\n",
    "  --p-r-primer GGACTACHVGGGTWTCTAAT \\\n",
    "  --p-trunc-len 120 \\\n",
    "  --p-min-length 100 \\\n",
    "  --p-max-length 400 \\\n",
    "  --o-reads gg_ref-seqs.qza"
   ]
  },
  {
   "cell_type": "code",
   "execution_count": null,
   "metadata": {},
   "outputs": [],
   "source": [
    "# train naive bayes classifier\n",
    "qiime feature-classifier fit-classifier-naive-bayes \\\n",
    "  --i-reference-reads gg_ref-seqs.qza \\\n",
    "  --i-reference-taxonomy gg-99_ref-taxonomy.qza \\\n",
    "  --o-classifier gg-99_classifier.qza"
   ]
  },
  {
   "cell_type": "code",
   "execution_count": null,
   "metadata": {},
   "outputs": [],
   "source": [
    "qiime feature-classifier classify-sklearn \\\n",
    "  --i-classifier gg-99_classifier.qza \\\n",
    "  --i-reads BNW-skin-rep-seqs.qza \\\n",
    "  --o-classification BNW-skin-gg_138.qza"
   ]
  },
  {
   "cell_type": "code",
   "execution_count": null,
   "metadata": {},
   "outputs": [],
   "source": [
    "qiime metadata tabulate \\\n",
    "--m-input-file BNW-skin-gg_138.qza \\\n",
    "--o-visualization BNW-skin-gg_138.qzv"
   ]
  },
  {
   "cell_type": "code",
   "execution_count": null,
   "metadata": {},
   "outputs": [],
   "source": [
    "qiime fragment-insertion sepp \\\n",
    "--i-representative-sequences BNW-skin-rep-seqs.qza \\\n",
    "--i-reference-database /Users/christinanaesborg/Desktop/Microbiome_raw\\ samples/sepp-refs-gg-13-8.qza  \\              \n",
    "--o-tree BNW-skin-sepp-tree-gg.qza \\            \n",
    "--o-placements BNW-skin-sepp-placements-gg.qza \\\n",
    "--verbose \\  \n",
    "--p-threads 2"
   ]
  },
  {
   "cell_type": "raw",
   "metadata": {},
   "source": [
    "# Create phylogenetic tree using sepp. Might take a couple of days to run. Output files: BNW-skin-sepp-tree-gg.qza BNW-skin-sepp-placements-gg.qza"
   ]
  },
  {
   "cell_type": "code",
   "execution_count": null,
   "metadata": {},
   "outputs": [],
   "source": [
    "qiime fragment-insertion filter-features \\\n",
    "  --i-table BNW-skin-table.qza \\\n",
    "  --i-tree BNW-skin-sepp-tree-gg.qza \\\n",
    "  --o-filtered-table BNW-skin-filtered_table-gg.qza \\\n",
    "  --o-removed-table BNW-skin-removed_table-gg.qza \\\n",
    "  --verbose"
   ]
  },
  {
   "cell_type": "code",
   "execution_count": null,
   "metadata": {},
   "outputs": [],
   "source": [
    "qiime feature-table summarize \\\n",
    "--i-table BNW-skin-removed_table-gg.qza \\\n",
    "--o-visualization BNW-skin-removed_table-gg.qzv"
   ]
  },
  {
   "cell_type": "raw",
   "metadata": {},
   "source": [
    "# Visualise table. Looks like nothing was removed, so will just use the unfiltered table (BNW-skin-table.qza) for subsequent analyses"
   ]
  },
  {
   "cell_type": "code",
   "execution_count": null,
   "metadata": {},
   "outputs": [],
   "source": [
    "# alpha rarefaction\n",
    "qiime diversity alpha-rarefaction \\\n",
    "--i-table BNW-skin-table.qza \\\n",
    "--m-metadata-file /Users/christinanaesborg/Desktop/BNW-skin-metadata.txt   \\\n",
    "--o-visualization BNW-skin-table-rarefaction-gg.qzv \\\n",
    "--p-min-depth 500 \\\n",
    "--p-max-depth 50000\n",
    "\n",
    "# output: BNW-skin-table-rarefaction.qzv"
   ]
  },
  {
   "cell_type": "raw",
   "metadata": {},
   "source": [
    "# plateaus around 10K reads"
   ]
  },
  {
   "cell_type": "code",
   "execution_count": null,
   "metadata": {},
   "outputs": [],
   "source": [
    "# Generate phylogenetic tree for diversity analysis using mafft and fasttree\n",
    "qiime phylogeny align-to-tree-mafft-fasttree \\\n",
    "  --i-sequences BNW-skin-rep-seqs.qza \\\n",
    "  --o-alignment gg-aligned-rep-seqs.qza \\\n",
    "  --o-masked-alignment gg-masked-aligned-rep-seqs.qza \\\n",
    "  --o-tree gg-unrooted-tree.qza \\\n",
    "  --o-rooted-tree gg-rooted-tree.qza"
   ]
  },
  {
   "cell_type": "code",
   "execution_count": null,
   "metadata": {},
   "outputs": [],
   "source": [
    "qiime diversity core-metrics-phylogenetic \\\n",
    "  --i-phylogeny gg-rooted-tree.qza \\\n",
    "  --i-table BNW-skin-table.qza \\\n",
    "  --p-sampling-depth 12105 \\\n",
    "  --m-metadata-file /Users/christinanaesborg/Desktop/BNW-skin-metadata.tsv  \\\n",
    "  --output-dir gg-core-metrics-results"
   ]
  },
  {
   "cell_type": "raw",
   "metadata": {},
   "source": [
    "# generates a lot of files - has been placed in their own fold."
   ]
  },
  {
   "cell_type": "code",
   "execution_count": null,
   "metadata": {},
   "outputs": [],
   "source": [
    "# alpha diversity\n",
    "qiime diversity alpha-group-significance \\\n",
    "  --i-alpha-diversity gg-core-metrics-results/faith_pd_vector.qza \\\n",
    "  --m-metadata-file BNW-skin-metadata.txt \\\n",
    "  --o-visualization gg-core-metrics-results/faith-pd-group-significance.qzv"
   ]
  },
  {
   "cell_type": "code",
   "execution_count": null,
   "metadata": {},
   "outputs": [],
   "source": [
    "# alpha diversity\n",
    "qiime diversity alpha-group-significance \\\n",
    "  --i-alpha-diversity gg-core-metrics-results/evenness_vector.qza \\\n",
    "  --m-metadata-file BNW-skin-metadata.txt \\\n",
    "  --o-visualization gg-core-metrics-results/evenness-group-significance.qzv"
   ]
  },
  {
   "cell_type": "code",
   "execution_count": null,
   "metadata": {},
   "outputs": [],
   "source": [
    "# beta diversity - body site\n",
    "qiime diversity beta-group-significance \\\n",
    "  --i-distance-matrix gg-core-metrics-results/unweighted_unifrac_distance_matrix.qza \\\n",
    "  --m-metadata-file BNW-skin-metadata.txt \\\n",
    "  --m-metadata-column bodysite \\\n",
    "  --o-visualization gg-core-metrics-results/unweighted-unifrac-body-site-significance.qzv \\\n",
    "  --p-pairwise"
   ]
  },
  {
   "cell_type": "code",
   "execution_count": null,
   "metadata": {},
   "outputs": [],
   "source": [
    "# beta diversity - individuals\n",
    "qiime diversity beta-group-significance \\\n",
    "  --i-distance-matrix gg-core-metrics-results/unweighted_unifrac_distance_matrix.qza \\\n",
    "  --m-metadata-file BNW-skin-metadata.tsv \\\n",
    "  --m-metadata-column wombatid \\\n",
    "  --o-visualization gg-core-metrics-results/unweighted-unifrac-subject-group-significance.qzv \\\n",
    "  --p-pairwise"
   ]
  },
  {
   "cell_type": "code",
   "execution_count": null,
   "metadata": {},
   "outputs": [],
   "source": [
    "# beta diversity - infection status\n",
    "qiime diversity beta-group-significance \\\n",
    "  --i-distance-matrix gg-core-metrics-results/unweighted_unifrac_distance_matrix.qza \\\n",
    "  --m-metadata-file BNW-skin-metadata.txt \\\n",
    "  --m-metadata-column infectionstatus \\\n",
    "  --o-visualization gg-core-metrics-results/unweighted-unifrac-infection-status-significance.qzv \\\n",
    "  --p-pairwise"
   ]
  }
 ],
 "metadata": {
  "kernelspec": {
   "display_name": "Python 3",
   "language": "python",
   "name": "python3"
  },
  "language_info": {
   "codemirror_mode": {
    "name": "ipython",
    "version": 3
   },
   "file_extension": ".py",
   "mimetype": "text/x-python",
   "name": "python",
   "nbconvert_exporter": "python",
   "pygments_lexer": "ipython3",
   "version": "3.8.10"
  }
 },
 "nbformat": 4,
 "nbformat_minor": 4
}
