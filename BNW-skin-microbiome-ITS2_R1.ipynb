{
 "cells": [
  {
   "cell_type": "code",
   "execution_count": null,
   "metadata": {},
   "outputs": [],
   "source": [
    "# import R1 sequences\n",
    "qiime tools import \\\n",
    "--type 'SampleData[SequencesWithQuality]' \\\n",
    "--input-path ../reads/R1 \\\n",
    "--input-format CasavaOneEightSingleLanePerSampleDirFmt \\\n",
    "--output-path demux-r1.qza"
   ]
  },
  {
   "cell_type": "code",
   "execution_count": null,
   "metadata": {},
   "outputs": [],
   "source": [
    "qiime demux summarize \\\n",
    "--i-data demux-r1.qza \\\n",
    "--o-visualization demux-r1.qzv"
   ]
  },
  {
   "cell_type": "code",
   "execution_count": null,
   "metadata": {},
   "outputs": [],
   "source": [
    "qiime dada2 denoise-single \\\n",
    "--i-demultiplexed-seqs demux-r1.qza \\\n",
    "--p-trunc-len 0 \\\n",
    "--p-max-ee 2 \\\n",
    "--p-trunc-q 2 \\\n",
    "--p-n-threads 2 \\ \n",
    "--o-table ITS-r1-table.qza \\\n",
    "--o-representative-sequences ITS-r1-rep-seqs.qza \\\n",
    "--o-denoising-stats r1-denoising-stats.qza"
   ]
  },
  {
   "cell_type": "code",
   "execution_count": null,
   "metadata": {},
   "outputs": [],
   "source": [
    "qiime feature-table tabulate-seqs \\\n",
    "--i-data ITS-r1-rep-seqs.qza \\\n",
    "--o-visualization ITS-r1-rep-seqs.qzv"
   ]
  },
  {
   "cell_type": "code",
   "execution_count": null,
   "metadata": {},
   "outputs": [],
   "source": [
    "qiime feature-table summarize \\\n",
    "--i-table ITS-r1-table.qza \\\n",
    "--o-visualization ITS-r1-table.qzv"
   ]
  },
  {
   "cell_type": "code",
   "execution_count": null,
   "metadata": {},
   "outputs": [],
   "source": [
    "# reindexing of sample names - from numbers to w#\n",
    "qiime feature-table group \\\n",
    "  --i-table ITS-r1-table.qza \\\n",
    "  --p-axis sample \\\n",
    "  --m-metadata-file BNW-skin-metadata-index.tsv \\\n",
    "  --m-metadata-column SampleID-new \\\n",
    "  --p-mode sum \\\n",
    "  --o-grouped-table ITS-r1-reindexed-table.qza"
   ]
  },
  {
   "cell_type": "code",
   "execution_count": null,
   "metadata": {},
   "outputs": [],
   "source": [
    "qiime feature-table summarize \\\n",
    "  --i-table ITS-r1-reindexed-table.qza \\\n",
    "  --m-sample-metadata-file BNW-skin-metadata.tsv \\\n",
    "  --o-visualization ITS-r1-reindexed-table.qzv"
   ]
  },
  {
   "cell_type": "code",
   "execution_count": null,
   "metadata": {},
   "outputs": [],
   "source": [
    "# download the UNITE QIIME reference sequences and taxonomy files\n",
    "wget https://files.plutof.ut.ee/public/orig/98/AE/98AE96C6593FC9C52D1C46B96C2D9064291F4DBA625EF189FEC1CCAFCF4A1691.gz"
   ]
  },
  {
   "cell_type": "code",
   "execution_count": null,
   "metadata": {},
   "outputs": [],
   "source": [
    "# decompress file\n",
    "tar xzf 98AE96C6593FC9C52D1C46B96C2D9064291F4DBA625EF189FEC1CCAFCF4A1691.gz"
   ]
  },
  {
   "cell_type": "code",
   "execution_count": null,
   "metadata": {},
   "outputs": [],
   "source": [
    "# move into developer environment\n",
    "cd sh_qiime_release_04.02.2020/developer/"
   ]
  },
  {
   "cell_type": "code",
   "execution_count": null,
   "metadata": {},
   "outputs": [],
   "source": [
    "# fix formatting errors that prevent importation of the reference sequences. \n",
    "# There are white spaces and lower case letters that need to be converted\n",
    "awk '/^>/ {print($0)}; /^[^>]/ {print(toupper($0))}' sh_refs_qiime_ver8_99_04.02.2020_dev.fasta | tr -d ' ' > sh_refs_qiime_ver8_99_04.02.2020_dev_uppercase.fasta"
   ]
  },
  {
   "cell_type": "code",
   "execution_count": null,
   "metadata": {},
   "outputs": [],
   "source": [
    "# import UNITE reference sequences\n",
    "qiime tools import \\\n",
    "--type 'FeatureData[Sequence]' \\\n",
    "--input-path sh_refs_qiime_ver8_99_04.02.2020_dev_uppercase.fasta \\\n",
    "--output-path unite-ver8-seqs_99.qza"
   ]
  },
  {
   "cell_type": "code",
   "execution_count": null,
   "metadata": {},
   "outputs": [],
   "source": [
    "# import taxonomy file\n",
    "qiime tools import \\\n",
    "--type 'FeatureData[Taxonomy]' \\\n",
    "--input-path sh_taxonomy_qiime_ver8_99_04.02.2020_dev.txt \\\n",
    "--output-path unite-ver8-taxonomy_99.qza \\\n",
    "--input-format HeaderlessTSVTaxonomyFormat"
   ]
  },
  {
   "cell_type": "code",
   "execution_count": null,
   "metadata": {},
   "outputs": [],
   "source": [
    "# train the classifier\n",
    "qiime feature-classifier fit-classifier-naive-bayes \\\n",
    "--i-reference-reads unite-ver8-seqs_99.qza \\\n",
    "--i-reference-taxonomy unite-ver8-taxonomy_99.qza \\\n",
    "--o-classifier unite-ver8-99-classifier.qza"
   ]
  },
  {
   "cell_type": "code",
   "execution_count": null,
   "metadata": {},
   "outputs": [],
   "source": [
    "qiime feature-classifier classify-sklearn \\\n",
    "  --i-classifier sh_qiime_release_04.02.2020/developer/unite-ver8-99-classifier.qza \\\n",
    "  --i-reads ITS-r1-rep-seqs.qza \\\n",
    "  --o-classification taxonomy-single-end.qza"
   ]
  },
  {
   "cell_type": "code",
   "execution_count": null,
   "metadata": {},
   "outputs": [],
   "source": [
    "qiime metadata tabulate \\\n",
    "--m-input-file taxonomy-single-end.qza \\\n",
    "--o-visualization taxonomy-single-end.qzv"
   ]
  },
  {
   "cell_type": "code",
   "execution_count": null,
   "metadata": {},
   "outputs": [],
   "source": [
    "qiime taxa barplot \\\n",
    "--i-table ITS-r1-reindexed-table.qza \\\n",
    "--i-taxonomy taxonomy-single-end.qza \\\n",
    "--m-metadata-file BNW-skin-metadata.tsv \\\n",
    "--o-visualization taxa-bar-plots-r1.qzv"
   ]
  },
  {
   "cell_type": "code",
   "execution_count": null,
   "metadata": {},
   "outputs": [],
   "source": [
    "qiime diversity alpha-rarefaction \\\n",
    "--i-table ITS-r1-reindexed-table.qza \\\n",
    "--m-metadata-file BNW-skin-metadata.tsv   \\\n",
    "--o-visualization ITS-r1-reindexed-table-rarefaction.qzv \\\n",
    "--p-min-depth 500 \\\n",
    "--p-max-depth 50000"
   ]
  },
  {
   "cell_type": "code",
   "execution_count": null,
   "metadata": {},
   "outputs": [],
   "source": [
    "qiime feature-table filter-samples \\\n",
    "--i-table ITS-r1-reindexed-table.qza \\\n",
    "--m-metadata-file BNW-skin-metadata.tsv \\\n",
    "--p-min-frequency 9778 \\\n",
    "--o-filtered-table ITS-r1-table-atleast-9778-reads.qza"
   ]
  },
  {
   "cell_type": "code",
   "execution_count": null,
   "metadata": {},
   "outputs": [],
   "source": [
    "qiime feature-table summarize \\\n",
    "--i-table ITS-r1-table-atleast-9778-reads.qza \\\n",
    "--o-visualization ITS-r1-table-atleast-9778-reads.qzv"
   ]
  },
  {
   "cell_type": "markdown",
   "metadata": {},
   "source": [
    "# Taxa barplot using filtered reads"
   ]
  },
  {
   "cell_type": "code",
   "execution_count": null,
   "metadata": {},
   "outputs": [],
   "source": [
    "qiime taxa barplot \\\n",
    "--i-table ITS-r1-table-atleast-9778-reads.qza \\\n",
    "--i-taxonomy taxonomy-single-end.qza \\\n",
    "--m-metadata-file BNW-skin-metadata.tsv \\\n",
    "--o-visualization ITS-r1-table-atleast-9778-reads-BARPLOT-PER-SAMPLE.qzv"
   ]
  },
  {
   "cell_type": "code",
   "execution_count": null,
   "metadata": {},
   "outputs": [],
   "source": [
    "qiime feature-table group \\\n",
    "--i-table ITS-r1-table-atleast-9778-reads.qza \\\n",
    "--m-metadata-file BNW-skin-metadata.tsv \\\n",
    "--m-metadata-column infectionstatus \\\n",
    "--p-mode mean-ceiling \\\n",
    "--p-axis sample \\\n",
    "--o-grouped-table ITS-r1-table-atleast-9778-reads-INFECTION-STATUS.qza"
   ]
  },
  {
   "cell_type": "code",
   "execution_count": null,
   "metadata": {},
   "outputs": [],
   "source": [
    "qiime taxa barplot \\\n",
    "--i-table ITS-r1-table-atleast-9778-reads-INFECTION-STATUS.qza \\\n",
    "--i-taxonomy taxonomy-single-end.qza \\\n",
    "--m-metadata-file BNW-skin-metadata-infection.tsv \\\n",
    "--o-visualization ITS-r1-table-atleast-9778-reads-INFECTION-STATUS-BARPLOT.qzv"
   ]
  },
  {
   "cell_type": "code",
   "execution_count": null,
   "metadata": {},
   "outputs": [],
   "source": [
    "qiime feature-table group \\\n",
    "--i-table ITS-r1-table-atleast-9778-reads.qza \\\n",
    "--m-metadata-file BNW-skin-metadata.tsv \\\n",
    "--m-metadata-column bodysite \\\n",
    "--p-mode mean-ceiling \\\n",
    "--p-axis sample \\\n",
    "--o-grouped-table ITS-r1-table-atleast-9778-reads-BODY-SITE.qza"
   ]
  },
  {
   "cell_type": "code",
   "execution_count": null,
   "metadata": {},
   "outputs": [],
   "source": [
    "qiime taxa barplot \\\n",
    "--i-table ITS-r1-table-atleast-9778-reads-BODY-SITE.qza \\\n",
    "--i-taxonomy taxonomy-single-end.qza \\\n",
    "--m-metadata-file BNW-skin-metadata-BS.tsv \\\n",
    "--o-visualization ITS-r1-table-atleast-9778-reads-BODY-SITE-BARPLOT.qzv"
   ]
  },
  {
   "cell_type": "code",
   "execution_count": null,
   "metadata": {},
   "outputs": [],
   "source": [
    "qiime feature-table group \\\n",
    "--i-table ITS-r1-table-atleast-9778-reads.qza \\\n",
    "--m-metadata-file BNW-skin-metadata.tsv \\\n",
    "--m-metadata-column wombatid \\\n",
    "--p-mode mean-ceiling \\\n",
    "--p-axis sample \\\n",
    "--o-grouped-table ITS-r1-table-atleast-9778-reads-WOMBAT.qza"
   ]
  },
  {
   "cell_type": "code",
   "execution_count": null,
   "metadata": {},
   "outputs": [],
   "source": [
    "qiime taxa barplot \\\n",
    "--i-table ITS-r1-table-atleast-9778-reads-WOMBAT.qza \\\n",
    "--i-taxonomy taxonomy-single-end.qza \\\n",
    "--m-metadata-file BNW-skin-metadata-WOM.tsv \\\n",
    "--o-visualization ITS-r1-table-atleast-9778-reads-WOMBAT-BARPLOT.qzv"
   ]
  },
  {
   "cell_type": "markdown",
   "metadata": {},
   "source": [
    "# Alpha/beta diversity code"
   ]
  },
  {
   "cell_type": "code",
   "execution_count": null,
   "metadata": {},
   "outputs": [],
   "source": [
    "# calculate alpha diversity using shannon's index\n",
    "qiime diversity alpha \\\n",
    "  --i-table ITS-r1-reindexed-table.qza \\\n",
    "  --p-metric shannon \\      \n",
    "  --o-alpha-diversity ITS-r1-shannon.qza\n",
    "# visualise\n",
    "qiime diversity alpha-group-significance \\\n",
    "  --i-alpha-diversity ITS-r1-shannon.qza \\\n",
    "  --m-metadata-file BNW-skin-metadata.tsv \\\n",
    "  --o-visualization ITS-r1-shannon-group-significance.qzv"
   ]
  },
  {
   "cell_type": "code",
   "execution_count": null,
   "metadata": {},
   "outputs": [],
   "source": [
    "# alpha diversity w. chao1\n",
    "qiime diversity alpha \\\n",
    "  --i-table ITS-r1-reindexed-table.qza \\\n",
    "  --p-metric chao1 \\      \n",
    "  --o-alpha-diversity ITS-r1-chao1.qza\n",
    "# visualise\n",
    "qiime diversity alpha-group-significance \\\n",
    "  --i-alpha-diversity ITS-r1-chao1.qza \\  \n",
    "  --m-metadata-file BNW-skin-metadata.tsv  \\\n",
    "  --o-visualization ITS-r1-chao1-group-significance.qzv"
   ]
  },
  {
   "cell_type": "code",
   "execution_count": null,
   "metadata": {},
   "outputs": [],
   "source": [
    "# alpha diversity w. Pielou's evenness\n",
    "qiime diversity alpha \\                   \n",
    "  --i-table ITS-r1-table.qza \\          \n",
    "  --p-metric pielou_e \\                                                      \n",
    "  --o-alpha-diversity ITS-r1-pielou_e.qza\n",
    "# visualise\n",
    "qiime diversity alpha-group-significance \\\n",
    "  --i-alpha-diversity ITS-r1-pielou_e.qza \\\n",
    "  --m-metadata-file BNW-skin-metadata.tsv  \\\n",
    "  --o-visualization ITS-r1-pielou_e-group-significance.qzv"
   ]
  },
  {
   "cell_type": "code",
   "execution_count": null,
   "metadata": {},
   "outputs": [],
   "source": [
    "# beta-diversity between body sites\n",
    "qiime diversity beta \\\n",
    "--i-table ITS-r1-reindexed-table.qza \\\n",
    "--p-metric braycurtis \\\n",
    "--o-distance-matrix ITS-r1-braycurtis-unweighted_unifrac_distance_matrix.qza\n",
    "\n",
    "qiime diversity beta-group-significance \\\n",
    "  --i-distance-matrix ITS-r1-braycurtisunweighted_unifrac_distance_matrix.qza \\\n",
    "  --m-metadata-file BNW-skin-metadata.tsv \\\n",
    "  --m-metadata-column bodysite \\\n",
    "  --o-visualization ITS-r1-braycurtis-unweighted-unifrac-body-site-significance.qzv \\\n",
    "  --p-pairwise"
   ]
  },
  {
   "cell_type": "code",
   "execution_count": null,
   "metadata": {},
   "outputs": [],
   "source": [
    "# beta-diversity between wombats\n",
    "qiime diversity beta-group-significance \\\n",
    "  --i-distance-matrix ITS-r1-braycurtisunweighted_unifrac_distance_matrix.qza \\\n",
    "  --m-metadata-file BNW-skin-metadata.tsv \\\n",
    "  --m-metadata-column wombatid \\\n",
    "  --o-visualization ITS-r1-braycurtis-unweighted-unifrac-wombatid-significance.qzv \\\n",
    "  --p-pairwise"
   ]
  },
  {
   "cell_type": "code",
   "execution_count": null,
   "metadata": {},
   "outputs": [],
   "source": [
    "# beta-diversity between infection status\n",
    "qiime diversity beta-group-significance \\\n",
    "  --i-distance-matrix ITS-r1-braycurtisunweighted_unifrac_distance_matrix.qza \\\n",
    "  --m-metadata-file BNW-skin-metadata.tsv \\\n",
    "  --m-metadata-column infectionstatus \\\n",
    "  --o-visualization ITS-r1-braycurtis-unweighted-unifrac-infection-status-significance.qzv \\\n",
    "  --p-pairwise"
   ]
  },
  {
   "cell_type": "markdown",
   "metadata": {},
   "source": [
    "# Export files to analyse in R"
   ]
  },
  {
   "cell_type": "code",
   "execution_count": null,
   "metadata": {},
   "outputs": [],
   "source": []
  }
 ],
 "metadata": {
  "kernelspec": {
   "display_name": "Python 3",
   "language": "python",
   "name": "python3"
  },
  "language_info": {
   "codemirror_mode": {
    "name": "ipython",
    "version": 3
   },
   "file_extension": ".py",
   "mimetype": "text/x-python",
   "name": "python",
   "nbconvert_exporter": "python",
   "pygments_lexer": "ipython3",
   "version": "3.8.5"
  }
 },
 "nbformat": 4,
 "nbformat_minor": 4
}
