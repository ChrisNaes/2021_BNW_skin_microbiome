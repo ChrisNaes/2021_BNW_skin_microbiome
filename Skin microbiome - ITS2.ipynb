{
 "cells": [
  {
   "cell_type": "code",
   "execution_count": null,
   "metadata": {},
   "outputs": [],
   "source": [
    "# install ITSxpress and Q2-itsxpress in the environment\n",
    "conda install -c bioconda itsxpress\n",
    "pip install q2-itsxpress"
   ]
  },
  {
   "cell_type": "code",
   "execution_count": null,
   "metadata": {},
   "outputs": [],
   "source": [
    "# refresh plugins\n",
    "qiime dev refresh-cache"
   ]
  },
  {
   "cell_type": "code",
   "execution_count": null,
   "metadata": {},
   "outputs": [],
   "source": [
    "# check to see if the plugins are installed correctly\n",
    "qiime itsxpress"
   ]
  },
  {
   "cell_type": "code",
   "execution_count": null,
   "metadata": {},
   "outputs": [],
   "source": [
    "# import ITS2 sequences\n",
    "qiime tools import \\\n",
    "--type 'SampleData[PairedEndSequencesWithQuality]' \\\n",
    "--input-path ITS2 \\\n",
    "--input-format CasavaOneEightSingleLanePerSampleDirFmt \\\n",
    "--output-path demux-paired-end.qza\n",
    "# output file: demux-paired-end.qza"
   ]
  },
  {
   "cell_type": "code",
   "execution_count": null,
   "metadata": {},
   "outputs": [],
   "source": [
    "qiime demux summarize \\\n",
    "--i-data demux-paired-end.qza \\\n",
    "--o-visualization demux-paired-end.qzv\n",
    "# output file: demux-paired-end.qzv"
   ]
  },
  {
   "cell_type": "code",
   "execution_count": null,
   "metadata": {},
   "outputs": [],
   "source": [
    "qiime dada2 denoise-paired \\\n",
    "--i-demultiplexed-seqs demux-paired-end.qza \\\n",
    "--p-trim-left-f 0 \\\n",
    "--p-trim-left-r 0 \\\n",
    "--p-trunc-len-f 0 \\\n",
    "--p-trunc-len-r 0 \\\n",
    "--o-representative-sequences BNW-skin-ITS-paired-rep-seqs.qza \\\n",
    "--o-table BNW-skin-ITS-paired-table.qza \\\n",
    "--o-denoising-stats BNW-skin-ITS-paired-stats-dada2.qza"
   ]
  },
  {
   "cell_type": "code",
   "execution_count": null,
   "metadata": {},
   "outputs": [],
   "source": [
    "# create visualisation files for the files above\n",
    "qiime metadata tabulate \\\n",
    "--m-input-file BNW-skin-ITS-paired-stats-dada2.qza \\\n",
    "--o-visualization ITS-BNW-skin-stats-dada2.qzv\n",
    "qiime feature-table summarize \\\n",
    "--i-table BNW-skin-ITS-paired-table.qza \\\n",
    "--o-visualization BNW-skin-ITS-paired-table.qzv\n",
    "qiime feature-table tabulate-seqs \\\n",
    "--i-data BNW-skin-ITS-paired-rep-seqs.qza \\\n",
    "--o-visualization BNW-skin-ITS-paired-rep-seqs.qzv"
   ]
  },
  {
   "cell_type": "code",
   "execution_count": null,
   "metadata": {},
   "outputs": [],
   "source": [
    "qiime feature-table group \\\n",
    "  --i-table BNW-skin-ITS-paired-table.qza \\\n",
    "  --p-axis sample \\\n",
    "  --m-metadata-file BNW-skin-metadata-index.tsv \\\n",
    "  --m-metadata-column SampleID-new \\\n",
    "  --p-mode sum \\\n",
    "  --o-grouped-table BNW-skin-ITS-paired-reindexed-table.qza"
   ]
  },
  {
   "cell_type": "code",
   "execution_count": null,
   "metadata": {},
   "outputs": [],
   "source": [
    "qiime feature-table summarize \\\n",
    "  --i-table BNW-skin-ITS-paired-reindexed-table.qza \\\n",
    "  --m-sample-metadata-file BNW-skin-metadata-ITS2.tsv \\\n",
    "  --o-visualization BNW-skin-ITS-paired-reindexed-table.qzv"
   ]
  },
  {
   "cell_type": "markdown",
   "metadata": {},
   "source": [
    "# UNITE database"
   ]
  },
  {
   "cell_type": "code",
   "execution_count": null,
   "metadata": {},
   "outputs": [],
   "source": [
    "# download the UNITE QIIME reference sequences and taxonomy files\n",
    "wget https://files.plutof.ut.ee/public/orig/C5/54/C5547B97AAA979E45F79DC4C8C4B12113389343D7588716B5AD330F8BDB300C9.tgz"
   ]
  },
  {
   "cell_type": "code",
   "execution_count": null,
   "metadata": {},
   "outputs": [],
   "source": [
    "# decompress file\n",
    "tar xzf C5547B97AAA979E45F79DC4C8C4B12113389343D7588716B5AD330F8BDB300C9.tgz"
   ]
  },
  {
   "cell_type": "code",
   "execution_count": null,
   "metadata": {},
   "outputs": [],
   "source": [
    "# move into developer environment\n",
    "cd sh_qiime_release_10.05.2021/developer/"
   ]
  },
  {
   "cell_type": "code",
   "execution_count": null,
   "metadata": {},
   "outputs": [],
   "source": [
    "# fix formatting errors that prevent importation of the reference sequences. \n",
    "# There are white spaces and lower case letters that need to be converted\n",
    "awk '/^>/ {print($0)}; /^[^>]/ {print(toupper($0))}' sh_refs_qiime_ver8_99_10.05.2021_dev.fasta | tr -d ' ' > sh_refs_qiime_ver8_99_10.05.2021_dev_uppercase.fasta"
   ]
  },
  {
   "cell_type": "code",
   "execution_count": null,
   "metadata": {},
   "outputs": [],
   "source": [
    "# import UNITE reference sequences\n",
    "qiime tools import \\\n",
    "--type 'FeatureData[Sequence]' \\\n",
    "--input-path sh_refs_qiime_ver8_99_10.05.2021_dev_uppercase.fasta \\\n",
    "--output-path unite-ver8-seqs_99.qza"
   ]
  },
  {
   "cell_type": "code",
   "execution_count": null,
   "metadata": {},
   "outputs": [],
   "source": [
    "# import taxonomy file\n",
    "qiime tools import \\\n",
    "--type 'FeatureData[Taxonomy]' \\\n",
    "--input-path sh_taxonomy_qiime_ver8_99_10.05.2021_dev.txt \\\n",
    "--output-path unite-ver8-taxonomy_99.qza \\\n",
    "--input-format HeaderlessTSVTaxonomyFormat"
   ]
  },
  {
   "cell_type": "code",
   "execution_count": null,
   "metadata": {},
   "outputs": [],
   "source": [
    "# train the classifier\n",
    "qiime feature-classifier fit-classifier-naive-bayes \\\n",
    "--i-reference-reads unite-ver8-seqs_99.qza \\\n",
    "--i-reference-taxonomy unite-ver8-taxonomy_99.qza \\\n",
    "--o-classifier unite-ver8-99-classifier.qza"
   ]
  },
  {
   "cell_type": "code",
   "execution_count": null,
   "metadata": {},
   "outputs": [],
   "source": [
    "# taxonomoc classification\n",
    "qiime feature-classifier classify-sklearn \\\n",
    "  --i-classifier sh_qiime_release_10.05.2021/developer/unite-ver8-99-classifier.qza \\\n",
    "  --i-reads BNW-skin-ITS-paired-rep-seqs.qza \\\n",
    "  --o-classification BNW-skin-unite-taxonomy-paired.qza"
   ]
  },
  {
   "cell_type": "code",
   "execution_count": null,
   "metadata": {},
   "outputs": [],
   "source": [
    "qiime taxa barplot \\\n",
    "  --i-table BNW-skin-ITS-paired-reindexed-table.qza \\\n",
    "  --i-taxonomy BNW-skin-unite-taxonomy-paired.qza \\\n",
    "  --m-metadata-file BNW-skin-metadata-ITS2.tsv \\\n",
    "  --o-visualization taxa-bar-plots.qzv"
   ]
  },
  {
   "cell_type": "code",
   "execution_count": null,
   "metadata": {},
   "outputs": [],
   "source": [
    "qiime metadata tabulate \\\n",
    "--m-input-file BNW-skin-unite-taxonomy-paired.qza \\\n",
    "--o-visualization BNW-skin-unite-taxonomy-paired.qzv"
   ]
  },
  {
   "cell_type": "code",
   "execution_count": null,
   "metadata": {},
   "outputs": [],
   "source": [
    "# create rarefaction table \n",
    "qiime diversity alpha-rarefaction \\\n",
    "--i-table BNW-skin-ITS-paired-reindexed-table.qza \\\n",
    "--m-metadata-file BNW-skin-metadata-ITS2.tsv   \\\n",
    "--o-visualization BNW-skin-ITS-paired-table-rarefaction.qzv \\\n",
    "--p-min-depth 500 \\\n",
    "--p-max-depth 50000\n",
    "\n",
    "# plateaus around 12K reads"
   ]
  },
  {
   "cell_type": "code",
   "execution_count": null,
   "metadata": {},
   "outputs": [],
   "source": [
    "qiime feature-table filter-samples \\\n",
    "--i-table BNW-skin-ITS-paired-reindexed-table.qza \\\n",
    "--m-metadata-file BNW-skin-metadata-ITS2.tsv \\\n",
    "--p-min-frequency 2198 \\\n",
    "--o-filtered-table BNW-skin-ITS-paired-table-atleast-2198-reads.qza"
   ]
  },
  {
   "cell_type": "markdown",
   "metadata": {},
   "source": [
    "# Remove toe samples and uncertain severity groupings from the analysis as well as controls"
   ]
  },
  {
   "cell_type": "code",
   "execution_count": null,
   "metadata": {},
   "outputs": [],
   "source": [
    "qiime feature-table filter-samples \\\n",
    "--i-table BNW-skin-ITS-paired-reindexed-table.qza \\\n",
    "--m-metadata-file BNW-skin-metadata-ITS2.tsv \\\n",
    "--p-where \"bodysite IN ('toe') OR [Severity] IN ('Uncertain/low mange', 'Observational healthy')\" \\\n",
    "--p-exclude-ids \\\n",
    "--o-filtered-table BNW-skin-table_Final-sev.qza"
   ]
  },
  {
   "cell_type": "code",
   "execution_count": null,
   "metadata": {},
   "outputs": [],
   "source": [
    "qiime feature-table filter-samples \\\n",
    "--i-table BNW-skin-table_Final-sev.qza \\\n",
    "--m-metadata-file BNW-skin-metadata-ITS2.tsv \\\n",
    "--p-where \"[sampletype]='Control'\" \\\n",
    "--p-exclude-ids \\\n",
    "--o-filtered-table BNW-skin-table_Final.qza"
   ]
  },
  {
   "cell_type": "code",
   "execution_count": null,
   "metadata": {},
   "outputs": [],
   "source": [
    "# remove samples with low reads\n",
    "qiime feature-table filter-samples \\\n",
    "--i-table BNW-skin-table_Final.qza \\\n",
    "--m-metadata-file BNW-skin-metadata-ITS2.tsv \\\n",
    "--p-min-frequency 2198 \\\n",
    "--o-filtered-table BNW-skin-table-at-least-2198-reads.qza"
   ]
  },
  {
   "cell_type": "code",
   "execution_count": null,
   "metadata": {},
   "outputs": [],
   "source": [
    "qiime feature-table summarize \\\n",
    "--i-table BNW-skin-table-at-least-2198-reads.qza \\\n",
    "--o-visualization BNW-skin-table-at-least-2198-reads.qzv "
   ]
  },
  {
   "cell_type": "code",
   "execution_count": null,
   "metadata": {},
   "outputs": [],
   "source": [
    "# create taxa barplot per individual sample\n",
    "qiime taxa barplot \\\n",
    "--i-table BNW-skin-table-at-least-2198-reads.qza \\\n",
    "--i-taxonomy BNW-skin-unite-taxonomy-paired.qza \\\n",
    "--m-metadata-file BNW-skin-metadata-ITS2.tsv \\\n",
    "--o-visualization BNW-skin-table-at-least-2198-reads-BARPLOT-PER-SAMPLE.qzv"
   ]
  },
  {
   "cell_type": "code",
   "execution_count": null,
   "metadata": {},
   "outputs": [],
   "source": [
    "# collapse samples by severity and make barplots\n",
    "qiime feature-table group \\\n",
    "--i-table BNW-skin-table-at-least-2198-reads.qza \\\n",
    "--m-metadata-file BNW-skin-metadata-ITS2.tsv \\\n",
    "--m-metadata-column Severity \\\n",
    "--p-mode mean-ceiling \\\n",
    "--p-axis sample \\\n",
    "--o-grouped-table BNW-skin-table-SEVERITY.qza"
   ]
  },
  {
   "cell_type": "code",
   "execution_count": null,
   "metadata": {},
   "outputs": [],
   "source": [
    "qiime taxa barplot \\\n",
    "--i-table BNW-skin-table-SEVERITY.qza \\\n",
    "--i-taxonomy BNW-skin-unite-taxonomy-paired.qza \\\n",
    "--m-metadata-file BNW-skin-metadata-SEVERITY.tsv \\\n",
    "--o-visualization BNW-skin-table-SEVERITY-BARPLOT.qzv"
   ]
  },
  {
   "cell_type": "code",
   "execution_count": null,
   "metadata": {},
   "outputs": [],
   "source": [
    "# core diversity on filtered table using 5538 rarefaction depth\n",
    "qiime diversity core-metrics-phylogenetic \\\n",
    "--i-table BNW-skin-table-at-least-2198-reads.qza \\\n",
    "--i-phylogeny unite-rooted-tree.qza \\\n",
    "--p-sampling-depth 5538 \\\n",
    "--m-metadata-file BNW-skin-metadata-ITS2.tsv \\\n",
    "--output-dir BNW-skin-Core-metrics-filtered-table-5538"
   ]
  },
  {
   "cell_type": "code",
   "execution_count": null,
   "metadata": {},
   "outputs": [],
   "source": [
    "for i in BNW-skin-Core-metrics-filtered-table-5538/*vector.qza; do qiime diversity alpha-group-significance --i-alpha-diversity $i --m-metadata-file BNW-skin-metadata-ITS2.tsv --o-visualization ${i/.qza/.qzv}; done"
   ]
  },
  {
   "cell_type": "code",
   "execution_count": null,
   "metadata": {},
   "outputs": [],
   "source": [
    "qiime diversity alpha \\\n",
    "  --i-table BNW-skin-table-at-least-2198-reads.qza \\\n",
    "  --p-metric chao1 \\\n",
    "  --o-alpha-diversity BNW-skin-Core-metrics-filtered-table-5538/chao1_index.qza"
   ]
  },
  {
   "cell_type": "code",
   "execution_count": null,
   "metadata": {},
   "outputs": [],
   "source": [
    "qiime diversity alpha-group-significance \\\n",
    "  --i-alpha-diversity BNW-skin-Core-metrics-filtered-table-5538/chao1_index.qza \\\n",
    "  --m-metadata-file BNW-skin-metadata-ITS2.tsv \\\n",
    "  --o-visualization BNW-skin-Core-metrics-filtered-table-5538/chao1_index.qzv"
   ]
  },
  {
   "cell_type": "markdown",
   "metadata": {},
   "source": [
    "# Permanova test for microbial composition differences"
   ]
  },
  {
   "cell_type": "code",
   "execution_count": null,
   "metadata": {},
   "outputs": [],
   "source": [
    "qiime diversity beta-group-significance \\\n",
    "--i-distance-matrix BNW-skin-Core-metrics-filtered-table-5538/bray_curtis_distance_matrix.qza \\\n",
    "--m-metadata-file BNW-skin-metadata-ITS2.tsv \\\n",
    "--m-metadata-column Severity \\\n",
    "--o-visualization BNW-skin-Core-metrics-filtered-table-5538/bray_curtis_PERMANOVA.qzv \\\n",
    "--p-method permanova \\\n",
    "--p-pairwise"
   ]
  },
  {
   "cell_type": "code",
   "execution_count": null,
   "metadata": {},
   "outputs": [],
   "source": [
    "qiime diversity beta-group-significance \\\n",
    "--i-distance-matrix BNW-skin-Core-metrics-filtered-table-5538/jaccard_distance_matrix.qza \\\n",
    "--m-metadata-file BNW-skin-metadata-ITS2.tsv \\\n",
    "--m-metadata-column Severity \\\n",
    "--o-visualization BNW-skin-Core-metrics-filtered-table-5538/jaccard_PERMANOVA.qzv \\\n",
    "--p-method permanova \\\n",
    "--p-pairwise"
   ]
  },
  {
   "cell_type": "markdown",
   "metadata": {},
   "source": [
    "# ANCOM analysis to identify differentially abundant features/OTUS"
   ]
  },
  {
   "cell_type": "code",
   "execution_count": null,
   "metadata": {},
   "outputs": [],
   "source": [
    "#remove low abundance/prevalence features\n",
    "qiime feature-table filter-features \\\n",
    "--i-table BNW-skin-table-at-least-2198-reads.qza \\\n",
    "--o-filtered-table BNW-skin-table-FILTERED-ANCOM-ms8-mf500.qza \\\n",
    "--p-min-samples 8 \\\n",
    "--p-min-frequency 500"
   ]
  },
  {
   "cell_type": "code",
   "execution_count": null,
   "metadata": {},
   "outputs": [],
   "source": [
    "qiime feature-table summarize \\\n",
    "--i-table BNW-skin-table-FILTERED-ANCOM-ms8-mf500.qza \\\n",
    "--o-visualization BNW-skin-table-FILTERED-ANCOM-ms8-mf500.qzv"
   ]
  },
  {
   "cell_type": "code",
   "execution_count": null,
   "metadata": {},
   "outputs": [],
   "source": [
    "qiime composition add-pseudocount \\\n",
    "--i-table BNW-skin-table-FILTERED-ANCOM-ms8-mf500.qza \\\n",
    "--o-composition-table BNW-skin-table-FILTERED-ANCOM-ms8-mf500-pseudo.qza"
   ]
  },
  {
   "cell_type": "code",
   "execution_count": null,
   "metadata": {},
   "outputs": [],
   "source": [
    "qiime composition ancom \\\n",
    "--i-table BNW-skin-table-FILTERED-ANCOM-ms8-mf500-pseudo.qza \\\n",
    "--m-metadata-file BNW-skin-metadata-ITS2.tsv \\\n",
    "--m-metadata-column wombatid \\\n",
    "--o-visualization BNW-skin-table-FILTERED-ANCOM-ms8-mf500-pseudo-WOMBAT.qzv"
   ]
  },
  {
   "cell_type": "markdown",
   "metadata": {},
   "source": [
    "# ANCOM collapsed at family level (i.e. not at the feature level)"
   ]
  },
  {
   "cell_type": "code",
   "execution_count": null,
   "metadata": {},
   "outputs": [],
   "source": [
    "qiime taxa collapse \\\n",
    "--i-table BNW-skin-table-at-least-2198-reads.qza  \\\n",
    "--i-taxonomy BNW-skin-unite-taxonomy-paired.qza \\\n",
    "--p-level 5 \\\n",
    "--o-collapsed-table BNW-skin-table-FAMILY.qza"
   ]
  },
  {
   "cell_type": "code",
   "execution_count": null,
   "metadata": {},
   "outputs": [],
   "source": [
    "qiime feature-table filter-features \\\n",
    "--i-table BNW-skin-table-FAMILY.qza \\\n",
    "--o-filtered-table BNW-skin-table-FAMILY-FILTERED-ANCOM-ms8-mf500.qza \\\n",
    "--p-min-samples 8 \\\n",
    "--p-min-frequency 500"
   ]
  },
  {
   "cell_type": "code",
   "execution_count": null,
   "metadata": {},
   "outputs": [],
   "source": [
    "qiime composition add-pseudocount \\\n",
    "--i-table BNW-skin-table-FAMILY-FILTERED-ANCOM-ms8-mf500.qza  \\\n",
    "--o-composition-table BNW-skin-table-FAMILY-FILTERED-ANCOM-ms8-mf500-pseudo.qza "
   ]
  },
  {
   "cell_type": "code",
   "execution_count": null,
   "metadata": {},
   "outputs": [],
   "source": [
    "qiime composition ancom \\\n",
    "--i-table BNW-skin-table-FAMILY-FILTERED-ANCOM-ms8-mf500-pseudo.qza \\\n",
    "--m-metadata-file BNW-skin-metadata-ITS2.tsv \\\n",
    "--m-metadata-column wombatid \\\n",
    "--o-visualization BNW-skin-table-FAMILY-FILTERED-ANCOM-ms8-mf500-pseudo-WOMBAT.qzv"
   ]
  },
  {
   "cell_type": "code",
   "execution_count": null,
   "metadata": {},
   "outputs": [],
   "source": [
    "qiime composition ancom \\\n",
    "--i-table BNW-skin-table-FAMILY-FILTERED-ANCOM-ms8-mf500-pseudo.qza \\\n",
    "--m-metadata-file BNW-skin-metadata-ITS2.tsv \\\n",
    "--m-metadata-column Severity \\\n",
    "--o-visualization BNW-skin-table-FAMILY-FILTERED-ANCOM-ms8-mf500-pseudo-SEVERITY.qzv"
   ]
  },
  {
   "cell_type": "markdown",
   "metadata": {},
   "source": [
    "# Unique feature analysis"
   ]
  },
  {
   "cell_type": "code",
   "execution_count": null,
   "metadata": {},
   "outputs": [],
   "source": [
    "qiime feature-table filter-samples \\\n",
    "--i-table BNW-skin-table-at-least-2198-reads.qza \\\n",
    "--m-metadata-file BNW-skin-metadata-ITS2.tsv \\\n",
    "--p-where \"[Severity]='Confidently healthy'\" \\\n",
    "--o-filtered-table BNW-skin-table-CONFHEALTHYonly.qza"
   ]
  },
  {
   "cell_type": "code",
   "execution_count": null,
   "metadata": {},
   "outputs": [],
   "source": [
    "qiime feature-table summarize \\\n",
    "--i-table BNW-skin-table-CONFHEALTHYonly.qza \\\n",
    "--o-visualization BNW-skin-table-CONFHEALTHYonly.qzv"
   ]
  },
  {
   "cell_type": "code",
   "execution_count": null,
   "metadata": {},
   "outputs": [],
   "source": [
    "qiime feature-table filter-samples \\\n",
    "--i-table BNW-skin-table-at-least-2198-reads.qza \\\n",
    "--m-metadata-file BNW-skin-metadata-ITS2.tsv \\\n",
    "--p-where \"[Severity]='Mangy'\" \\\n",
    "--o-filtered-table BNW-skin-table-MANGYonly.qza"
   ]
  },
  {
   "cell_type": "code",
   "execution_count": null,
   "metadata": {},
   "outputs": [],
   "source": [
    "qiime feature-table summarize \\\n",
    "--i-table BNW-skin-table-MANGYonly.qza \\\n",
    "--o-visualization BNW-skin-table-MANGYonly.qzv"
   ]
  },
  {
   "cell_type": "code",
   "execution_count": null,
   "metadata": {},
   "outputs": [],
   "source": [
    "qiime feature-table filter-samples \\\n",
    "--i-table BNW-skin-table-at-least-2198-reads.qza \\\n",
    "--m-metadata-file BNW-skin-metadata-ITS2.tsv \\\n",
    "--p-where \"[Severity]='Severe mange'\" \\\n",
    "--o-filtered-table BNW-skin-table-SEVEREonly.qza"
   ]
  },
  {
   "cell_type": "code",
   "execution_count": null,
   "metadata": {},
   "outputs": [],
   "source": [
    "qiime feature-table summarize \\\n",
    "--i-table BNW-skin-table-SEVEREonly.qza \\\n",
    "--o-visualization BNW-skin-table-SEVEREonly.qzv"
   ]
  },
  {
   "cell_type": "markdown",
   "metadata": {},
   "source": [
    "# Mitigating cross contamination"
   ]
  },
  {
   "cell_type": "raw",
   "metadata": {},
   "source": [
    "Pull out the NTCs to check if these abundant features spilled over into them as would be expected if cross-sample contamination was happening."
   ]
  },
  {
   "cell_type": "code",
   "execution_count": null,
   "metadata": {},
   "outputs": [],
   "source": [
    "qiime feature-table filter-samples \\\n",
    "--i-table BNW-skin-ITS-paired-reindexed-table.qza \\\n",
    "--m-metadata-file BNW-skin-metadata-ITS2.tsv \\\n",
    "--p-where \"Sample_Or_Control IN ('Negative control')\" \\\n",
    "--o-filtered-table BNW-skin-table-NTCs-ONLY.qza"
   ]
  },
  {
   "cell_type": "code",
   "execution_count": null,
   "metadata": {},
   "outputs": [],
   "source": [
    "qiime feature-table summarize \\\n",
    "--i-table BNW-skin-table-NTCs-ONLY.qza \\\n",
    "--o-visualization BNW-skin-table-NTCs-ONLY.qzv"
   ]
  },
  {
   "cell_type": "code",
   "execution_count": null,
   "metadata": {},
   "outputs": [],
   "source": [
    "qiime tools export \\\n",
    "--input-path BNW-skin-table-NTCs-ONLY.qza \\\n",
    "--output-path BNW-skin-table-NTCs-ONLY.biom"
   ]
  },
  {
   "cell_type": "code",
   "execution_count": null,
   "metadata": {},
   "outputs": [],
   "source": [
    "biom convert -i BNW-skin-table-NTCs-ONLY.biom/feature-table.biom -o BNW-skin-table-NTCs-ONLY.biom/feature-table.tsv --to-tsv"
   ]
  },
  {
   "cell_type": "code",
   "execution_count": null,
   "metadata": {},
   "outputs": [],
   "source": [
    "qiime metadata tabulate \\\n",
    "--m-input-file BNW-skin-unite-taxonomy-paired.qza \\\n",
    "--o-visualization BNW-skin-unite-taxonomy-paired.qzv"
   ]
  },
  {
   "cell_type": "code",
   "execution_count": null,
   "metadata": {},
   "outputs": [],
   "source": [
    "# There seems to be some cross-contamination. \n",
    "# Will compare BNW-skin-reindexed-table.qza to BNW-skin-table-NTCs-ONLY.qza\n",
    "# to identify low abundance microbes as these are most likely contaminants arrising from extraction or sequencing.\n",
    "# High abundance microbes could be a transfer from true biological samples, and will be retained in further analysis. "
   ]
  },
  {
   "cell_type": "code",
   "execution_count": null,
   "metadata": {},
   "outputs": [],
   "source": [
    "qiime taxa filter-table \\\n",
    "  --i-table BNW-skin-table_Final.qza \\\n",
    "  --i-taxonomy BNW-skin-unite-taxonomy-paired.qza \\\n",
    "  --p-exclude 4be7f131da15bb42f3c166ed50ae7b0d,647a8e22386347fbb01da9d546a8bed9,cf16872a26d3bb85b08fe424e831d06d,3ecd5ec3492e64cd82d9c5fad26dddd1,b7e134a69de1650ba8c4f2cf810098a4,9572f06e674f7f92daf452c93104b0f7,12716572e731679126402cc0184db81c,6f964475e33afcb4273de64ca19f8fe1,92ae4092631e9e5900eb542e5724634d,21c7c894cf50cb2fa5e6947feacb1b16,c12fdff66e8e19f97460a3c5bce1be64,6455cc78dd89ca7be69ce159df40e00b,0706fb1f121f9c68f7e87a5129c50c6c,03196f284e70c3a38b6d04b80ee0debc \\\n",
    "  --o-filtered-table table-no-contaminants.qza"
   ]
  },
  {
   "cell_type": "code",
   "execution_count": null,
   "metadata": {},
   "outputs": [],
   "source": [
    "# remove samples with low reads\n",
    "qiime feature-table filter-samples \\\n",
    "--i-table table-no-contaminants.qza \\\n",
    "--m-metadata-file BNW-skin-metadata-ITS2.tsv \\\n",
    "--p-min-frequency 2198 \\\n",
    "--o-filtered-table BNW-skin-table-no-contaminants-at-least-2198-reads.qza"
   ]
  },
  {
   "cell_type": "code",
   "execution_count": null,
   "metadata": {},
   "outputs": [],
   "source": [
    "qiime feature-table summarize \\\n",
    "--i-table BNW-skin-table-no-contaminants-at-least-2198-reads.qza \\\n",
    "--o-visualization BNW-skin-table-no-contaminants-at-least-2198-reads.qzv "
   ]
  },
  {
   "cell_type": "code",
   "execution_count": null,
   "metadata": {},
   "outputs": [],
   "source": [
    "# create taxa barplot per individual sample\n",
    "qiime taxa barplot \\\n",
    "--i-table BNW-skin-table-no-contaminants-at-least-2198-reads.qza \\\n",
    "--i-taxonomy BNW-skin-unite-taxonomy-paired.qza \\\n",
    "--m-metadata-file BNW-skin-metadata-ITS2.tsv \\\n",
    "--o-visualization BNW-skin-table-no-cont-at-least-2198-reads-Final_BARPLOT-PER-SAMPLE.qzv"
   ]
  },
  {
   "cell_type": "code",
   "execution_count": null,
   "metadata": {},
   "outputs": [],
   "source": [
    "# collapse samples by severity and make barplots\n",
    "qiime feature-table group \\\n",
    "--i-table BNW-skin-table-no-contaminants-at-least-2198-reads.qza \\\n",
    "--m-metadata-file BNW-skin-metadata-ITS2.tsv \\\n",
    "--m-metadata-column Severity \\\n",
    "--p-mode mean-ceiling \\\n",
    "--p-axis sample \\\n",
    "--o-grouped-table BNW-skin-table-no-cont-SEVERITY.qza"
   ]
  },
  {
   "cell_type": "code",
   "execution_count": null,
   "metadata": {},
   "outputs": [],
   "source": [
    "qiime taxa barplot \\\n",
    "--i-table BNW-skin-table-no-cont-SEVERITY.qza \\\n",
    "--i-taxonomy BNW-skin-unite-taxonomy-paired.qza \\\n",
    "--m-metadata-file BNW-skin-metadata-SEVERITY.tsv \\\n",
    "--o-visualization BNW-skin-table-no-cont-SEVERITY-BARPLOT.qzv"
   ]
  },
  {
   "cell_type": "code",
   "execution_count": null,
   "metadata": {},
   "outputs": [],
   "source": [
    "# core diversity on filtered table using 5538 rarefaction depth\n",
    "qiime diversity core-metrics-phylogenetic \\\n",
    "--i-table BNW-skin-table-no-contaminants-at-least-2198-reads.qza \\\n",
    "--i-phylogeny unite-rooted-tree.qza \\\n",
    "--p-sampling-depth 5538 \\\n",
    "--m-metadata-file BNW-skin-metadata-ITS2.tsv \\\n",
    "--output-dir BNW-skin-Core-metrics-NoCont-filtered-table-5538"
   ]
  },
  {
   "cell_type": "code",
   "execution_count": null,
   "metadata": {},
   "outputs": [],
   "source": [
    "for i in BNW-skin-Core-metrics-NoCont-filtered-table-5538/*vector.qza; do qiime diversity alpha-group-significance --i-alpha-diversity $i --m-metadata-file BNW-skin-metadata-ITS2.tsv --o-visualization ${i/.qza/.qzv}; done"
   ]
  },
  {
   "cell_type": "code",
   "execution_count": null,
   "metadata": {},
   "outputs": [],
   "source": [
    "qiime diversity alpha \\\n",
    "  --i-table BNW-skin-table-no-contaminants-at-least-2198-reads.qza \\\n",
    "  --p-metric chao1 \\\n",
    "  --o-alpha-diversity BNW-skin-Core-metrics-NoCont-filtered-table-5538/chao1_index.qza"
   ]
  },
  {
   "cell_type": "code",
   "execution_count": null,
   "metadata": {},
   "outputs": [],
   "source": [
    "qiime diversity alpha-group-significance \\\n",
    "  --i-alpha-diversity BNW-skin-Core-metrics-NoCont-filtered-table-5538/chao1_index.qza \\\n",
    "  --m-metadata-file BNW-skin-metadata-ITS2.tsv \\\n",
    "  --o-visualization BNW-skin-Core-metrics-NoCont-filtered-table-5538/chao1_index.qzv"
   ]
  },
  {
   "cell_type": "code",
   "execution_count": null,
   "metadata": {},
   "outputs": [],
   "source": [
    "qiime diversity beta-group-significance \\\n",
    "--i-distance-matrix BNW-skin-Core-metrics-NoCont-filtered-table-5538/bray_curtis_distance_matrix.qza \\\n",
    "--m-metadata-file BNW-skin-metadata-ITS2.tsv \\\n",
    "--m-metadata-column Severity \\\n",
    "--o-visualization BNW-skin-Core-metrics-NoCont-filtered-table-5538/bray_curtis_PERMANOVA.qzv \\\n",
    "--p-method permanova \\\n",
    "--p-pairwise"
   ]
  },
  {
   "cell_type": "code",
   "execution_count": null,
   "metadata": {},
   "outputs": [],
   "source": [
    "qiime diversity beta-group-significance \\\n",
    "--i-distance-matrix BNW-skin-Core-metrics-NoCont-filtered-table-5538/jaccard_distance_matrix.qza \\\n",
    "--m-metadata-file BNW-skin-metadata-ITS2.tsv \\\n",
    "--m-metadata-column Severity \\\n",
    "--o-visualization BNW-skin-Core-metrics-NoCont-filtered-table-5538/jaccard_PERMANOVA.qzv \\\n",
    "--p-method permanova \\\n",
    "--p-pairwise"
   ]
  },
  {
   "cell_type": "markdown",
   "metadata": {},
   "source": [
    "# Unique feature analysis of severity groupings without contaminants - split into the three severity groupings"
   ]
  },
  {
   "cell_type": "code",
   "execution_count": null,
   "metadata": {},
   "outputs": [],
   "source": [
    "qiime feature-table filter-samples \\\n",
    "--i-table BNW-skin-table-no-contaminants-at-least-2198-reads.qza \\\n",
    "--m-metadata-file BNW-skin-metadata-ITS2.tsv \\\n",
    "--p-where \"[Severity]='Confidently healthy'\" \\\n",
    "--o-filtered-table BNW-skin-table-NoCont-CONFHEALTHYonly.qza"
   ]
  },
  {
   "cell_type": "code",
   "execution_count": null,
   "metadata": {},
   "outputs": [],
   "source": [
    "qiime feature-table summarize \\\n",
    "--i-table BNW-skin-table-NoCont-CONFHEALTHYonly.qza \\\n",
    "--o-visualization BNW-skin-table-NoCont-CONFHEALTHYonly.qzv"
   ]
  },
  {
   "cell_type": "code",
   "execution_count": null,
   "metadata": {},
   "outputs": [],
   "source": [
    "qiime feature-table filter-samples \\\n",
    "--i-table BNW-skin-table-no-contaminants-at-least-2198-reads.qza \\\n",
    "--m-metadata-file BNW-skin-metadata-ITS2.tsv \\\n",
    "--p-where \"[Severity]='Mangy'\" \\\n",
    "--o-filtered-table BNW-skin-table-NoCont-MANGYonly.qza"
   ]
  },
  {
   "cell_type": "code",
   "execution_count": null,
   "metadata": {},
   "outputs": [],
   "source": [
    "qiime feature-table summarize \\\n",
    "--i-table BNW-skin-table-NoCont-MANGYonly.qza \\\n",
    "--o-visualization BNW-skin-table-NoCont-MANGYonly.qzv"
   ]
  },
  {
   "cell_type": "code",
   "execution_count": null,
   "metadata": {},
   "outputs": [],
   "source": [
    "qiime feature-table filter-samples \\\n",
    "--i-table BNW-skin-table-no-contaminants-at-least-2198-reads.qza \\\n",
    "--m-metadata-file BNW-skin-metadata-ITS2.tsv \\\n",
    "--p-where \"[Severity]='Severe mange'\" \\\n",
    "--o-filtered-table BNW-skin-table-NoCont-SEVEREonly.qza"
   ]
  },
  {
   "cell_type": "code",
   "execution_count": null,
   "metadata": {},
   "outputs": [],
   "source": [
    "qiime feature-table summarize \\\n",
    "--i-table BNW-skin-table-NoCont-SEVEREonly.qza \\\n",
    "--o-visualization BNW-skin-table-NoCont-SEVEREonly.qzv"
   ]
  },
  {
   "cell_type": "markdown",
   "metadata": {},
   "source": [
    "# Provide overview of ASVs for each severity type"
   ]
  },
  {
   "cell_type": "code",
   "execution_count": null,
   "metadata": {},
   "outputs": [],
   "source": [
    "qiime tools export \\\n",
    "--input-path BNW-skin-table-NoCont-CONFHEALTHYonly.qza \\\n",
    "--output-path BNW-skin-table-NoCont-CONFHEALTHYonly.biom"
   ]
  },
  {
   "cell_type": "code",
   "execution_count": null,
   "metadata": {},
   "outputs": [],
   "source": [
    "biom convert -i BNW-skin-table-NoCont-CONFHEALTHYonly.biom/feature-table.biom -o BNW-skin-table-NoCont-CONFHEALTHYonly.biom/feature-table.tsv --to-tsv"
   ]
  },
  {
   "cell_type": "code",
   "execution_count": null,
   "metadata": {},
   "outputs": [],
   "source": [
    "qiime tools export \\\n",
    "--input-path BNW-skin-table-NoCont-MANGYonly.qza \\\n",
    "--output-path BNW-skin-table-NoCont-MANGYonly.biom"
   ]
  },
  {
   "cell_type": "code",
   "execution_count": null,
   "metadata": {},
   "outputs": [],
   "source": [
    "biom convert -i BNW-skin-table-NoCont-MANGYonly.biom/feature-table.biom -o BNW-skin-table-NoCont-MANGYonly.biom/feature-table.tsv --to-tsv"
   ]
  },
  {
   "cell_type": "code",
   "execution_count": null,
   "metadata": {},
   "outputs": [],
   "source": [
    "qiime tools export \\\n",
    "--input-path BNW-skin-table-NoCont-SEVEREonly.qza \\\n",
    "--output-path BNW-skin-table-NoCont-SEVEREonly.biom"
   ]
  },
  {
   "cell_type": "code",
   "execution_count": null,
   "metadata": {},
   "outputs": [],
   "source": [
    "biom convert -i BNW-skin-table-NoCont-SEVEREonly.biom/feature-table.biom -o BNW-skin-table-NoCont-SEVEREonly.biom/feature-table.tsv --to-tsv"
   ]
  },
  {
   "cell_type": "markdown",
   "metadata": {},
   "source": [
    "# Unique ASVs - min 3 samples due to severity groupings"
   ]
  },
  {
   "cell_type": "code",
   "execution_count": null,
   "metadata": {},
   "outputs": [],
   "source": [
    "qiime feature-table filter-features \\\n",
    "--i-table BNW-skin-table-NoCont-CONFHEALTHYonly.qza \\\n",
    "--o-filtered-table BNW-skin-table-NoCont-CONFHEALTHYonly-ms3.qza \\\n",
    "--p-min-samples 3 "
   ]
  },
  {
   "cell_type": "code",
   "execution_count": null,
   "metadata": {},
   "outputs": [],
   "source": [
    "qiime feature-table summarize \\\n",
    "--i-table BNW-skin-table-NoCont-CONFHEALTHYonly-ms3.qza \\\n",
    "--o-visualization BNW-skin-table-NoCont-CONFHEALTHYonly-ms3.qzv"
   ]
  },
  {
   "cell_type": "raw",
   "metadata": {},
   "source": [
    "Pre-filter Number of features: 1053 Total frequency: 1,279,549\n",
    "Post-filter Number of features: 207 Total frequency: 994,983"
   ]
  },
  {
   "cell_type": "code",
   "execution_count": null,
   "metadata": {},
   "outputs": [],
   "source": [
    "qiime feature-table filter-features \\\n",
    "--i-table BNW-skin-table-NoCont-MANGYonly.qza \\\n",
    "--o-filtered-table BNW-skin-table-NoCont-MANGYonly-ms3.qza \\\n",
    "--p-min-samples 3"
   ]
  },
  {
   "cell_type": "code",
   "execution_count": null,
   "metadata": {},
   "outputs": [],
   "source": [
    "qiime feature-table summarize \\\n",
    "--i-table BNW-skin-table-NoCont-MANGYonly-ms3.qza \\\n",
    "--o-visualization BNW-skin-table-NoCont-MANGYonly-ms3.qzv"
   ]
  },
  {
   "cell_type": "raw",
   "metadata": {},
   "source": [
    "Pre-filter Number of features: 432 Total frequency: 509,165\n",
    "Post-filter Number of features: 49 Total frequency: 328,391"
   ]
  },
  {
   "cell_type": "code",
   "execution_count": null,
   "metadata": {},
   "outputs": [],
   "source": [
    "qiime feature-table filter-features \\\n",
    "--i-table BNW-skin-table-NoCont-SEVEREonly.qza \\\n",
    "--o-filtered-table BNW-skin-table-NoCont-SEVEREonly-ms3.qza \\\n",
    "--p-min-samples 3 "
   ]
  },
  {
   "cell_type": "code",
   "execution_count": null,
   "metadata": {},
   "outputs": [],
   "source": [
    "qiime feature-table summarize \\\n",
    "--i-table BNW-skin-table-NoCont-SEVEREonly-ms3.qza \\\n",
    "--o-visualization BNW-skin-table-NoCont-SEVEREonly-ms3.qzv"
   ]
  },
  {
   "cell_type": "raw",
   "metadata": {},
   "source": [
    "Pre-filter Number of features: 409 Total frequency: 583,534\n",
    "Post-filter Number of features: 40 Total frequency: 423,341"
   ]
  },
  {
   "cell_type": "markdown",
   "metadata": {},
   "source": [
    "# Merge groups for taxa barplot"
   ]
  },
  {
   "cell_type": "code",
   "execution_count": null,
   "metadata": {},
   "outputs": [],
   "source": [
    "qiime feature-table group \\\n",
    "--i-table BNW-skin-table-NoCont-CONFHEALTHYonly-ms3.qza \\\n",
    "--m-metadata-file BNW-skin-metadata-ITS2.tsv \\\n",
    "--m-metadata-column wombatid \\\n",
    "--p-mode mean-ceiling \\\n",
    "--p-axis sample \\\n",
    "--o-grouped-table BNW-skin-table-NoCont-CONFHEALTHY-ms3-wombat-COLLAPSED.qza"
   ]
  },
  {
   "cell_type": "code",
   "execution_count": null,
   "metadata": {},
   "outputs": [],
   "source": [
    "qiime feature-table group \\\n",
    "--i-table BNW-skin-table-NoCont-MANGYonly-ms3.qza \\\n",
    "--m-metadata-file BNW-skin-metadata-ITS2.tsv \\\n",
    "--m-metadata-column wombatid \\\n",
    "--p-mode mean-ceiling \\\n",
    "--p-axis sample \\\n",
    "--o-grouped-table BNW-skin-table-NoCont-MANGY-ms3-wombat-COLLAPSED.qza"
   ]
  },
  {
   "cell_type": "code",
   "execution_count": null,
   "metadata": {},
   "outputs": [],
   "source": [
    "qiime feature-table group \\\n",
    "--i-table BNW-skin-table-NoCont-SEVEREonly-ms3.qza \\\n",
    "--m-metadata-file BNW-skin-metadata-ITS2.tsv \\\n",
    "--m-metadata-column wombatid \\\n",
    "--p-mode mean-ceiling \\\n",
    "--p-axis sample \\\n",
    "--o-grouped-table BNW-skin-table-NoCont-SEVERE-ms3-wombat-COLLAPSED.qza"
   ]
  },
  {
   "cell_type": "code",
   "execution_count": null,
   "metadata": {},
   "outputs": [],
   "source": [
    "qiime feature-table merge \\\n",
    "--i-tables BNW-skin-table-NoCont-CONFHEALTHY-ms3-wombat-COLLAPSED.qza BNW-skin-table-NoCont-MANGY-ms3-wombat-COLLAPSED.qza BNW-skin-table-NoCont-SEVERE-ms3-wombat-COLLAPSED.qza \\\n",
    "--o-merged-table BNW-skin-table-NoCont-wombat-COLLASPED.qza"
   ]
  },
  {
   "cell_type": "markdown",
   "metadata": {},
   "source": [
    "# Technical replicate survey"
   ]
  },
  {
   "cell_type": "code",
   "execution_count": null,
   "metadata": {},
   "outputs": [],
   "source": []
  }
 ],
 "metadata": {
  "kernelspec": {
   "display_name": "Python 3 (ipykernel)",
   "language": "python",
   "name": "python3"
  },
  "language_info": {
   "codemirror_mode": {
    "name": "ipython",
    "version": 3
   },
   "file_extension": ".py",
   "mimetype": "text/x-python",
   "name": "python",
   "nbconvert_exporter": "python",
   "pygments_lexer": "ipython3",
   "version": "3.8.10"
  }
 },
 "nbformat": 4,
 "nbformat_minor": 4
}
