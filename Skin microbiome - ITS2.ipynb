{
 "cells": [
  {
   "cell_type": "code",
   "execution_count": null,
   "metadata": {},
   "outputs": [],
   "source": [
    "# install ITSxpress and Q2-itsxpress in the environment\n",
    "conda install -c bioconda itsxpress\n",
    "pip install q2-itsxpress"
   ]
  },
  {
   "cell_type": "code",
   "execution_count": null,
   "metadata": {},
   "outputs": [],
   "source": [
    "# refresh plugins\n",
    "qiime dev refresh-cache"
   ]
  },
  {
   "cell_type": "code",
   "execution_count": null,
   "metadata": {},
   "outputs": [],
   "source": [
    "# check to see if the plugins are installed correctly\n",
    "qiime itsxpress"
   ]
  },
  {
   "cell_type": "code",
   "execution_count": null,
   "metadata": {},
   "outputs": [],
   "source": [
    "# import ITS2 sequences\n",
    "qiime tools import \\\n",
    "  --type 'SampleData[PairedEndSequencesWithQuality]' \\ \n",
    "  --input-path ITS2\n",
    "  --input-format CasavaOneEightSingleLanePerSampleDirFmt \\\n",
    "  --output-path demux-paired-end.qza\n",
    "# output file: demux-paired-end.qza"
   ]
  },
  {
   "cell_type": "code",
   "execution_count": null,
   "metadata": {},
   "outputs": [],
   "source": [
    "qiime demux summarize \\\n",
    "  --i-data demux-paired-end.qza \\\n",
    "  --o-visualization demux-paired-end.qzv\n",
    "# output file: demux-paired-end.qzv"
   ]
  },
  {
   "cell_type": "code",
   "execution_count": null,
   "metadata": {},
   "outputs": [],
   "source": [
    "qiime dada2 denoise-paired \\\n",
    "--i-demultiplexed-seqs demux-paired-end.qza \\\n",
    "--p-trim-left-f 0 \\\n",
    "--p-trim-left-r 0 \\\n",
    "--p-trunc-len-f 0 \\\n",
    "--p-trunc-len-r 0 \\\n",
    "--o-representative-sequences BNW-skin-ITS-paired-rep-seqs.qza \\\n",
    "--o-table BNW-skin-ITS-paired-table.qza \\\n",
    "--o-denoising-stats BNW-skin-ITS-paired-stats-dada2.qza"
   ]
  },
  {
   "cell_type": "code",
   "execution_count": null,
   "metadata": {},
   "outputs": [],
   "source": [
    "# create visualisation files for the files above\n",
    "qiime metadata tabulate \\\n",
    "  --m-input-file BNW-skin-ITS-paired-stats-dada2.qza \\\n",
    "  --o-visualization ITS-BNW-skin-stats-dada2.qzv\n",
    "qiime metadata tabulate \\\n",
    "  --m-input-file BNW-skin-ITS-paired-table.qza \\      \n",
    "  --o-visualization BNW-skin-ITS-paired-table.qzv\n",
    "qiime metadata tabulate \\\n",
    "  --m-input-file BNW-skin-ITS-paired-rep-seqs.qza \\ \n",
    "  --o-visualization BNW-skin-ITS-paired-rep-seqs.qzv"
   ]
  },
  {
   "cell_type": "code",
   "execution_count": null,
   "metadata": {},
   "outputs": [],
   "source": [
    "qiime feature-table group \\\n",
    "  --i-table BNW-skin-ITS-paired-table.qza \\\n",
    "  --p-axis sample \\\n",
    "  --m-metadata-file BNW-skin-metadata-index.tsv \\\n",
    "  --m-metadata-column SampleID-new \\\n",
    "  --p-mode sum \\\n",
    "  --o-grouped-table BNW-skin-ITS-paired-reindexed-table.qza"
   ]
  },
  {
   "cell_type": "code",
   "execution_count": null,
   "metadata": {},
   "outputs": [],
   "source": [
    "qiime feature-table summarize \\\n",
    "  --i-table BNW-skin-ITS-paired-reindexed-table.qza \\\n",
    "  --m-sample-metadata-file BNW-skin-metadata.tsv \\\n",
    "  --o-visualization BNW-skin-ITS-paired-reindexed-table.qzv"
   ]
  },
  {
   "cell_type": "markdown",
   "metadata": {},
   "source": [
    "# UNITE database"
   ]
  },
  {
   "cell_type": "code",
   "execution_count": null,
   "metadata": {},
   "outputs": [],
   "source": [
    "# download the UNITE QIIME reference sequences and taxonomy files\n",
    "wget https://files.plutof.ut.ee/public/orig/C5/54/C5547B97AAA979E45F79DC4C8C4B12113389343D7588716B5AD330F8BDB300C9.tgz"
   ]
  },
  {
   "cell_type": "code",
   "execution_count": null,
   "metadata": {},
   "outputs": [],
   "source": [
    "# decompress file\n",
    "tar xzf C5547B97AAA979E45F79DC4C8C4B12113389343D7588716B5AD330F8BDB300C9.tgz"
   ]
  },
  {
   "cell_type": "code",
   "execution_count": null,
   "metadata": {},
   "outputs": [],
   "source": [
    "# move into developer environment\n",
    "cd sh_qiime_release_10.05.2021/developer/"
   ]
  },
  {
   "cell_type": "code",
   "execution_count": null,
   "metadata": {},
   "outputs": [],
   "source": [
    "# fix formatting errors that prevent importation of the reference sequences. \n",
    "# There are white spaces and lower case letters that need to be converted\n",
    "awk '/^>/ {print($0)}; /^[^>]/ {print(toupper($0))}' sh_refs_qiime_ver8_99_10.05.2021_dev.fasta | tr -d ' ' > sh_refs_qiime_ver8_99_10.05.2021_dev_uppercase.fasta"
   ]
  },
  {
   "cell_type": "code",
   "execution_count": null,
   "metadata": {},
   "outputs": [],
   "source": [
    "# import UNITE reference sequences\n",
    "qiime tools import \\\n",
    "--type 'FeatureData[Sequence]' \\\n",
    "--input-path sh_refs_qiime_ver8_99_10.05.2021_dev_uppercase.fasta \\\n",
    "--output-path unite-ver8-seqs_99.qza"
   ]
  },
  {
   "cell_type": "code",
   "execution_count": null,
   "metadata": {},
   "outputs": [],
   "source": [
    "# import taxonomy file\n",
    "qiime tools import \\\n",
    "--type 'FeatureData[Taxonomy]' \\\n",
    "--input-path sh_taxonomy_qiime_ver8_99_10.05.2021_dev.txt \\\n",
    "--output-path unite-ver8-taxonomy_99.qza \\\n",
    "--input-format HeaderlessTSVTaxonomyFormat"
   ]
  },
  {
   "cell_type": "code",
   "execution_count": null,
   "metadata": {},
   "outputs": [],
   "source": [
    "# train the classifier\n",
    "qiime feature-classifier fit-classifier-naive-bayes \\\n",
    "--i-reference-reads unite-ver8-seqs_99.qza \\\n",
    "--i-reference-taxonomy unite-ver8-taxonomy_99.qza \\\n",
    "--o-classifier unite-ver8-99-classifier.qza"
   ]
  },
  {
   "cell_type": "code",
   "execution_count": null,
   "metadata": {},
   "outputs": [],
   "source": [
    "# taxonomoc classification\n",
    "qiime feature-classifier classify-sklearn \\\n",
    "  --i-classifier sh_qiime_release_10.05.2021/developer/unite-ver8-99-classifier.qza \\\n",
    "  --i-reads BNW-skin-ITS-paired-rep-seqs.qza \\\n",
    "  --o-classification BNW-skin-unite-taxonomy-paired.qza"
   ]
  },
  {
   "cell_type": "code",
   "execution_count": null,
   "metadata": {},
   "outputs": [],
   "source": [
    "qiime taxa barplot \\\n",
    "  --i-table BNW-skin-ITS-paired-reindexed-table.qza \\\n",
    "  --i-taxonomy BNW-skin-unite-taxonomy-paired.qza \\\n",
    "  --m-metadata-file BNW-skin-metadata.tsv \\\n",
    "  --o-visualization taxa-bar-plots.qzv"
   ]
  },
  {
   "cell_type": "code",
   "execution_count": null,
   "metadata": {},
   "outputs": [],
   "source": [
    "qiime metadata tabulate \\\n",
    "--m-input-file BNW-skin-unite-taxonomy-paired.qza \\\n",
    "--o-visualization BNW-skin-unite-taxonomy-paired.qzv"
   ]
  },
  {
   "cell_type": "code",
   "execution_count": null,
   "metadata": {},
   "outputs": [],
   "source": [
    "# create rarefaction table \n",
    "qiime diversity alpha-rarefaction \\\n",
    "--i-table BNW-skin-ITS-paired-reindexed-table.qza \\\n",
    "--m-metadata-file BNW-skin-metadata.tsv   \\\n",
    "--o-visualization BNW-skin-ITS-paired-table-rarefaction.qzv \\\n",
    "--p-min-depth 500 \\\n",
    "--p-max-depth 50000\n",
    "\n",
    "# plateaus around 12K reads"
   ]
  },
  {
   "cell_type": "code",
   "execution_count": null,
   "metadata": {},
   "outputs": [],
   "source": [
    "qiime feature-table filter-samples \\\n",
    "--i-table BNW-skin-ITS-paired-reindexed-table.qza \\\n",
    "--m-metadata-file BNW-skin-metadata.tsv \\\n",
    "--p-min-frequency 2198 \\\n",
    "--o-filtered-table BNW-skin-ITS-paired-table-atleast-2198-reads.qza"
   ]
  },
  {
   "cell_type": "markdown",
   "metadata": {},
   "source": [
    "# Remove toe samples from analysis (for the taxa barplot later on)"
   ]
  },
  {
   "cell_type": "code",
   "execution_count": null,
   "metadata": {},
   "outputs": [],
   "source": [
    "qiime feature-table filter-samples \\\n",
    "--i-table BNW-skin-ITS-paired-reindexed-table.qza \\\n",
    "--m-metadata-file BNW-skin-metadata.tsv \\\n",
    "--p-where \"bodysite IN ('toe')\" \\\n",
    "--p-exclude-ids \\\n",
    "--o-filtered-table BNW-skin-table-no-toe.qza"
   ]
  },
  {
   "cell_type": "code",
   "execution_count": null,
   "metadata": {},
   "outputs": [],
   "source": [
    "# remove samples with low reads\n",
    "qiime feature-table filter-samples \\\n",
    "--i-table BNW-skin-table-no-toe.qza \\\n",
    "--m-metadata-file BNW-skin-metadata.tsv \\\n",
    "--p-min-frequency 2198 \\\n",
    "--o-filtered-table BNW-skin-table-no-toe-at-least-2198-reads.qza"
   ]
  },
  {
   "cell_type": "code",
   "execution_count": null,
   "metadata": {},
   "outputs": [],
   "source": [
    "qiime feature-table summarize \\\n",
    "--i-table BNW-skin-table-no-toe-at-least-2198-reads.qza \\\n",
    "--o-visualization BNW-skin-table-no-toe-at-least-2198-reads.qzv "
   ]
  },
  {
   "cell_type": "code",
   "execution_count": null,
   "metadata": {},
   "outputs": [],
   "source": [
    "# create taxa barplot per individual sample\n",
    "qiime taxa barplot \\\n",
    "--i-table BNW-skin-table-no-toe-at-least-2198-reads.qza \\\n",
    "--i-taxonomy BNW-skin-unite-taxonomy-paired.qza \\\n",
    "--m-metadata-file BNW-skin-metadata.tsv \\\n",
    "--o-visualization BNW-skin-table-no-toe-at-least-2198-reads-BARPLOT-PER-SAMPLE.qzv"
   ]
  },
  {
   "cell_type": "code",
   "execution_count": null,
   "metadata": {},
   "outputs": [],
   "source": [
    "# collapse samples by severity and make barplots\n",
    "qiime feature-table group \\\n",
    "--i-table BNW-skin-table-no-toe-at-least-2198-reads.qza \\\n",
    "--m-metadata-file BNW-skin-metadata.tsv \\\n",
    "--m-metadata-column Severity \\\n",
    "--p-mode mean-ceiling \\\n",
    "--p-axis sample \\\n",
    "--o-grouped-table BNW-skin-table-no-toe-SEVERITY.qza"
   ]
  },
  {
   "cell_type": "code",
   "execution_count": null,
   "metadata": {},
   "outputs": [],
   "source": [
    "qiime taxa barplot \\\n",
    "--i-table BNW-skin-table-no-toe-SEVERITY.qza \\\n",
    "--i-taxonomy BNW-skin-unite-taxonomy-paired.qza \\\n",
    "--m-metadata-file BNW-skin-metadata-SEVERITY.tsv \\\n",
    "--o-visualization BNW-skin-table-no-toe-SEVERITY-BARPLOT.qzv"
   ]
  },
  {
   "cell_type": "code",
   "execution_count": null,
   "metadata": {},
   "outputs": [],
   "source": [
    "# core diversity on filtered table using 5538 rarefaction depth\n",
    "qiime diversity core-metrics-phylogenetic \\\n",
    "--i-table BNW-skin-table-no-toe-at-least-2198-reads.qza \\\n",
    "--i-phylogeny unite-rooted-tree.qza \\\n",
    "--p-sampling-depth 5538 \\\n",
    "--m-metadata-file BNW-skin-metadata.tsv \\\n",
    "--output-dir BNW-skin-Core-metrics-final-filtered-table-5538"
   ]
  },
  {
   "cell_type": "code",
   "execution_count": null,
   "metadata": {},
   "outputs": [],
   "source": [
    "for i in BNW-skin-Core-metrics-final-filtered-table-5538/*vector.qza; do qiime diversity alpha-group-significance --i-alpha-diversity $i --m-metadata-file BNW-skin-metadata.tsv --o-visualization ${i/.qza/.qzv}"
   ]
  },
  {
   "cell_type": "code",
   "execution_count": null,
   "metadata": {},
   "outputs": [],
   "source": []
  },
  {
   "cell_type": "markdown",
   "metadata": {},
   "source": [
    "# Taxa bar plots"
   ]
  },
  {
   "cell_type": "code",
   "execution_count": null,
   "metadata": {},
   "outputs": [],
   "source": [
    "qiime taxa barplot \\\n",
    "--i-table BNW-skin-ITS-paired-table-atleast-2198-reads.qza \\\n",
    "--i-taxonomy BNW-skin-unite-taxonomy-paired.qza \\\n",
    "--m-metadata-file BNW-skin-metadata.tsv \\\n",
    "--o-visualization BNW-skin-paired-table-atleast-2198-reads-BARPLOT-PER-SAMPLE.qzv"
   ]
  },
  {
   "cell_type": "code",
   "execution_count": null,
   "metadata": {},
   "outputs": [],
   "source": [
    "qiime feature-table group \\\n",
    "--i-table BNW-skin-ITS-paired-table-atleast-2198-reads.qza \\\n",
    "--m-metadata-file BNW-skin-metadata.tsv \\\n",
    "--m-metadata-column infectionstatus \\\n",
    "--p-mode mean-ceiling \\\n",
    "--p-axis sample \\\n",
    "--o-grouped-table BNW-skin-ITS-paired-table-atleast-2198-reads-INFECTION-STATUS.qza"
   ]
  },
  {
   "cell_type": "code",
   "execution_count": null,
   "metadata": {},
   "outputs": [],
   "source": [
    "qiime taxa barplot \\\n",
    "--i-table BNW-skin-ITS-paired-table-atleast-2198-reads-INFECTION-STATUS.qza \\\n",
    "--i-taxonomy BNW-skin-unite-taxonomy-paired.qza \\\n",
    "--m-metadata-file BNW-skin-metadata-infection.tsv \\\n",
    "--o-visualization BNW-skin-ITS-paired-table-atleast-2198-reads-INFECTION-STATUS-BARPLOT.qzv"
   ]
  },
  {
   "cell_type": "code",
   "execution_count": null,
   "metadata": {},
   "outputs": [],
   "source": [
    "qiime feature-table group \\\n",
    "--i-table BNW-skin-ITS-paired-table-atleast-2198-reads.qza \\\n",
    "--m-metadata-file BNW-skin-metadata.tsv \\\n",
    "--m-metadata-column bodysite \\\n",
    "--p-mode mean-ceiling \\\n",
    "--p-axis sample \\\n",
    "--o-grouped-table BNW-skin-ITS-paired-table-atleast-2198-reads-BODYSITE.qza"
   ]
  },
  {
   "cell_type": "code",
   "execution_count": null,
   "metadata": {},
   "outputs": [],
   "source": [
    "qiime taxa barplot \\\n",
    "--i-table BNW-skin-ITS-paired-table-atleast-2198-reads-BODYSITE.qza \\\n",
    "--i-taxonomy BNW-skin-unite-taxonomy-paired.qza \\\n",
    "--m-metadata-file BNW-skin-metadata-BS.tsv \\\n",
    "--o-visualization BNW-skin-ITS-paired-table-atleast-2198-reads-BODYSITE-BARPLOT.qzv"
   ]
  },
  {
   "cell_type": "code",
   "execution_count": null,
   "metadata": {},
   "outputs": [],
   "source": [
    "qiime feature-table group \\\n",
    "--i-table BNW-skin-ITS-paired-table-atleast-2198-reads.qza \\\n",
    "--m-metadata-file BNW-skin-metadata.tsv \\\n",
    "--m-metadata-column wombatid \\\n",
    "--p-mode mean-ceiling \\\n",
    "--p-axis sample \\\n",
    "--o-grouped-table BNW-skin-ITS-paired-table-atleast-2198-reads-WOMBAT.qza"
   ]
  },
  {
   "cell_type": "code",
   "execution_count": null,
   "metadata": {},
   "outputs": [],
   "source": [
    "qiime taxa barplot \\\n",
    "--i-table BNW-skin-ITS-paired-table-atleast-2198-reads-WOMBAT.qza \\\n",
    "--i-taxonomy BNW-skin-unite-taxonomy-paired.qza \\\n",
    "--m-metadata-file BNW-skin-metadata-WOM.tsv \\\n",
    "--o-visualization BNW-skin-ITS-paired-table-atleast-2198-reads-WOMBAT-BARPLOT.qzv"
   ]
  },
  {
   "cell_type": "markdown",
   "metadata": {},
   "source": [
    "# Alpha/beta diversity"
   ]
  },
  {
   "cell_type": "code",
   "execution_count": null,
   "metadata": {},
   "outputs": [],
   "source": [
    "qiime phylogeny align-to-tree-mafft-fasttree \\\n",
    "  --i-sequences BNW-skin-ITS-paired-rep-seqs.qza \\\n",
    "  --o-alignment unite-aligned-rep-seqs.qza \\\n",
    "  --o-masked-alignment unite-masked-aligned-rep-seqs.qza \\\n",
    "  --o-tree unite-unrooted-tree.qza \\\n",
    "  --o-rooted-tree unite-rooted-tree.qza"
   ]
  },
  {
   "cell_type": "code",
   "execution_count": null,
   "metadata": {},
   "outputs": [],
   "source": [
    "qiime diversity core-metrics-phylogenetic \\\n",
    "  --i-phylogeny unite-rooted-tree.qza \\\n",
    "  --i-table BNW-skin-ITS-paired-reindexed-table.qza \\\n",
    "  --p-sampling-depth 2198 \\\n",
    "  --m-metadata-file BNW-skin-metadata.tsv  \\\n",
    "  --output-dir core-metrics"
   ]
  },
  {
   "cell_type": "code",
   "execution_count": null,
   "metadata": {},
   "outputs": [],
   "source": [
    "# alpha diversity\n",
    "qiime diversity alpha-group-significance \\\n",
    "  --i-alpha-diversity core-metrics/faith_pd_vector.qza \\\n",
    "  --m-metadata-file BNW-skin-metadata.tsv \\\n",
    "  --o-visualization core-metrics/faith-pd-group-significance.qzv"
   ]
  },
  {
   "cell_type": "code",
   "execution_count": null,
   "metadata": {},
   "outputs": [],
   "source": [
    "# alpha diversity\n",
    "qiime diversity alpha-group-significance \\\n",
    "  --i-alpha-diversity core-metrics/evenness_vector.qza \\\n",
    "  --m-metadata-file BNW-skin-metadata.tsv \\\n",
    "  --o-visualization core-metrics/evenness-group-significance.qzv"
   ]
  },
  {
   "cell_type": "code",
   "execution_count": null,
   "metadata": {},
   "outputs": [],
   "source": [
    "# alpha diversity\n",
    "qiime diversity alpha-group-significance \\\n",
    "  --i-alpha-diversity core-metrics/shannon_vector.qza \\\n",
    "  --m-metadata-file BNW-skin-metadata.tsv \\\n",
    "  --o-visualization core-metrics/shannon-group-significance.qzv"
   ]
  },
  {
   "cell_type": "code",
   "execution_count": null,
   "metadata": {},
   "outputs": [],
   "source": [
    "# alpha diversity\n",
    "qiime diversity alpha-group-significance \\\n",
    "  --i-alpha-diversity core-metrics/observed_features_vector.qza \\\n",
    "  --m-metadata-file BNW-skin-metadata.tsv \\\n",
    "  --o-visualization core-metrics/observed-features-group-significance.qzv"
   ]
  },
  {
   "cell_type": "code",
   "execution_count": null,
   "metadata": {},
   "outputs": [],
   "source": [
    "# beta-diversity between body sites\n",
    "qiime diversity beta-group-significance \\\n",
    "  --i-distance-matrix core-metrics/jaccard_distance_matrix.qza \\\n",
    "  --m-metadata-file BNW-skin-metadata.tsv \\\n",
    "  --m-metadata-column bodysite \\\n",
    "  --o-visualization core-metrics/jaccard-distance-matrix-group-significance.qzv \\\n",
    "  --p-pairwise\n",
    "\n",
    "qiime diversity beta-group-significance \\\n",
    "  --i-distance-matrix core-metrics/bray_curtis_distance_matrix.qza \\\n",
    "  --m-metadata-file BNW-skin-metadata.tsv \\\n",
    "  --m-metadata-column bodysite \\\n",
    "  --o-visualization core-metrics/braycurtis-distance-matrix-group-significance.qzv \\\n",
    "  --p-pairwise"
   ]
  },
  {
   "cell_type": "code",
   "execution_count": null,
   "metadata": {},
   "outputs": [],
   "source": [
    "# beta-diversity between wombats\n",
    "qiime diversity beta-group-significance \\\n",
    "  --i-distance-matrix core-metrics/jaccard_distance_matrix.qza \\\n",
    "  --m-metadata-file BNW-skin-metadata.tsv \\\n",
    "  --m-metadata-column wombatid \\\n",
    "  --o-visualization core-metrics/jaccard-distance-matrix-WOMBAT-group-significance.qzv \\\n",
    "  --p-pairwise\n",
    "\n",
    "qiime diversity beta-group-significance \\\n",
    "  --i-distance-matrix core-metrics/bray_curtis_distance_matrix.qza \\\n",
    "  --m-metadata-file BNW-skin-metadata.tsv \\\n",
    "  --m-metadata-column wombatid \\\n",
    "  --o-visualization core-metrics/braycurtis-distance-matrix-WOMBAT-group-significance.qzv \\\n",
    "  --p-pairwise"
   ]
  },
  {
   "cell_type": "code",
   "execution_count": null,
   "metadata": {},
   "outputs": [],
   "source": [
    "# beta-diversity between infection status\n",
    "qiime diversity beta-group-significance \\\n",
    "  --i-distance-matrix core-metrics/jaccard_distance_matrix.qza \\\n",
    "  --m-metadata-file BNW-skin-metadata.tsv \\\n",
    "  --m-metadata-column infectionstatus \\\n",
    "  --o-visualization core-metrics/jaccard-distance-matrix-INFECTION-group-significance.qzv \\\n",
    "  --p-pairwise\n",
    "\n",
    "qiime diversity beta-group-significance \\\n",
    "  --i-distance-matrix core-metrics/bray_curtis_distance_matrix.qza \\\n",
    "  --m-metadata-file BNW-skin-metadata.tsv \\\n",
    "  --m-metadata-column infectionstatus \\\n",
    "  --o-visualization core-metrics/braycurtis-distance-matrix-INFECTION-group-significance.qzv \\\n",
    "  --p-pairwise"
   ]
  },
  {
   "cell_type": "markdown",
   "metadata": {},
   "source": [
    "# Remove toe samples and groups of Uncertain/low mange and Observational healthy from analysis"
   ]
  },
  {
   "cell_type": "code",
   "execution_count": null,
   "metadata": {},
   "outputs": [],
   "source": [
    "qiime feature-table filter-samples \\\n",
    "--i-table BNW-skin-ITS-paired-reindexed-table.qza \\\n",
    "--m-metadata-file BNW-skin-metadata.tsv \\\n",
    "--p-where \"[bodysite] IN ('toe') OR [Severity] IN ('Uncertain/low mange','Observational healthy')\" \\\n",
    "--p-exclude-ids \\\n",
    "--o-filtered-table FinalCat/BNW-skin-table-no-toe_FinalCat.qza"
   ]
  },
  {
   "cell_type": "code",
   "execution_count": null,
   "metadata": {},
   "outputs": [],
   "source": [
    "# remove samples with low reads\n",
    "qiime feature-table filter-samples \\\n",
    "--i-table FinalCat/BNW-skin-table-no-toe_FinalCat.qza \\\n",
    "--m-metadata-file BNW-skin-metadata.tsv \\\n",
    "--p-min-frequency 2198 \\\n",
    "--o-filtered-table FinalCat/BNW-skin-table-no-toe-at-least-2198-reads_FinalCat.qza"
   ]
  },
  {
   "cell_type": "code",
   "execution_count": null,
   "metadata": {},
   "outputs": [],
   "source": [
    "qiime feature-table summarize \\\n",
    "--i-table FinalCat/BNW-skin-table-no-toe-at-least-2198-reads_FinalCat.qza \\\n",
    "--o-visualization FinalCat/BNW-skin-table-no-toe-at-least-2198-reads_FinalCat.qzv "
   ]
  },
  {
   "cell_type": "code",
   "execution_count": null,
   "metadata": {},
   "outputs": [],
   "source": [
    "# create taxa barplot per individual sample\n",
    "qiime taxa barplot \\\n",
    "--i-table FinalCat/BNW-skin-table-no-toe-at-least-2198-reads_FinalCat.qza \\\n",
    "--i-taxonomy BNW-skin-unite-taxonomy-paired.qza \\\n",
    "--m-metadata-file BNW-skin-metadata.tsv \\\n",
    "--o-visualization FinalCat/BNW-skin-table-no-toe-at-least-2198-reads-BARPLOT-PER-SAMPLE.qzv\n",
    "# w27 has a higher percentage of unidentified fungi when looking at level 2 (Genus), but I will keep it in."
   ]
  },
  {
   "cell_type": "code",
   "execution_count": null,
   "metadata": {},
   "outputs": [],
   "source": [
    "# collapse samples by severity and make barplots\n",
    "qiime feature-table group \\\n",
    "--i-table FinalCat/BNW-skin-table-no-toe-at-least-2198-reads_FinalCat.qza \\\n",
    "--m-metadata-file BNW-skin-metadata.tsv \\\n",
    "--m-metadata-column Severity \\\n",
    "--p-mode mean-ceiling \\\n",
    "--p-axis sample \\\n",
    "--o-grouped-table FinalCat/BNW-skin-table-no-toe-SEVERITY_FinalCat.qza"
   ]
  },
  {
   "cell_type": "code",
   "execution_count": null,
   "metadata": {},
   "outputs": [],
   "source": [
    "qiime taxa barplot \\\n",
    "--i-table FinalCat/BNW-skin-table-no-toe-SEVERITY_FinalCat.qza \\\n",
    "--i-taxonomy BNW-skin-unite-taxonomy-paired.qza \\\n",
    "--m-metadata-file BNW-skin-metadata-SEVERITY.tsv \\\n",
    "--o-visualization FinalCat/BNW-skin-table-no-toe-SEVERITY-BARPLOT.qzv"
   ]
  },
  {
   "cell_type": "code",
   "execution_count": null,
   "metadata": {},
   "outputs": [],
   "source": [
    "# collapse samples by wombat and make barplots\n",
    "qiime feature-table group \\\n",
    "--i-table FinalCat/BNW-skin-table-no-toe-at-least-2198-reads_FinalCat.qza \\\n",
    "--m-metadata-file BNW-skin-metadata.tsv \\\n",
    "--m-metadata-column wombatid \\\n",
    "--p-mode mean-ceiling \\\n",
    "--p-axis sample \\\n",
    "--o-grouped-table FinalCat/BNW-skin-table-no-toe-WOMBAT_FinalCat.qza"
   ]
  },
  {
   "cell_type": "code",
   "execution_count": null,
   "metadata": {},
   "outputs": [],
   "source": [
    "qiime taxa barplot \\\n",
    "--i-table FinalCat/BNW-skin-table-no-toe-WOMBAT_FinalCat.qza \\\n",
    "--i-taxonomy BNW-skin-unite-taxonomy-paired.qza \\\n",
    "--m-metadata-file BNW-skin-metadata-WOM.tsv \\\n",
    "--o-visualization FinalCat/BNW-skin-table-no-toe-WOMBAT-BARPLOT.qzv"
   ]
  },
  {
   "cell_type": "code",
   "execution_count": null,
   "metadata": {},
   "outputs": [],
   "source": [
    "# core diversity on filtered table using 5538 rarefaction depth\n",
    "qiime diversity core-metrics-phylogenetic \\\n",
    "--i-table FinalCat/BNW-skin-table-no-toe-at-least-2198-reads_FinalCat.qza \\\n",
    "--i-phylogeny unite-rooted-tree.qza \\\n",
    "--p-sampling-depth 5538 \\\n",
    "--m-metadata-file BNW-skin-metadata.tsv \\\n",
    "--output-dir FinalCat-BNW-skin-Core-metrics-final-filtered-table-5538"
   ]
  },
  {
   "cell_type": "code",
   "execution_count": null,
   "metadata": {},
   "outputs": [],
   "source": [
    "for i in FinalCat-BNW-skin-Core-metrics-final-filtered-table-5538/*vector.qza; do qiime diversity alpha-group-significance --i-alpha-diversity $i --m-metadata-file BNW-skin-metadata.tsv --o-visualization ${i/.qza/.qzv}; done"
   ]
  },
  {
   "cell_type": "code",
   "execution_count": null,
   "metadata": {},
   "outputs": [],
   "source": [
    "qiime diversity alpha \\\n",
    "  --i-table FinalCat/BNW-skin-table-no-toe-at-least-2198-reads_FinalCat.qza \\\n",
    "  --p-metric chao1 \\\n",
    "  --o-alpha-diversity FinalCat-BNW-skin-Core-metrics-final-filtered-table-5538/chao1_index.qza"
   ]
  },
  {
   "cell_type": "code",
   "execution_count": null,
   "metadata": {},
   "outputs": [],
   "source": [
    "qiime diversity alpha-group-significance \\\n",
    "  --i-alpha-diversity FinalCat-BNW-skin-Core-metrics-final-filtered-table-5538/chao1_index.qza \\\n",
    "  --m-metadata-file BNW-skin-metadata.tsv \\\n",
    "  --o-visualization FinalCat-BNW-skin-Core-metrics-final-filtered-table-5538/chao1_index.qzv"
   ]
  },
  {
   "cell_type": "markdown",
   "metadata": {},
   "source": [
    "# Permanova test for microbial composition differences"
   ]
  },
  {
   "cell_type": "code",
   "execution_count": null,
   "metadata": {},
   "outputs": [],
   "source": [
    "qiime diversity beta-group-significance \\\n",
    "--i-distance-matrix FinalCat-BNW-skin-Core-metrics-final-filtered-table-5538/bray_curtis_distance_matrix.qza \\\n",
    "--m-metadata-file BNW-skin-metadata.tsv \\\n",
    "--m-metadata-column Severity \\\n",
    "--o-visualization FinalCat-BNW-skin-Core-metrics-final-filtered-table-5538/bray_curtis_PERMANOVA.qzv \\\n",
    "--p-method permanova \\\n",
    "--p-pairwise"
   ]
  },
  {
   "cell_type": "code",
   "execution_count": null,
   "metadata": {},
   "outputs": [],
   "source": [
    "qiime diversity beta-group-significance \\\n",
    "--i-distance-matrix FinalCat-BNW-skin-Core-metrics-final-filtered-table-5538/jaccard_distance_matrix.qza \\\n",
    "--m-metadata-file BNW-skin-metadata.tsv \\\n",
    "--m-metadata-column Severity \\\n",
    "--o-visualization FinalCat-BNW-skin-Core-metrics-final-filtered-table-5538/jaccard_PERMANOVA.qzv \\\n",
    "--p-method permanova \\\n",
    "--p-pairwise"
   ]
  },
  {
   "cell_type": "markdown",
   "metadata": {},
   "source": [
    "# ANCOM analysis to identify differentially abundant features/OTUS"
   ]
  },
  {
   "cell_type": "code",
   "execution_count": null,
   "metadata": {},
   "outputs": [],
   "source": [
    "#remove low abundance/prevalence features\n",
    "qiime feature-table filter-features \\\n",
    "--i-table FinalCat/BNW-skin-table-no-toe-at-least-2198-reads_FinalCat.qza \\\n",
    "--o-filtered-table FinalCat/BNW-skin-table-no-toe-FILTERED-ANCOM-ms8-mf500_FinalCat.qza \\\n",
    "--p-min-samples 8 \\\n",
    "--p-min-frequency 500"
   ]
  },
  {
   "cell_type": "code",
   "execution_count": null,
   "metadata": {},
   "outputs": [],
   "source": [
    "qiime feature-table summarize \\\n",
    "--i-table FinalCat/BNW-skin-table-no-toe-FILTERED-ANCOM-ms8-mf500_FinalCat.qza \\\n",
    "--o-visualization FinalCat/BNW-skin-table-no-toe-FILTERED-ANCOM-ms8-mf500_FinalCat.qzv"
   ]
  },
  {
   "cell_type": "code",
   "execution_count": null,
   "metadata": {},
   "outputs": [],
   "source": [
    "qiime composition add-pseudocount \\\n",
    "--i-table FinalCat/BNW-skin-table-no-toe-FILTERED-ANCOM-ms8-mf500_FinalCat.qza \\\n",
    "--o-composition-table FinalCat/BNW-skin-table-no-toe-FILTERED-ANCOM-ms8-mf500-pseudo_FinalCat.qza"
   ]
  },
  {
   "cell_type": "code",
   "execution_count": null,
   "metadata": {},
   "outputs": [],
   "source": [
    "qiime composition ancom \\\n",
    "--i-table FinalCat/BNW-skin-table-no-toe-FILTERED-ANCOM-ms8-mf500-pseudo_FinalCat.qza \\\n",
    "--m-metadata-file BNW-skin-metadata.tsv \\\n",
    "--m-metadata-column wombatid \\\n",
    "--o-visualization FinalCat/BNW-skin-table-no-toe-FILTERED-ANCOM-ms8-mf500-pseudo-WOMBAT_FinalCat.qzv"
   ]
  },
  {
   "cell_type": "markdown",
   "metadata": {},
   "source": [
    "# ANCOM collapsed at family level (i.e. not at the feature level)"
   ]
  },
  {
   "cell_type": "code",
   "execution_count": null,
   "metadata": {},
   "outputs": [],
   "source": [
    "qiime taxa collapse \\\n",
    "--i-table FinalCat/BNW-skin-table-no-toe-at-least-2198-reads_FinalCat.qza  \\\n",
    "--i-taxonomy BNW-skin-unite-taxonomy-paired.qza \\\n",
    "--p-level 5 \\\n",
    "--o-collapsed-table FinalCat/BNW-skin-table-no-toe-FAMILY_FinalCat.qza"
   ]
  },
  {
   "cell_type": "code",
   "execution_count": null,
   "metadata": {},
   "outputs": [],
   "source": [
    "qiime feature-table filter-features \\\n",
    "--i-table FinalCat/BNW-skin-table-no-toe-FAMILY_FinalCat.qza \\\n",
    "--o-filtered-table FinalCat/BNW-skin-table-no-toe-FAMILY-FILTERED-ANCOM-ms8-mf500_FinalCat.qza \\\n",
    "--p-min-samples 8 \\\n",
    "--p-min-frequency 500"
   ]
  },
  {
   "cell_type": "code",
   "execution_count": null,
   "metadata": {},
   "outputs": [],
   "source": [
    "qiime composition add-pseudocount \\\n",
    "--i-table FinalCat/BNW-skin-table-no-toe-FAMILY-FILTERED-ANCOM-ms8-mf500_FinalCat.qza  \\\n",
    "--o-composition-table FinalCat/BNW-skin-table-no-toe-FAMILY-FILTERED-ANCOM-ms8-mf500-pseudo_FinalCat.qza "
   ]
  },
  {
   "cell_type": "code",
   "execution_count": null,
   "metadata": {},
   "outputs": [],
   "source": [
    "qiime composition ancom \\\n",
    "--i-table FinalCat/BNW-skin-table-no-toe-FAMILY-FILTERED-ANCOM-ms8-mf500-pseudo_FinalCat.qza \\\n",
    "--m-metadata-file BNW-skin-metadata.tsv \\\n",
    "--m-metadata-column wombatid \\\n",
    "--o-visualization FinalCat/BNW-skin-table-no-toe-FAMILY-FILTERED-ANCOM-ms8-mf500-pseudo-WOMBAT_FinalCat.qzv"
   ]
  },
  {
   "cell_type": "markdown",
   "metadata": {},
   "source": [
    "# Unique feature analysis"
   ]
  },
  {
   "cell_type": "code",
   "execution_count": null,
   "metadata": {},
   "outputs": [],
   "source": [
    "qiime feature-table filter-samples \\\n",
    "--i-table FinalCat/BNW-skin-table-no-toe-at-least-2198-reads_FinalCat.qza \\\n",
    "--m-metadata-file BNW-skin-metadata.tsv \\\n",
    "--p-where \"[Severity]='Confidently healthy'\" \\\n",
    "--o-filtered-table FinalCat/BNW-skin-table-no-toe-CONFHEALTHYonly.qza"
   ]
  },
  {
   "cell_type": "code",
   "execution_count": null,
   "metadata": {},
   "outputs": [],
   "source": [
    "qiime feature-table summarize \\\n",
    "--i-table FinalCat/BNW-skin-table-no-toe-CONFHEALTHYonly.qza \\\n",
    "--o-visualization FinalCat/BNW-skin-table-no-toe-CONFHEALTHYonly.qzv"
   ]
  },
  {
   "cell_type": "code",
   "execution_count": null,
   "metadata": {},
   "outputs": [],
   "source": [
    "qiime feature-table filter-samples \\\n",
    "--i-table FinalCat/BNW-skin-table-no-toe-at-least-2198-reads_FinalCat.qza \\\n",
    "--m-metadata-file BNW-skin-metadata.tsv \\\n",
    "--p-where \"[Severity]='Mangy'\" \\\n",
    "--o-filtered-table FinalCat/BNW-skin-table-no-toe-MANGYonly.qza"
   ]
  },
  {
   "cell_type": "code",
   "execution_count": null,
   "metadata": {},
   "outputs": [],
   "source": [
    "qiime feature-table summarize \\\n",
    "--i-table FinalCat/BNW-skin-table-no-toe-MANGYonly.qza \\\n",
    "--o-visualization FinalCat/BNW-skin-table-no-toe-MANGYonly.qzv"
   ]
  },
  {
   "cell_type": "code",
   "execution_count": null,
   "metadata": {},
   "outputs": [],
   "source": [
    "qiime feature-table filter-samples \\\n",
    "--i-table FinalCat/BNW-skin-table-no-toe-at-least-2198-reads_FinalCat.qza \\\n",
    "--m-metadata-file BNW-skin-metadata.tsv \\\n",
    "--p-where \"[Severity]='Severe mange'\" \\\n",
    "--o-filtered-table FinalCat/BNW-skin-table-no-toe-SEVEREonly.qza"
   ]
  },
  {
   "cell_type": "code",
   "execution_count": null,
   "metadata": {},
   "outputs": [],
   "source": [
    "qiime feature-table summarize \\\n",
    "--i-table FinalCat/BNW-skin-table-no-toe-SEVEREonly.qza \\\n",
    "--o-visualization FinalCat/BNW-skin-table-no-toe-SEVEREonly.qzv"
   ]
  },
  {
   "cell_type": "markdown",
   "metadata": {},
   "source": [
    "# Provide overview of ASVs for each severity type"
   ]
  },
  {
   "cell_type": "code",
   "execution_count": null,
   "metadata": {},
   "outputs": [],
   "source": [
    "qiime tools export \\\n",
    "--input-path FinalCat/BNW-skin-table-no-toe-CONFHEALTHYonly.qza \\\n",
    "--output-path FinalCat-table-no-toe-CONFHEALTHYonly.biom"
   ]
  },
  {
   "cell_type": "code",
   "execution_count": null,
   "metadata": {},
   "outputs": [],
   "source": [
    "biom convert -i FinalCat-table-no-toe-CONFHEALTHYonly.biom/feature-table.biom -o FinalCat-table-no-toe-CONFHEALTHYonly.biom/feature-table.tsv --to-tsv"
   ]
  },
  {
   "cell_type": "code",
   "execution_count": null,
   "metadata": {},
   "outputs": [],
   "source": [
    "qiime tools export \\\n",
    "--input-path FinalCat/BNW-skin-table-no-toe-MANGYonly.qza \\\n",
    "--output-path FinalCat-table-no-toe-MANGYonly.biom"
   ]
  },
  {
   "cell_type": "code",
   "execution_count": null,
   "metadata": {},
   "outputs": [],
   "source": [
    "biom convert -i FinalCat-table-no-toe-MANGYonly.biom/feature-table.biom -o FinalCat-table-no-toe-MANGYonly.biom/feature-table.tsv --to-tsv"
   ]
  },
  {
   "cell_type": "code",
   "execution_count": null,
   "metadata": {},
   "outputs": [],
   "source": [
    "qiime tools export \\\n",
    "--input-path FinalCat/BNW-skin-table-no-toe-SEVEREonly.qza \\\n",
    "--output-path FinalCat-table-no-toe-SEVEREonly.biom"
   ]
  },
  {
   "cell_type": "code",
   "execution_count": null,
   "metadata": {},
   "outputs": [],
   "source": [
    "biom convert -i FinalCat-table-no-toe-SEVEREonly.biom/feature-table.biom -o FinalCat-table-no-toe-SEVEREonly.biom/feature-table.tsv --to-tsv"
   ]
  },
  {
   "cell_type": "markdown",
   "metadata": {},
   "source": [
    "# Unique ASVs - min 3 samples due to severity groupings"
   ]
  },
  {
   "cell_type": "code",
   "execution_count": null,
   "metadata": {},
   "outputs": [],
   "source": [
    "qiime feature-table filter-features \\\n",
    "--i-table FinalCat/BNW-skin-table-no-toe-CONFHEALTHYonly.qza \\\n",
    "--o-filtered-table FinalCat/BNW-skin-table-no-toe-CONFHEALTHYonly-ms3-mf191.qza \\\n",
    "--p-min-samples 3 \\\n",
    "--p-min-frequency 191"
   ]
  },
  {
   "cell_type": "code",
   "execution_count": null,
   "metadata": {},
   "outputs": [],
   "source": [
    "qiime feature-table summarize \\\n",
    "--i-table FinalCat/BNW-skin-table-no-toe-CONFHEALTHYonly-ms3-mf191.qza \\\n",
    "--o-visualization FinalCat/BNW-skin-table-no-toe-CONFHEALTHYonly-ms3-mf191.qzv"
   ]
  },
  {
   "cell_type": "raw",
   "metadata": {},
   "source": [
    "Pre-filter Number of features: 1053 Total frequency: 1,279,549\n",
    "Post-filter Number of features: 170 Total frequency: 991,215"
   ]
  },
  {
   "cell_type": "code",
   "execution_count": null,
   "metadata": {},
   "outputs": [],
   "source": [
    "qiime feature-table filter-features \\\n",
    "--i-table FinalCat/BNW-skin-table-no-toe-MANGYonly.qza \\\n",
    "--o-filtered-table FinalCat/BNW-skin-table-no-toe-MANGYonly-ms3-mf76.qza \\\n",
    "--p-min-samples 3 \\\n",
    "--p-min-frequency 76"
   ]
  },
  {
   "cell_type": "code",
   "execution_count": null,
   "metadata": {},
   "outputs": [],
   "source": [
    "qiime feature-table summarize \\\n",
    "--i-table FinalCat/BNW-skin-table-no-toe-MANGYonly-ms3-mf76.qza \\\n",
    "--o-visualization FinalCat/BNW-skin-table-no-toe-MANGYonly-ms3-mf76.qzv"
   ]
  },
  {
   "cell_type": "raw",
   "metadata": {},
   "source": [
    "Pre-filter Number of features: 432 Total frequency: 509,165\n",
    "Post-filter Number of features: 46 Total frequency: 328,233"
   ]
  },
  {
   "cell_type": "code",
   "execution_count": null,
   "metadata": {},
   "outputs": [],
   "source": [
    "qiime feature-table filter-features \\\n",
    "--i-table FinalCat/BNW-skin-table-no-toe-SEVEREonly.qza \\\n",
    "--o-filtered-table FinalCat/BNW-skin-table-no-toe-SEVEREonly-ms3-mf87.qza \\\n",
    "--p-min-samples 3 \\\n",
    "--p-min-frequency 87"
   ]
  },
  {
   "cell_type": "code",
   "execution_count": null,
   "metadata": {},
   "outputs": [],
   "source": [
    "qiime feature-table summarize \\\n",
    "--i-table FinalCat/BNW-skin-table-no-toe-SEVEREonly-ms3-mf87.qza \\\n",
    "--o-visualization FinalCat/BNW-skin-table-no-toe-SEVEREonly-ms3-mf87.qzv"
   ]
  },
  {
   "cell_type": "raw",
   "metadata": {},
   "source": [
    "Pre-filter Number of features: 409 Total frequency: 583,534\n",
    "Post-filter Number of features: 40 Total frequency: 423,341"
   ]
  },
  {
   "cell_type": "markdown",
   "metadata": {},
   "source": [
    "# Make taxa barplots"
   ]
  },
  {
   "cell_type": "code",
   "execution_count": null,
   "metadata": {},
   "outputs": [],
   "source": [
    "qiime feature-table group \\\n",
    "--i-table FinalCat/BNW-skin-table-no-toe-CONFHEALTHYonly-ms3-mf191.qza \\\n",
    "--m-metadata-file BNW-skin-metadata.tsv \\\n",
    "--m-metadata-column wombatid \\\n",
    "--p-mode mean-ceiling \\\n",
    "--p-axis sample \\\n",
    "--o-grouped-table FinalCat/BNW-skin-table-no-toe-CONFHEALTHY-ms3-mf191-wombat-COLLAPSED.qza"
   ]
  },
  {
   "cell_type": "code",
   "execution_count": null,
   "metadata": {},
   "outputs": [],
   "source": [
    "qiime feature-table group \\\n",
    "--i-table FinalCat/BNW-skin-table-no-toe-MANGYonly-ms3-mf76.qza \\\n",
    "--m-metadata-file BNW-skin-metadata.tsv \\\n",
    "--m-metadata-column wombatid \\\n",
    "--p-mode mean-ceiling \\\n",
    "--p-axis sample \\\n",
    "--o-grouped-table FinalCat/BNW-skin-table-no-toe-MANGY-ms3-mf76-wombat-COLLAPSED.qza"
   ]
  },
  {
   "cell_type": "code",
   "execution_count": null,
   "metadata": {},
   "outputs": [],
   "source": [
    "qiime feature-table group \\\n",
    "--i-table FinalCat/BNW-skin-table-no-toe-SEVEREonly-ms3-mf87.qza \\\n",
    "--m-metadata-file BNW-skin-metadata.tsv \\\n",
    "--m-metadata-column wombatid \\\n",
    "--p-mode mean-ceiling \\\n",
    "--p-axis sample \\\n",
    "--o-grouped-table FinalCat/BNW-skin-table-no-toe-SEVERE-ms3-mf87-wombat-COLLAPSED.qza"
   ]
  },
  {
   "cell_type": "code",
   "execution_count": null,
   "metadata": {},
   "outputs": [],
   "source": [
    "qiime feature-table merge \\\n",
    "--i-tables FinalCat/BNW-skin-table-no-toe-CONFHEALTHY-ms3-mf191-wombat-COLLAPSED.qza FinalCat/BNW-skin-table-no-toe-MANGY-ms3-mf76-wombat-COLLAPSED.qza FinalCat/BNW-skin-table-no-toe-SEVERE-ms3-mf87-wombat-COLLAPSED.qza \\\n",
    "--o-merged-table FinalCat/BNW-skin-table-no-toe-wombat-COLLASPED.qza"
   ]
  }
 ],
 "metadata": {
  "kernelspec": {
   "display_name": "Python 3",
   "language": "python",
   "name": "python3"
  },
  "language_info": {
   "codemirror_mode": {
    "name": "ipython",
    "version": 3
   },
   "file_extension": ".py",
   "mimetype": "text/x-python",
   "name": "python",
   "nbconvert_exporter": "python",
   "pygments_lexer": "ipython3",
   "version": "3.8.10"
  }
 },
 "nbformat": 4,
 "nbformat_minor": 4
}
